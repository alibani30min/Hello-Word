{
  "cells": [
    {
      "cell_type": "markdown",
      "metadata": {
        "id": "view-in-github",
        "colab_type": "text"
      },
      "source": [
        "<a href=\"https://colab.research.google.com/github/alibani30min/Hello-Word/blob/master/tutorials/W1D3_MultiLayerPerceptrons/student/W1D3_Tutorial1.ipynb\" target=\"_parent\"><img src=\"https://colab.research.google.com/assets/colab-badge.svg\" alt=\"Open In Colab\"/></a>"
      ]
    },
    {
      "cell_type": "markdown",
      "metadata": {
        "execution": {},
        "id": "tDje5XXpX3QV"
      },
      "source": [
        "# Tutorial 1: Biological vs. Artificial Neural Networks\n",
        "\n",
        "**Week 1, Day 3: Multi Layer Perceptrons**\n",
        "\n",
        "**By Neuromatch Academy**\n",
        "\n",
        "__Content creators:__ Arash Ash, Surya Ganguli\n",
        "\n",
        "__Content reviewers:__ Saeed Salehi, Felix Bartsch, Yu-Fang Yang, Antoine De Comite, Melvin Selim Atay, Kelson Shilling-Scrivo\n",
        "\n",
        "__Content editors:__ Gagana B, Kelson Shilling-Scrivo, Spiros Chavlis\n",
        "\n",
        "__Production editors:__ Anoop Kulkarni, Kelson Shilling-Scrivo, Gagana B, Spiros Chavlis"
      ]
    },
    {
      "cell_type": "markdown",
      "metadata": {
        "execution": {},
        "id": "u_tEHzZvX3Qb"
      },
      "source": [
        "---\n",
        "# Tutorial objectives\n",
        "\n",
        "In this tutorial, we will explore the Multi-layer Perceptrons (MLPs). MLPs are arguably one of the most tractable models (due to their flexibility) that we can use to study deep learning fundamentals. Here we will learn why they are:\n",
        "\n",
        "* Similar to biological networks\n",
        "* Good at function approximation\n",
        "* Implemented the way they are in PyTorch"
      ]
    },
    {
      "cell_type": "code",
      "execution_count": 1,
      "metadata": {
        "cellView": "form",
        "execution": {},
        "id": "nhtchjGsX3Qc",
        "outputId": "ca99cb43-24cf-4688-94b1-3b7d3afb3cfd",
        "colab": {
          "base_uri": "https://localhost:8080/",
          "height": 519
        }
      },
      "outputs": [
        {
          "output_type": "stream",
          "name": "stdout",
          "text": [
            "If you want to download the slides: https://osf.io/download/4ye56/\n"
          ]
        },
        {
          "output_type": "execute_result",
          "data": {
            "text/plain": [
              "<IPython.lib.display.IFrame at 0x7b2b3679ba90>"
            ],
            "text/html": [
              "\n",
              "        <iframe\n",
              "            width=\"854\"\n",
              "            height=\"480\"\n",
              "            src=\"https://mfr.ca-1.osf.io/render?url=https://osf.io/4ye56/?direct%26mode=render%26action=download%26mode=render\"\n",
              "            frameborder=\"0\"\n",
              "            allowfullscreen\n",
              "            \n",
              "        ></iframe>\n",
              "        "
            ]
          },
          "metadata": {},
          "execution_count": 1
        }
      ],
      "source": [
        "# @title Tutorial slides\n",
        "from IPython.display import IFrame\n",
        "link_id = \"4ye56\"\n",
        "print(f\"If you want to download the slides: https://osf.io/download/{link_id}/\")\n",
        "IFrame(src=f\"https://mfr.ca-1.osf.io/render?url=https://osf.io/{link_id}/?direct%26mode=render%26action=download%26mode=render\", width=854, height=480)"
      ]
    },
    {
      "cell_type": "markdown",
      "metadata": {
        "execution": {},
        "id": "CL-hkrBKX3Qe"
      },
      "source": [
        "---\n",
        "# Setup\n",
        "\n",
        "This is a GPU free notebook!"
      ]
    },
    {
      "cell_type": "code",
      "execution_count": 2,
      "metadata": {
        "execution": {},
        "id": "SOYb33YHX3Qf",
        "outputId": "2cf0f543-924c-45c7-8bfa-78715d47f202",
        "colab": {
          "base_uri": "https://localhost:8080/"
        }
      },
      "outputs": [
        {
          "output_type": "stream",
          "name": "stdout",
          "text": [
            "  Preparing metadata (setup.py) ... \u001b[?25l\u001b[?25hdone\n",
            "  Preparing metadata (setup.py) ... \u001b[?25l\u001b[?25hdone\n",
            "\u001b[2K   \u001b[90m━━━━━━━━━━━━━━━━━━━━━━━━━━━━━━━━━━━━━━━━\u001b[0m \u001b[32m1.6/1.6 MB\u001b[0m \u001b[31m23.3 MB/s\u001b[0m eta \u001b[36m0:00:00\u001b[0m\n",
            "\u001b[?25h  Building wheel for vibecheck (setup.py) ... \u001b[?25l\u001b[?25hdone\n",
            "  Building wheel for datatops (setup.py) ... \u001b[?25l\u001b[?25hdone\n"
          ]
        }
      ],
      "source": [
        "# @title Install and import feedback gadget\n",
        "\n",
        "!pip3 install vibecheck datatops --quiet\n",
        "\n",
        "from vibecheck import DatatopsContentReviewContainer\n",
        "def content_review(notebook_section: str):\n",
        "    return DatatopsContentReviewContainer(\n",
        "        \"\",  # No text prompt\n",
        "        notebook_section,\n",
        "        {\n",
        "            \"url\": \"https://pmyvdlilci.execute-api.us-east-1.amazonaws.com/klab\",\n",
        "            \"name\": \"neuromatch_dl\",\n",
        "            \"user_key\": \"f379rz8y\",\n",
        "        },\n",
        "    ).render()\n",
        "\n",
        "\n",
        "feedback_prefix = \"W1D3_T1\""
      ]
    },
    {
      "cell_type": "code",
      "execution_count": 3,
      "metadata": {
        "execution": {},
        "id": "tmAEuO6SX3Qf"
      },
      "outputs": [],
      "source": [
        "# Imports\n",
        "import random\n",
        "\n",
        "import torch\n",
        "import numpy as np\n",
        "import matplotlib.pyplot as plt\n",
        "\n",
        "import torch.nn as nn\n",
        "import torch.optim as optim\n",
        "from tqdm.auto import tqdm\n",
        "from IPython.display import display\n",
        "from torch.utils.data import DataLoader, TensorDataset"
      ]
    },
    {
      "cell_type": "code",
      "execution_count": 4,
      "metadata": {
        "execution": {},
        "id": "w7f4c5tDX3Qg"
      },
      "outputs": [],
      "source": [
        "# @title Figure settings\n",
        "import logging\n",
        "logging.getLogger('matplotlib.font_manager').disabled = True\n",
        "\n",
        "import ipywidgets as widgets  # Interactive display\n",
        "%config InlineBackend.figure_format = 'retina'\n",
        "plt.style.use(\"https://raw.githubusercontent.com/NeuromatchAcademy/content-creation/main/nma.mplstyle\")"
      ]
    },
    {
      "cell_type": "code",
      "execution_count": 5,
      "metadata": {
        "execution": {},
        "id": "Jy0gnMyFX3Qg"
      },
      "outputs": [],
      "source": [
        "# @title Plotting functions\n",
        "\n",
        "def imshow(img):\n",
        "  \"\"\"\n",
        "  Helper function to plot unnormalised image\n",
        "\n",
        "  Args:\n",
        "    img: torch.tensor\n",
        "      Image to be displayed\n",
        "\n",
        "  Returns:\n",
        "    Nothing\n",
        "  \"\"\"\n",
        "  img = img / 2 + 0.5  # Unnormalize\n",
        "  npimg = img.numpy()\n",
        "  plt.imshow(np.transpose(npimg, (1, 2, 0)))\n",
        "  plt.axis(False)\n",
        "  plt.show()\n",
        "\n",
        "\n",
        "def plot_function_approximation(x, relu_acts, y_hat):\n",
        "  \"\"\"\n",
        "  Helper function to plot ReLU activations and\n",
        "  function approximations\n",
        "\n",
        "  Args:\n",
        "    x: torch.tensor\n",
        "      Incoming Data\n",
        "    relu_acts: torch.tensor\n",
        "      Computed ReLU activations for each point along the x axis (x)\n",
        "    y_hat: torch.tensor\n",
        "      Estimated labels/class predictions\n",
        "      Weighted sum of ReLU activations for every point along x axis\n",
        "\n",
        "  Returns:\n",
        "    Nothing\n",
        "  \"\"\"\n",
        "  fig, axes = plt.subplots(2, 1)\n",
        "\n",
        "  # Plot ReLU Activations\n",
        "  axes[0].plot(x, relu_acts.T);\n",
        "  axes[0].set(xlabel='x',\n",
        "              ylabel='Activation',\n",
        "              title='ReLU Activations - Basis Functions')\n",
        "  labels = [f\"ReLU {i + 1}\" for i in range(relu_acts.shape[0])]\n",
        "  axes[0].legend(labels, ncol = 2)\n",
        "\n",
        "  # Plot Function Approximation\n",
        "  axes[1].plot(x, torch.sin(x), label='truth')\n",
        "  axes[1].plot(x, y_hat, label='estimated')\n",
        "  axes[1].legend()\n",
        "  axes[1].set(xlabel='x',\n",
        "              ylabel='y(x)',\n",
        "              title='Function Approximation')\n",
        "\n",
        "  plt.tight_layout()\n",
        "  plt.show()"
      ]
    },
    {
      "cell_type": "code",
      "execution_count": 6,
      "metadata": {
        "execution": {},
        "id": "Hj3sMTwPX3Qh"
      },
      "outputs": [],
      "source": [
        "# @title Set random seed\n",
        "\n",
        "# @markdown Executing `set_seed(seed=seed)` you are setting the seed\n",
        "\n",
        "# For DL its critical to set the random seed so that students can have a\n",
        "# baseline to compare their results to expected results.\n",
        "# Read more here: https://pytorch.org/docs/stable/notes/randomness.html\n",
        "\n",
        "# Call `set_seed` function in the exercises to ensure reproducibility.\n",
        "import random\n",
        "import torch\n",
        "\n",
        "def set_seed(seed=None, seed_torch=True):\n",
        "  \"\"\"\n",
        "  Function that controls randomness. NumPy and random modules must be imported.\n",
        "\n",
        "  Args:\n",
        "    seed : Integer\n",
        "      A non-negative integer that defines the random state. Default is `None`.\n",
        "    seed_torch : Boolean\n",
        "      If `True` sets the random seed for pytorch tensors, so pytorch module\n",
        "      must be imported. Default is `True`.\n",
        "\n",
        "  Returns:\n",
        "    Nothing.\n",
        "  \"\"\"\n",
        "  if seed is None:\n",
        "    seed = np.random.choice(2 ** 32)\n",
        "  random.seed(seed)\n",
        "  np.random.seed(seed)\n",
        "  if seed_torch:\n",
        "    torch.manual_seed(seed)\n",
        "    torch.cuda.manual_seed_all(seed)\n",
        "    torch.cuda.manual_seed(seed)\n",
        "    torch.backends.cudnn.benchmark = False\n",
        "    torch.backends.cudnn.deterministic = True\n",
        "\n",
        "  print(f'Random seed {seed} has been set.')\n",
        "\n",
        "\n",
        "# In case that `DataLoader` is used\n",
        "def seed_worker(worker_id):\n",
        "  \"\"\"\n",
        "  DataLoader will reseed workers following randomness in\n",
        "  multi-process data loading algorithm.\n",
        "\n",
        "  Args:\n",
        "    worker_id: integer\n",
        "      ID of subprocess to seed. 0 means that\n",
        "      the data will be loaded in the main process\n",
        "      Refer: https://pytorch.org/docs/stable/data.html#data-loading-randomness for more details\n",
        "\n",
        "  Returns:\n",
        "    Nothing\n",
        "  \"\"\"\n",
        "  worker_seed = torch.initial_seed() % 2**32\n",
        "  np.random.seed(worker_seed)\n",
        "  random.seed(worker_seed)"
      ]
    },
    {
      "cell_type": "code",
      "execution_count": 7,
      "metadata": {
        "execution": {},
        "id": "aIj7gtrKX3Qh"
      },
      "outputs": [],
      "source": [
        "# @title Set device (GPU or CPU). Execute `set_device()`\n",
        "# especially if torch modules used.\n",
        "\n",
        "# Inform the user if the notebook uses GPU or CPU.\n",
        "# NOTE: This is mostly a GPU free tutorial.\n",
        "\n",
        "def set_device():\n",
        "  \"\"\"\n",
        "  Set the device. CUDA if available, CPU otherwise\n",
        "\n",
        "  Args:\n",
        "    None\n",
        "\n",
        "  Returns:\n",
        "    Nothing\n",
        "  \"\"\"\n",
        "  device = \"cuda\" if torch.cuda.is_available() else \"cpu\"\n",
        "  if device != \"cuda\":\n",
        "    print(\"GPU is not enabled in this notebook. \\n\"\n",
        "          \"If you want to enable it, in the menu under `Runtime` -> \\n\"\n",
        "          \"`Hardware accelerator.` and select `GPU` from the dropdown menu\")\n",
        "  else:\n",
        "    print(\"GPU is enabled in this notebook. \\n\"\n",
        "          \"If you want to disable it, in the menu under `Runtime` -> \\n\"\n",
        "          \"`Hardware accelerator.` and select `None` from the dropdown menu\")\n",
        "\n",
        "  return device"
      ]
    },
    {
      "cell_type": "code",
      "execution_count": 8,
      "metadata": {
        "execution": {},
        "id": "Dq--zStCX3Qi",
        "outputId": "9ca06670-12d3-481e-a02a-328a527550de",
        "colab": {
          "base_uri": "https://localhost:8080/"
        }
      },
      "outputs": [
        {
          "output_type": "stream",
          "name": "stdout",
          "text": [
            "Random seed 2021 has been set.\n",
            "GPU is not enabled in this notebook. \n",
            "If you want to enable it, in the menu under `Runtime` -> \n",
            "`Hardware accelerator.` and select `GPU` from the dropdown menu\n"
          ]
        }
      ],
      "source": [
        "SEED = 2021\n",
        "set_seed(seed=SEED)\n",
        "DEVICE = set_device()"
      ]
    },
    {
      "cell_type": "markdown",
      "metadata": {
        "execution": {},
        "id": "OTIVSlI1X3Qi"
      },
      "source": [
        "---\n",
        "# Section 0: Introduction to MLPs"
      ]
    },
    {
      "cell_type": "code",
      "execution_count": 9,
      "metadata": {
        "cellView": "form",
        "execution": {},
        "id": "QUDHBwlNX3Qi",
        "outputId": "bb868308-6129-496a-be64-e87dfcb561fc",
        "colab": {
          "base_uri": "https://localhost:8080/",
          "height": 581,
          "referenced_widgets": [
            "4ca56237d8e84d4fa438fb8a20a56a54",
            "b8b7b905278046ca8de59f9ade1cdbca",
            "6f72af88da6349c5829ae00d740ba0a7",
            "bf7811425f234ae5a40e19d7a19c9375",
            "734d2313dbfa4618af9ede849bec64bb",
            "d923210cbd7a433e952fc541f653b884"
          ]
        }
      },
      "outputs": [
        {
          "output_type": "display_data",
          "data": {
            "text/plain": [
              "Tab(children=(Output(), Output()), _titles={'0': 'Youtube', '1': 'Bilibili'})"
            ],
            "application/vnd.jupyter.widget-view+json": {
              "version_major": 2,
              "version_minor": 0,
              "model_id": "4ca56237d8e84d4fa438fb8a20a56a54"
            }
          },
          "metadata": {}
        }
      ],
      "source": [
        "# @title Video 0: Introduction\n",
        "from ipywidgets import widgets\n",
        "from IPython.display import YouTubeVideo\n",
        "from IPython.display import IFrame\n",
        "from IPython.display import display\n",
        "\n",
        "\n",
        "class PlayVideo(IFrame):\n",
        "  def __init__(self, id, source, page=1, width=400, height=300, **kwargs):\n",
        "    self.id = id\n",
        "    if source == 'Bilibili':\n",
        "      src = f'https://player.bilibili.com/player.html?bvid={id}&page={page}'\n",
        "    elif source == 'Osf':\n",
        "      src = f'https://mfr.ca-1.osf.io/render?url=https://osf.io/download/{id}/?direct%26mode=render'\n",
        "    super(PlayVideo, self).__init__(src, width, height, **kwargs)\n",
        "\n",
        "\n",
        "def display_videos(video_ids, W=400, H=300, fs=1):\n",
        "  tab_contents = []\n",
        "  for i, video_id in enumerate(video_ids):\n",
        "    out = widgets.Output()\n",
        "    with out:\n",
        "      if video_ids[i][0] == 'Youtube':\n",
        "        video = YouTubeVideo(id=video_ids[i][1], width=W,\n",
        "                             height=H, fs=fs, rel=0)\n",
        "        print(f'Video available at https://youtube.com/watch?v={video.id}')\n",
        "      else:\n",
        "        video = PlayVideo(id=video_ids[i][1], source=video_ids[i][0], width=W,\n",
        "                          height=H, fs=fs, autoplay=False)\n",
        "        if video_ids[i][0] == 'Bilibili':\n",
        "          print(f'Video available at https://www.bilibili.com/video/{video.id}')\n",
        "        elif video_ids[i][0] == 'Osf':\n",
        "          print(f'Video available at https://osf.io/{video.id}')\n",
        "      display(video)\n",
        "    tab_contents.append(out)\n",
        "  return tab_contents\n",
        "\n",
        "\n",
        "video_ids = [('Youtube', 'Gh0KYl7ViAc'), ('Bilibili', 'BV1E3411r7TL')]\n",
        "tab_contents = display_videos(video_ids, W=854, H=480)\n",
        "tabs = widgets.Tab()\n",
        "tabs.children = tab_contents\n",
        "for i in range(len(tab_contents)):\n",
        "  tabs.set_title(i, video_ids[i][0])\n",
        "display(tabs)"
      ]
    },
    {
      "cell_type": "code",
      "execution_count": 10,
      "metadata": {
        "cellView": "form",
        "execution": {},
        "id": "s6cW8pFJX3Qi",
        "outputId": "30c000ed-de57-404b-ac36-f17d88dfb7e5",
        "colab": {
          "base_uri": "https://localhost:8080/",
          "height": 62,
          "referenced_widgets": [
            "7d9068ccf151401fbd7e6e60665f78ea",
            "7e84057759e9453bbe2d98b78d2debea",
            "1cd42a32fc114af5bbe19d0f31bef36a",
            "7582ef5c9720439a8ec34bf4b10f2d06",
            "7c63f7dc57624c5c82fd4cc5f8359b63",
            "9264c922022245089157e4b45af33c6c",
            "679c7c983f30484fb5ded11985bdbcd3",
            "2e0a78a00f654e9997155afa8fe81d41",
            "981453f2ab0b4877b602075864ee1aba",
            "c51e2b2a79bd43e580b34a2cb239997e",
            "cf757e2cdff144a3b680ff6cbb21c99e",
            "7279b101833f4a779da2b0ed6d42545f",
            "0949cd7bd7544d1f840ddf680944b6d8",
            "cd9b3e9c19c0453ba76e559215ad8a41",
            "2ec9112f8b174180bbbf997b64823993",
            "f53d3e42a089493db99045059edaab46",
            "bbd2e25dd18c4b4597b1750e7bddf890",
            "56d603808fd34abea3923cd7e877a92a",
            "1a9cc46ce6cd403b81d410af0363afe8",
            "8fa086b912da4d64a467631f8e93638e",
            "bdf365b272b04c0eb7bf6ae651a103bd",
            "9996fed353ed4a2fb9a3c849ba2bfaea",
            "1fe61906d9fb4d35a0d1f2563bd6e929",
            "ad5508dcabdf46cab840e8c52c03c132",
            "1312a056aa5a43fc8d64c3f82a3c4316",
            "c1bd48011d294f4b901343eb79449029"
          ]
        }
      },
      "outputs": [
        {
          "output_type": "display_data",
          "data": {
            "text/plain": [
              "VBox(children=(VBox(children=(HBox(children=(Button(description='🙂', layout=Layout(height='auto', padding='0.5…"
            ],
            "application/vnd.jupyter.widget-view+json": {
              "version_major": 2,
              "version_minor": 0,
              "model_id": "7d9068ccf151401fbd7e6e60665f78ea"
            }
          },
          "metadata": {}
        }
      ],
      "source": [
        "# @title Submit your feedback\n",
        "content_review(f\"{feedback_prefix}_Introduction_Video\")"
      ]
    },
    {
      "cell_type": "markdown",
      "metadata": {
        "execution": {},
        "id": "_c9vW4O3X3Qj"
      },
      "source": [
        "---\n",
        "# Section 1: The Need for MLPs\n",
        "\n",
        "*Time estimate: ~35 mins*"
      ]
    },
    {
      "cell_type": "code",
      "execution_count": 11,
      "metadata": {
        "cellView": "form",
        "execution": {},
        "id": "u9VkJ9CkX3Qj",
        "outputId": "24169ac4-bd41-4832-f519-fff3c0a1313e",
        "colab": {
          "base_uri": "https://localhost:8080/",
          "height": 581,
          "referenced_widgets": [
            "6cc1ede8092d47e09063160413b6200d",
            "1de07beed08a440eb85423c188ca4a62",
            "1d4ad69711e1441b9196fb9ef2a1423a",
            "fcd67727fa114306bffbb3e21391382d",
            "d8d16217e4a945bd84171bb0a47c5321",
            "aceede3cdc1246819d6b771d2094370d"
          ]
        }
      },
      "outputs": [
        {
          "output_type": "display_data",
          "data": {
            "text/plain": [
              "Tab(children=(Output(), Output()), _titles={'0': 'Youtube', '1': 'Bilibili'})"
            ],
            "application/vnd.jupyter.widget-view+json": {
              "version_major": 2,
              "version_minor": 0,
              "model_id": "6cc1ede8092d47e09063160413b6200d"
            }
          },
          "metadata": {}
        }
      ],
      "source": [
        "# @title Video 1: Universal Approximation Theorem\n",
        "from ipywidgets import widgets\n",
        "from IPython.display import YouTubeVideo\n",
        "from IPython.display import IFrame\n",
        "from IPython.display import display\n",
        "\n",
        "\n",
        "class PlayVideo(IFrame):\n",
        "  def __init__(self, id, source, page=1, width=400, height=300, **kwargs):\n",
        "    self.id = id\n",
        "    if source == 'Bilibili':\n",
        "      src = f'https://player.bilibili.com/player.html?bvid={id}&page={page}'\n",
        "    elif source == 'Osf':\n",
        "      src = f'https://mfr.ca-1.osf.io/render?url=https://osf.io/download/{id}/?direct%26mode=render'\n",
        "    super(PlayVideo, self).__init__(src, width, height, **kwargs)\n",
        "\n",
        "\n",
        "def display_videos(video_ids, W=400, H=300, fs=1):\n",
        "  tab_contents = []\n",
        "  for i, video_id in enumerate(video_ids):\n",
        "    out = widgets.Output()\n",
        "    with out:\n",
        "      if video_ids[i][0] == 'Youtube':\n",
        "        video = YouTubeVideo(id=video_ids[i][1], width=W,\n",
        "                             height=H, fs=fs, rel=0)\n",
        "        print(f'Video available at https://youtube.com/watch?v={video.id}')\n",
        "      else:\n",
        "        video = PlayVideo(id=video_ids[i][1], source=video_ids[i][0], width=W,\n",
        "                          height=H, fs=fs, autoplay=False)\n",
        "        if video_ids[i][0] == 'Bilibili':\n",
        "          print(f'Video available at https://www.bilibili.com/video/{video.id}')\n",
        "        elif video_ids[i][0] == 'Osf':\n",
        "          print(f'Video available at https://osf.io/{video.id}')\n",
        "      display(video)\n",
        "    tab_contents.append(out)\n",
        "  return tab_contents\n",
        "\n",
        "\n",
        "video_ids = [('Youtube', 'tg8HHKo1aH4'), ('Bilibili', 'BV1SP4y147Uv')]\n",
        "tab_contents = display_videos(video_ids, W=854, H=480)\n",
        "tabs = widgets.Tab()\n",
        "tabs.children = tab_contents\n",
        "for i in range(len(tab_contents)):\n",
        "  tabs.set_title(i, video_ids[i][0])\n",
        "display(tabs)"
      ]
    },
    {
      "cell_type": "code",
      "execution_count": 12,
      "metadata": {
        "cellView": "form",
        "execution": {},
        "id": "-IEWxsMgX3Qj",
        "outputId": "c704a914-b8a9-4fca-fb83-f9099be5b365",
        "colab": {
          "base_uri": "https://localhost:8080/",
          "height": 62,
          "referenced_widgets": [
            "99f2c2dadb64412dacc9f75b4fdf1fe5",
            "bd44801222d445cabf7912c482725810",
            "79e11697f0a74a29a39206c9d79141b8",
            "ee10f1e98cb6495886bdbb094a43d3ac",
            "a2ed45753775474bb44d5891eba88682",
            "cc1bc30539a2464ebd384eecb4a897c1",
            "2d954fb77ff04d0dadf6a9ba357367e9",
            "459f397166154c3a9829c3f6283d620d",
            "5f9f81aea0c44f0faeb229dd03e65471",
            "c8f542c742374ddfac7667567724e69c",
            "8300c3e9ec93483b94044a2c287e2fd6",
            "cdade1b036234e1db1873d3779399777",
            "cd0e51070b924748969a1abde3e40213",
            "63136a544a3f439391b81b9e473cb649",
            "23475f2fb8324c559cc43e479af1d782",
            "552f84db801f483091e553fc63b8b176",
            "3e81ea1dc3d7427b9c751fb97d792f43",
            "edecfe68400746a49b5ba08df84ebce2",
            "4265597c5a864baa838e7bb5eb92b670",
            "13bb8183c2214cf0a9aa49c7e9dfad70",
            "f5de9b5de26e43759ad6e0ea199778e0",
            "359ac1f0496b4b6981b19fea27d5e8a6",
            "f5d21aab6dc84bba8b1cdd169a8cf6e7",
            "c8019b4d759a4438a56b2b18e97a3da5",
            "bd74d486e5684572b64a805b4fc35f33",
            "c0368e0a3f824a889ffb0879cb2ac146"
          ]
        }
      },
      "outputs": [
        {
          "output_type": "display_data",
          "data": {
            "text/plain": [
              "VBox(children=(VBox(children=(HBox(children=(Button(description='🙂', layout=Layout(height='auto', padding='0.5…"
            ],
            "application/vnd.jupyter.widget-view+json": {
              "version_major": 2,
              "version_minor": 0,
              "model_id": "99f2c2dadb64412dacc9f75b4fdf1fe5"
            }
          },
          "metadata": {}
        }
      ],
      "source": [
        "# @title Submit your feedback\n",
        "content_review(f\"{feedback_prefix}_Universal_Approximation_Theorem_Video\")"
      ]
    },
    {
      "cell_type": "markdown",
      "metadata": {
        "execution": {},
        "id": "WSj5wawAX3Qj"
      },
      "source": [
        "## Coding Exercise 1: Function approximation with ReLU\n",
        "Through the Universal Approximation Algorithm, we learned that one hidden layer MLPs are enough to approximate any smooth function! Now let's manually fit a sine function using ReLU activation.\n",
        "\n",
        "We will approximate the sine function using a linear combination (a weighted sum) of ReLUs with slope 1. We need to determine the bias terms (which determines where the ReLU inflection point from 0 to linear occurs) and how to weight each ReLU. The idea is to set the weights iteratively so that the slope changes in the new sample's direction.\n",
        "\n",
        "First, we generate our \"training data\" from a sine function using `torch.sine` function.\n",
        "\n",
        "```python\n",
        ">>> import torch\n",
        ">>> torch.manual_seed(2021)\n",
        "<torch._C.Generator object at 0x7f8734c83830>\n",
        ">>> a = torch.randn(5)\n",
        ">>> print(a)\n",
        "tensor([ 2.2871,  0.6413, -0.8615, -0.3649, -0.6931])\n",
        ">>> torch.sin(a)\n",
        "tensor([ 0.7542,  0.5983, -0.7588, -0.3569, -0.6389])\n",
        "```\n",
        "\n",
        "These are the points we will use to learn how to approximate the function. We have 10 training data points so we will have 9 ReLUs (we don't need a ReLU for the last data point as we don't have anything to the right of it to model).\n",
        "\n",
        "We first need to figure out the bias term for each ReLU and compute the activation of each ReLU where:\n",
        "\n",
        "\\begin{equation}\n",
        "  y(x) = \\text{max}(0, x+b)\n",
        "\\end{equation}\n",
        "\n",
        "We then need to figure out the correct weights on each ReLU so the linear combination approximates the desired function."
      ]
    },
    {
      "cell_type": "code",
      "execution_count": 15,
      "metadata": {
        "execution": {},
        "id": "GDCezVtgX3Qj",
        "outputId": "21a79e3a-5830-4903-973d-01ba3655d37a",
        "colab": {
          "base_uri": "https://localhost:8080/",
          "height": 799
        }
      },
      "outputs": [
        {
          "output_type": "stream",
          "name": "stdout",
          "text": [
            "torch.Size([1000])\n",
            "tensor([[0.0000],\n",
            "        [0.6981],\n",
            "        [1.3963],\n",
            "        [2.0944],\n",
            "        [2.7925],\n",
            "        [3.4907],\n",
            "        [4.1888],\n",
            "        [4.8869],\n",
            "        [5.5851]])\n",
            "torch.Size([9, 1])\n",
            "torch.Size([9, 1000])\n"
          ]
        },
        {
          "output_type": "display_data",
          "data": {
            "text/plain": [
              "<Figure size 800x600 with 2 Axes>"
            ],
            "image/png": "[encoded data removed]"
          },
          "metadata": {
            "image/png": {
              "width": 759,
              "height": 574
            }
          }
        }
      ],
      "source": [
        "def approximate_function(x_train, y_train):\n",
        "  \"\"\"\n",
        "  Function to compute and combine ReLU activations\n",
        "\n",
        "  Args:\n",
        "    x_train: torch.tensor\n",
        "      Training data\n",
        "    y_train: torch.tensor\n",
        "      Ground truth labels corresponding to training data\n",
        "\n",
        "  Returns:\n",
        "    relu_acts: torch.tensor\n",
        "      Computed ReLU activations for each point along the x axis (x)\n",
        "    y_hat: torch.tensor\n",
        "      Estimated labels/class predictions\n",
        "      Weighted sum of ReLU activations for every point along x axis\n",
        "    x: torch.tensor\n",
        "      x-axis points\n",
        "  \"\"\"\n",
        "  ####################################################################\n",
        "  # Fill in missing code below (...),\n",
        "  # then remove or comment the line below to test your function\n",
        "  #raise NotImplementedError(\"Complete approximate_function!\")\n",
        "  ####################################################################\n",
        "\n",
        "  # Number of relus\n",
        "  n_relus = x_train.shape[0] - 1\n",
        "\n",
        "  # x axis points (more than x train)\n",
        "  x = torch.linspace(torch.min(x_train), torch.max(x_train), 1000)\n",
        "  print(x.shape)\n",
        "\n",
        "  ## COMPUTE RELU ACTIVATIONS\n",
        "\n",
        "  # First determine what bias terms should be for each of `n_relus` ReLUs\n",
        "  b = x_train[:-1]\n",
        "  print(b)\n",
        "  print(b.shape)\n",
        "\n",
        "  # Compute ReLU activations for each point along the x axis (x)\n",
        "  relu_acts = torch.zeros((n_relus, x.shape[0]))\n",
        "  print(relu_acts.shape)\n",
        "\n",
        "  for i_relu in range(n_relus):\n",
        "    relu_acts[i_relu, :] = torch.relu(x + b[i_relu])\n",
        "\n",
        "  ## COMBINE RELU ACTIVATIONS\n",
        "\n",
        "  # Set up weights for weighted sum of ReLUs\n",
        "  combination_weights = torch.zeros((n_relus, ))\n",
        "\n",
        "  # Figure out weights on each ReLU\n",
        "  prev_slope = 0\n",
        "  for i in range(n_relus):\n",
        "    delta_x = x_train[i+1] - x_train[i]\n",
        "    slope = (y_train[i+1] - y_train[i]) / delta_x\n",
        "    combination_weights[i] = slope - prev_slope\n",
        "    prev_slope = slope\n",
        "\n",
        "  # Get output of weighted sum of ReLU activations for every point along x axis\n",
        "  y_hat = torch.zeros(x.shape[0])\n",
        "  for i in range(n_relus):\n",
        "    y_hat += combination_weights[i] * relu_acts[i, :]\n",
        "\n",
        "  return y_hat, relu_acts, x\n",
        "\n",
        "\n",
        "\n",
        "# Make training data from sine function\n",
        "N_train = 10\n",
        "x_train = torch.linspace(0, 2*np.pi, N_train).view(-1, 1)\n",
        "y_train = torch.sin(x_train)\n",
        "\n",
        "## Uncomment the lines below to test your function approximation\n",
        "y_hat, relu_acts, x = approximate_function(x_train, y_train)\n",
        "plot_function_approximation(x, relu_acts, y_hat)"
      ]
    },
    {
      "cell_type": "markdown",
      "metadata": {
        "execution": {},
        "id": "WJ4lmV5CX3Qk"
      },
      "source": [
        "[*Click for solution*](https://github.com/NeuromatchAcademy/course-content-dl/tree/main/tutorials/W1D3_MultiLayerPerceptrons/solutions/W1D3_Tutorial1_Solution_d38a6c69.py)\n",
        "\n",
        "*Example output:*\n",
        "\n",
        "<img alt='Solution hint' align='left' width=777.0 height=578.0 src=https://raw.githubusercontent.com/NeuromatchAcademy/course-content-dl/main/tutorials/W1D3_MultiLayerPerceptrons/static/W1D3_Tutorial1_Solution_d38a6c69_0.png>\n",
        "\n"
      ]
    },
    {
      "cell_type": "markdown",
      "metadata": {
        "execution": {},
        "id": "H4ALw07EX3Qk"
      },
      "source": [
        "As you see in the top panel, we obtain 10 shifted ReLUs with the same slope. These are the basis functions that MLP uses to span the functional space, i.e., MLP finds a linear combination of these ReLUs."
      ]
    },
    {
      "cell_type": "code",
      "execution_count": null,
      "metadata": {
        "cellView": "form",
        "execution": {},
        "id": "Oz03HDagX3Qk"
      },
      "outputs": [],
      "source": [
        "# @title Submit your feedback\n",
        "content_review(f\"{feedback_prefix}_Function_approximation_with_ReLU_Exercise\")"
      ]
    },
    {
      "cell_type": "markdown",
      "metadata": {
        "execution": {},
        "id": "7_UYbiJQX3Qk"
      },
      "source": [
        "---\n",
        "# Section 2: MLPs in PyTorch\n",
        "\n",
        "*Time estimate: ~1hr and 20 mins*"
      ]
    },
    {
      "cell_type": "code",
      "execution_count": null,
      "metadata": {
        "cellView": "form",
        "execution": {},
        "id": "afOFHS7eX3Qk"
      },
      "outputs": [],
      "source": [
        "# @title Video 2: Building MLPs in PyTorch\n",
        "from ipywidgets import widgets\n",
        "from IPython.display import YouTubeVideo\n",
        "from IPython.display import IFrame\n",
        "from IPython.display import display\n",
        "\n",
        "\n",
        "class PlayVideo(IFrame):\n",
        "  def __init__(self, id, source, page=1, width=400, height=300, **kwargs):\n",
        "    self.id = id\n",
        "    if source == 'Bilibili':\n",
        "      src = f'https://player.bilibili.com/player.html?bvid={id}&page={page}'\n",
        "    elif source == 'Osf':\n",
        "      src = f'https://mfr.ca-1.osf.io/render?url=https://osf.io/download/{id}/?direct%26mode=render'\n",
        "    super(PlayVideo, self).__init__(src, width, height, **kwargs)\n",
        "\n",
        "\n",
        "def display_videos(video_ids, W=400, H=300, fs=1):\n",
        "  tab_contents = []\n",
        "  for i, video_id in enumerate(video_ids):\n",
        "    out = widgets.Output()\n",
        "    with out:\n",
        "      if video_ids[i][0] == 'Youtube':\n",
        "        video = YouTubeVideo(id=video_ids[i][1], width=W,\n",
        "                             height=H, fs=fs, rel=0)\n",
        "        print(f'Video available at https://youtube.com/watch?v={video.id}')\n",
        "      else:\n",
        "        video = PlayVideo(id=video_ids[i][1], source=video_ids[i][0], width=W,\n",
        "                          height=H, fs=fs, autoplay=False)\n",
        "        if video_ids[i][0] == 'Bilibili':\n",
        "          print(f'Video available at https://www.bilibili.com/video/{video.id}')\n",
        "        elif video_ids[i][0] == 'Osf':\n",
        "          print(f'Video available at https://osf.io/{video.id}')\n",
        "      display(video)\n",
        "    tab_contents.append(out)\n",
        "  return tab_contents\n",
        "\n",
        "\n",
        "video_ids = [('Youtube', 'XtwLnaYJ7uc'), ('Bilibili', 'BV1zh411z7LY')]\n",
        "tab_contents = display_videos(video_ids, W=854, H=480)\n",
        "tabs = widgets.Tab()\n",
        "tabs.children = tab_contents\n",
        "for i in range(len(tab_contents)):\n",
        "  tabs.set_title(i, video_ids[i][0])\n",
        "display(tabs)"
      ]
    },
    {
      "cell_type": "code",
      "execution_count": null,
      "metadata": {
        "cellView": "form",
        "execution": {},
        "id": "v76elqBmX3Qk"
      },
      "outputs": [],
      "source": [
        "# @title Submit your feedback\n",
        "content_review(f\"{feedback_prefix}_Building_MLPs_in_PyTorch_Video\")"
      ]
    },
    {
      "cell_type": "markdown",
      "metadata": {
        "execution": {},
        "id": "XDusDh2TX3Qk"
      },
      "source": [
        "In the previous segment, we implemented a function to approximate any smooth function using MLPs. We saw that using Lipschitz continuity; We can prove that our approximation is mathematically correct. MLPs are fascinating, but before we get into the details on designing them, let's familiarize ourselves with some basic terminology of MLPs - layer, neuron, depth, width, weight, bias, and activation function. Armed with these ideas, we can now design an MLP given its input, hidden layers, and output size."
      ]
    },
    {
      "cell_type": "markdown",
      "metadata": {
        "execution": {},
        "id": "wEsJAZNTX3Qk"
      },
      "source": [
        "## Coding Exercise 2: Implement a general-purpose MLP in Pytorch\n",
        "The objective is to design an MLP with these properties:\n",
        "* Works with any input (1D, 2D, etc.)\n",
        "* Construct any number of given hidden layers using `nn.Sequential()` and `add_module()` function\n",
        "* Use the same given activation function (i.e., [Leaky ReLU](https://pytorch.org/docs/stable/generated/torch.nn.LeakyReLU.html)) in all hidden layers\n",
        "\n",
        "**Leaky ReLU** is described by the following mathematical formula:\n",
        "\n",
        "\\begin{align}\n",
        "\\text{LeakyReLU}(x) &= \\text{max}(0,x) + \\text{negative_slope} \\cdot \\text{min}(0, x) \\\\\n",
        "&=\n",
        "\\left\\{\n",
        "  \\begin{array}{ll}\n",
        "  x & ,\\; \\text{if} \\; x \\ge 0 \\\\\n",
        "  \\text{negative_slope} \\cdot x & ,\\;  \\text{otherwise}\n",
        "  \\end{array}\n",
        "\\right.\n",
        "\\end{align}"
      ]
    },
    {
      "cell_type": "code",
      "execution_count": 21,
      "metadata": {
        "execution": {},
        "id": "xapAGXaOX3Qk"
      },
      "outputs": [],
      "source": [
        "class Net(nn.Module):\n",
        "  \"\"\"\n",
        "  Initialize MLP Network\n",
        "  \"\"\"\n",
        "\n",
        "  def __init__(self, actv, input_feature_num, hidden_unit_nums, output_feature_num):\n",
        "    \"\"\"\n",
        "    Initialize MLP Network parameters\n",
        "\n",
        "    Args:\n",
        "      actv: string\n",
        "        Activation function\n",
        "      input_feature_num: int\n",
        "        Number of input features\n",
        "      hidden_unit_nums: list\n",
        "        Number of units per hidden layer, list of integers\n",
        "      output_feature_num: int\n",
        "        Number of output features\n",
        "\n",
        "    Returns:\n",
        "      Nothing\n",
        "    \"\"\"\n",
        "    super(Net, self).__init__()\n",
        "    self.input_feature_num = input_feature_num # Save the input size for reshaping later\n",
        "    self.mlp = nn.Sequential() # Initialize layers of MLP\n",
        "\n",
        "    in_num = input_feature_num # Initialize the temporary input feature to each layer\n",
        "    for i in range(len(hidden_unit_nums)): # Loop over layers and create each one\n",
        "\n",
        "      ####################################################################\n",
        "      # Fill in missing code below (...),\n",
        "      # Then remove or comment the line below to test your function\n",
        "      #raise NotImplementedError(\"Create MLP Layer\")\n",
        "      ####################################################################\n",
        "\n",
        "      out_num = hidden_unit_nums[i] # Assign the current layer hidden unit from list\n",
        "      layer = nn.Linear(input_feature_num,out_num) # Use nn.Linear to define the layer\n",
        "      in_num = out_num # Assign next layer input using current layer output\n",
        "      self.mlp.add_module('Linear_%d'%i, layer) # Append layer to the model with a name\n",
        "\n",
        "      actv_layer = eval('nn.%s'%actv) # Assign activation function (eval allows us to instantiate object from string)\n",
        "      self.mlp.add_module('Activation_%d'%i, actv_layer) # Append activation to the model with a name\n",
        "\n",
        "    out_layer = nn.Linear(in_num, output_feature_num) # Create final layer\n",
        "    self.mlp.add_module('Output_Linear', out_layer) # Append the final layer\n",
        "\n",
        "  def forward(self, x):\n",
        "    \"\"\"\n",
        "    Simulate forward pass of MLP Network\n",
        "\n",
        "    Args:\n",
        "      x: torch.tensor\n",
        "        Input data\n",
        "\n",
        "    Returns:\n",
        "      logits: Instance of MLP\n",
        "        Forward pass of MLP\n",
        "    \"\"\"\n",
        "    # Reshape inputs to (batch_size, input_feature_num)\n",
        "    # Just in case the input vector is not 2D, like an image!\n",
        "    x = x.view(-1, self.input_feature_num)\n",
        "\n",
        "    ####################################################################\n",
        "    # Fill in missing code below (...),\n",
        "    # then remove or comment the line below to test your function\n",
        "    #raise NotImplementedError(\"Run MLP model\")\n",
        "    ####################################################################\n",
        "\n",
        "    logits = self.mlp # Forward pass of MLP\n",
        "    return logits\n",
        "\n",
        "\n",
        "\n",
        "input = torch.zeros((100, 2))\n",
        "## Uncomment below to create network and test it on input\n",
        "net = Net(actv='LeakyReLU(0.1)', input_feature_num=2, hidden_unit_nums=[100, 10, 5], output_feature_num=1).to(DEVICE)\n",
        "y = net(input.to(DEVICE))\n",
        "#print(f'The output shape is {y.shape} for an input of shape {input.shape}')"
      ]
    },
    {
      "cell_type": "markdown",
      "metadata": {
        "execution": {},
        "id": "IoKE7KtzX3Ql"
      },
      "source": [
        "[*Click for solution*](https://github.com/NeuromatchAcademy/course-content-dl/tree/main/tutorials/W1D3_MultiLayerPerceptrons/solutions/W1D3_Tutorial1_Solution_a1ac91af.py)\n",
        "\n"
      ]
    },
    {
      "cell_type": "markdown",
      "metadata": {
        "execution": {},
        "id": "OwK4cr7tX3Ql"
      },
      "source": [
        "```\n",
        "The output shape is torch.Size([100, 1]) for an input of shape torch.Size([100, 2])\n",
        "```"
      ]
    },
    {
      "cell_type": "code",
      "execution_count": null,
      "metadata": {
        "cellView": "form",
        "execution": {},
        "id": "JPP6XYKiX3Ql"
      },
      "outputs": [],
      "source": [
        "# @title Submit your feedback\n",
        "content_review(f\"{feedback_prefix}_Implement_a_general_purpose_MLP_in_PyTorch_Exercise\")"
      ]
    },
    {
      "cell_type": "markdown",
      "metadata": {
        "execution": {},
        "id": "6l_MYwMsX3Ql"
      },
      "source": [
        "## Section 2.1: Classification with MLPs"
      ]
    },
    {
      "cell_type": "code",
      "execution_count": null,
      "metadata": {
        "cellView": "form",
        "execution": {},
        "id": "lrI0P942X3Ql"
      },
      "outputs": [],
      "source": [
        "# @title Video 3: Cross Entropy\n",
        "from ipywidgets import widgets\n",
        "from IPython.display import YouTubeVideo\n",
        "from IPython.display import IFrame\n",
        "from IPython.display import display\n",
        "\n",
        "\n",
        "class PlayVideo(IFrame):\n",
        "  def __init__(self, id, source, page=1, width=400, height=300, **kwargs):\n",
        "    self.id = id\n",
        "    if source == 'Bilibili':\n",
        "      src = f'https://player.bilibili.com/player.html?bvid={id}&page={page}'\n",
        "    elif source == 'Osf':\n",
        "      src = f'https://mfr.ca-1.osf.io/render?url=https://osf.io/download/{id}/?direct%26mode=render'\n",
        "    super(PlayVideo, self).__init__(src, width, height, **kwargs)\n",
        "\n",
        "\n",
        "def display_videos(video_ids, W=400, H=300, fs=1):\n",
        "  tab_contents = []\n",
        "  for i, video_id in enumerate(video_ids):\n",
        "    out = widgets.Output()\n",
        "    with out:\n",
        "      if video_ids[i][0] == 'Youtube':\n",
        "        video = YouTubeVideo(id=video_ids[i][1], width=W,\n",
        "                             height=H, fs=fs, rel=0)\n",
        "        print(f'Video available at https://youtube.com/watch?v={video.id}')\n",
        "      else:\n",
        "        video = PlayVideo(id=video_ids[i][1], source=video_ids[i][0], width=W,\n",
        "                          height=H, fs=fs, autoplay=False)\n",
        "        if video_ids[i][0] == 'Bilibili':\n",
        "          print(f'Video available at https://www.bilibili.com/video/{video.id}')\n",
        "        elif video_ids[i][0] == 'Osf':\n",
        "          print(f'Video available at https://osf.io/{video.id}')\n",
        "      display(video)\n",
        "    tab_contents.append(out)\n",
        "  return tab_contents\n",
        "\n",
        "\n",
        "video_ids = [('Youtube', 'N8pVCbTlves'), ('Bilibili', 'BV1Ag41177mB')]\n",
        "tab_contents = display_videos(video_ids, W=854, H=480)\n",
        "tabs = widgets.Tab()\n",
        "tabs.children = tab_contents\n",
        "for i in range(len(tab_contents)):\n",
        "  tabs.set_title(i, video_ids[i][0])\n",
        "display(tabs)"
      ]
    },
    {
      "cell_type": "code",
      "execution_count": null,
      "metadata": {
        "cellView": "form",
        "execution": {},
        "id": "Z70JXxn4X3Ql"
      },
      "outputs": [],
      "source": [
        "# @title Submit your feedback\n",
        "content_review(f\"{feedback_prefix}_Cross_Entropy_Video\")"
      ]
    },
    {
      "cell_type": "markdown",
      "metadata": {
        "execution": {},
        "id": "MdsldHSQX3Ql"
      },
      "source": [
        "The main loss function we could use out of the box for multi-class classification for `N` samples and `C` number of classes is:\n",
        "\n",
        "* **CrossEntropyLoss**:\n",
        "This criterion expects a batch of predictions `x` with shape `(N, C)` and class index in the range $[0, C-1]$ as the target (label) for each `N` samples, hence a batch of `labels` with shape `(N, )`. There are other optional parameters like class weights and class ignores. Feel free to check the PyTorch documentation [here](https://pytorch.org/docs/stable/generated/torch.nn.CrossEntropyLoss.html) for more detail. Additionally, [here](https://sparrow.dev/cross-entropy-loss-in-pytorch/) you can learn where is appropriate to use the CrossEntropyLoss.\n",
        "\n",
        "To get CrossEntropyLoss of a sample $i$, we could first calculate $-\\log(\\text{softmax}(x))$ and then take the element corresponding to $\\text {labels}_i$ as the loss. However, due to numerical stability, we implement this more stable equivalent form,\n",
        "\n",
        "\\begin{equation}\n",
        "\\operatorname{loss}(x_i, \\text {labels}_i)=-\\log \\left(\\frac{\\exp (x[\\text {labels}_i])}{\\sum_{j} \\exp (x[j])}\\right)=-x_i[\\text {labels}_i]+\\log \\left(\\sum_{j=1}^C \\exp (x_i[j])\\right)\n",
        "\\end{equation}"
      ]
    },
    {
      "cell_type": "markdown",
      "metadata": {
        "execution": {},
        "id": "0h5ckcmUX3Qm"
      },
      "source": [
        "### Coding Exercise 2.1: Implement Batch Cross Entropy Loss\n",
        "\n",
        "To recap, since we will be doing batch learning, we'd like a loss function that given:\n",
        "* A batch of predictions `x` with shape `(N, C)`\n",
        "* A batch of `labels` with shape `(N, )` that ranges from `0` to `C-1`\n",
        "\n",
        "Returns the average loss $L$ calculated according to:\n",
        "\n",
        "\\begin{align}\n",
        "\\text{loss}(x_i, \\text {labels}_i) &= -x_i[\\text {labels}_i]+\\log \\left(\\sum_{j=1}^C \\exp (x_i[j])\\right) \\\\\n",
        "L &= \\frac{1}{N} \\sum_{i=1}^{N}{\\text{loss}(x_i, \\text {labels}_i)}\n",
        "\\end{align}\n",
        "\n",
        "Steps:\n",
        "\n",
        "1.   Use indexing operation to get predictions of class corresponding to the labels (i.e., $x_i[\\text { labels }_i]$)\n",
        "2.   Compute $loss(x_i, \\text { labels }_i)$ vector (`losses`) using `torch.log()` and `torch.exp()` without Loops!\n",
        "3. Return the average of the loss vector"
      ]
    },
    {
      "cell_type": "code",
      "execution_count": null,
      "metadata": {
        "execution": {},
        "id": "Mrmk4phnX3Qm"
      },
      "outputs": [],
      "source": [
        "def cross_entropy_loss(x, labels):\n",
        "  \"\"\"\n",
        "  Helper function to compute cross entropy loss\n",
        "\n",
        "  Args:\n",
        "    x: torch.tensor\n",
        "      Model predictions we'd like to evaluate using labels\n",
        "    labels: torch.tensor\n",
        "      Ground truth\n",
        "\n",
        "  Returns:\n",
        "    avg_loss: float\n",
        "      Average of the loss vector\n",
        "  \"\"\"\n",
        "  x_of_labels = torch.zeros(len(labels))\n",
        "  ####################################################################\n",
        "  # Fill in missing code below (...),\n",
        "  # then remove or comment the line below to test your function\n",
        "  raise NotImplementedError(\"Cross Entropy Loss\")\n",
        "  ####################################################################\n",
        "  # 1. Prediction for each class corresponding to the label\n",
        "  for i, label in enumerate(labels):\n",
        "    x_of_labels[i] = x[i, label]\n",
        "  # 2. Loss vector for the batch\n",
        "  losses = ...\n",
        "  # 3. Return the average of the loss vector\n",
        "  avg_loss = ...\n",
        "\n",
        "  return avg_loss\n",
        "\n",
        "\n",
        "\n",
        "labels = torch.tensor([0, 1])\n",
        "x = torch.tensor([[10.0, 1.0, -1.0, -20.0],  # Correctly classified\n",
        "                  [10.0, 10.0, 2.0, -10.0]])  # Not correctly classified\n",
        "CE = nn.CrossEntropyLoss()\n",
        "pytorch_loss = CE(x, labels).item()\n",
        "## Uncomment below to test your function\n",
        "# our_loss = cross_entropy_loss(x, labels).item()\n",
        "# print(f'Our CE loss: {our_loss:0.8f}, Pytorch CE loss: {pytorch_loss:0.8f}')\n",
        "# print(f'Difference: {np.abs(our_loss - pytorch_loss):0.8f}')"
      ]
    },
    {
      "cell_type": "markdown",
      "metadata": {
        "execution": {},
        "id": "ZdQbpufXX3Qm"
      },
      "source": [
        "[*Click for solution*](https://github.com/NeuromatchAcademy/course-content-dl/tree/main/tutorials/W1D3_MultiLayerPerceptrons/solutions/W1D3_Tutorial1_Solution_4049041f.py)\n",
        "\n"
      ]
    },
    {
      "cell_type": "markdown",
      "metadata": {
        "execution": {},
        "id": "WKY20W_GX3Qm"
      },
      "source": [
        "```\n",
        "Our CE loss: 0.34672737, Pytorch CE loss: 0.34672749\n",
        "Difference: 0.00000012\n",
        "```"
      ]
    },
    {
      "cell_type": "code",
      "execution_count": null,
      "metadata": {
        "cellView": "form",
        "execution": {},
        "id": "UGAYNvR8X3Q5"
      },
      "outputs": [],
      "source": [
        "# @title Submit your feedback\n",
        "content_review(f\"{feedback_prefix}_Implement_Batch_Cross_Entropy_Loss_Exercise\")"
      ]
    },
    {
      "cell_type": "markdown",
      "metadata": {
        "execution": {},
        "id": "vOMC56J5X3Q5"
      },
      "source": [
        "## Section 2.2: Spiral Classification Dataset\n",
        "Before we could start optimizing these loss functions, we need a dataset!\n",
        "\n",
        "Let's turn this fancy-looking equation into a classification dataset"
      ]
    },
    {
      "cell_type": "markdown",
      "metadata": {
        "execution": {},
        "id": "2TOs7qVnX3Q5"
      },
      "source": [
        "\\begin{equation}\n",
        "\\begin{array}{c}\n",
        "X_{k}(t)=t\\left(\\begin{array}{c}\n",
        "\\sin \\left[\\frac{2 \\pi}{K}\\left(2 t+k-1\\right)\\right]+\\mathcal{N}\\left(0, \\sigma\\right) \\\\\n",
        "\\cos \\left[\\frac{2 \\pi}{K}\\left(2 t+k-1\\right)\\right]+\\mathcal{N}\\left(0, \\sigma\\right)\n",
        "\\end{array}\\right)\n",
        "\\end{array}, \\quad 0 \\leq t \\leq 1, \\quad k=1, \\ldots, K\n",
        "\\end{equation}"
      ]
    },
    {
      "cell_type": "code",
      "execution_count": null,
      "metadata": {
        "execution": {},
        "id": "D1wvT8QaX3Q5"
      },
      "outputs": [],
      "source": [
        "def create_spiral_dataset(K, sigma, N):\n",
        "  \"\"\"\n",
        "  Function to simulate spiral dataset\n",
        "\n",
        "  Args:\n",
        "    K: int\n",
        "      Number of classes\n",
        "    sigma: float\n",
        "      Standard deviation\n",
        "    N: int\n",
        "      Number of data points\n",
        "\n",
        "  Returns:\n",
        "    X: torch.tensor\n",
        "      Spiral data\n",
        "    y: torch.tensor\n",
        "      Corresponding ground truth\n",
        "  \"\"\"\n",
        "\n",
        "  # Initialize t, X, y\n",
        "  t = torch.linspace(0, 1, N)\n",
        "  X = torch.zeros(K*N, 2)\n",
        "  y = torch.zeros(K*N)\n",
        "\n",
        "  # Create data\n",
        "  for k in range(K):\n",
        "    X[k*N:(k+1)*N, 0] = t*(torch.sin(2*np.pi/K*(2*t+k)) + sigma*torch.randn(N))\n",
        "    X[k*N:(k+1)*N, 1] = t*(torch.cos(2*np.pi/K*(2*t+k)) + sigma*torch.randn(N))\n",
        "    y[k*N:(k+1)*N] = k\n",
        "\n",
        "  return X, y\n",
        "\n",
        "\n",
        "# Set parameters\n",
        "K = 4\n",
        "sigma = 0.16\n",
        "N = 1000\n",
        "\n",
        "set_seed(seed=SEED)\n",
        "X, y = create_spiral_dataset(K, sigma, N)\n",
        "plt.scatter(X[:, 0], X[:, 1], c = y)\n",
        "plt.xlabel('x1')\n",
        "plt.ylabel('x2')\n",
        "plt.show()"
      ]
    },
    {
      "cell_type": "markdown",
      "metadata": {
        "execution": {},
        "id": "HIypZN6gX3Q6"
      },
      "source": [
        "## Section 2.3: Training and Evaluation"
      ]
    },
    {
      "cell_type": "code",
      "execution_count": null,
      "metadata": {
        "cellView": "form",
        "execution": {},
        "id": "uD947wm7X3Q6"
      },
      "outputs": [],
      "source": [
        "# @title Video 4: Training and Evaluating an MLP\n",
        "from ipywidgets import widgets\n",
        "from IPython.display import YouTubeVideo\n",
        "from IPython.display import IFrame\n",
        "from IPython.display import display\n",
        "\n",
        "\n",
        "class PlayVideo(IFrame):\n",
        "  def __init__(self, id, source, page=1, width=400, height=300, **kwargs):\n",
        "    self.id = id\n",
        "    if source == 'Bilibili':\n",
        "      src = f'https://player.bilibili.com/player.html?bvid={id}&page={page}'\n",
        "    elif source == 'Osf':\n",
        "      src = f'https://mfr.ca-1.osf.io/render?url=https://osf.io/download/{id}/?direct%26mode=render'\n",
        "    super(PlayVideo, self).__init__(src, width, height, **kwargs)\n",
        "\n",
        "\n",
        "def display_videos(video_ids, W=400, H=300, fs=1):\n",
        "  tab_contents = []\n",
        "  for i, video_id in enumerate(video_ids):\n",
        "    out = widgets.Output()\n",
        "    with out:\n",
        "      if video_ids[i][0] == 'Youtube':\n",
        "        video = YouTubeVideo(id=video_ids[i][1], width=W,\n",
        "                             height=H, fs=fs, rel=0)\n",
        "        print(f'Video available at https://youtube.com/watch?v={video.id}')\n",
        "      else:\n",
        "        video = PlayVideo(id=video_ids[i][1], source=video_ids[i][0], width=W,\n",
        "                          height=H, fs=fs, autoplay=False)\n",
        "        if video_ids[i][0] == 'Bilibili':\n",
        "          print(f'Video available at https://www.bilibili.com/video/{video.id}')\n",
        "        elif video_ids[i][0] == 'Osf':\n",
        "          print(f'Video available at https://osf.io/{video.id}')\n",
        "      display(video)\n",
        "    tab_contents.append(out)\n",
        "  return tab_contents\n",
        "\n",
        "\n",
        "video_ids = [('Youtube', 'DfXZhRfBEqQ'), ('Bilibili', 'BV1QV411p7mF')]\n",
        "tab_contents = display_videos(video_ids, W=854, H=480)\n",
        "tabs = widgets.Tab()\n",
        "tabs.children = tab_contents\n",
        "for i in range(len(tab_contents)):\n",
        "  tabs.set_title(i, video_ids[i][0])\n",
        "display(tabs)"
      ]
    },
    {
      "cell_type": "code",
      "execution_count": null,
      "metadata": {
        "cellView": "form",
        "execution": {},
        "id": "C-VPexNGX3Q6"
      },
      "outputs": [],
      "source": [
        "# @title Submit your feedback\n",
        "content_review(f\"{feedback_prefix}_Training_and_Evaluating_an_MLP_Video\")"
      ]
    },
    {
      "cell_type": "markdown",
      "metadata": {
        "execution": {},
        "id": "G-06CZrUX3Q6"
      },
      "source": [
        "### Coding Exercise 2.3: Implement it for a classfication task\n",
        "Now that we have the spiral dataset and a loss function, it's your turn to implement a simple train/test split for training and validation.\n",
        "\n",
        "Steps to follow:\n",
        "  * Dataset shuffle\n",
        "  * Train/Test split (20% for test)\n",
        "  * Dataloader definition\n",
        "  * Training and Evaluation"
      ]
    },
    {
      "cell_type": "code",
      "execution_count": null,
      "metadata": {
        "execution": {},
        "id": "FpHvENFNX3Q6"
      },
      "outputs": [],
      "source": [
        "def shuffle_and_split_data(X, y, seed):\n",
        "  \"\"\"\n",
        "  Helper function to shuffle and split incoming data\n",
        "\n",
        "  Args:\n",
        "    X: torch.tensor\n",
        "      Input data\n",
        "    y: torch.tensor\n",
        "      Corresponding target variables\n",
        "    seed: int\n",
        "      Set seed for reproducibility\n",
        "\n",
        "  Returns:\n",
        "    X_test: torch.tensor\n",
        "      Test data [20% of X]\n",
        "    y_test: torch.tensor\n",
        "      Labels corresponding to above mentioned test data\n",
        "    X_train: torch.tensor\n",
        "      Train data [80% of X]\n",
        "    y_train: torch.tensor\n",
        "      Labels corresponding to above mentioned train data\n",
        "  \"\"\"\n",
        "  torch.manual_seed(seed)\n",
        "  # Number of samples\n",
        "  N = X.shape[0]\n",
        "  ####################################################################\n",
        "  # Fill in missing code below (...),\n",
        "  # then remove or comment the line below to test your function\n",
        "  raise NotImplementedError(\"Shuffle & split data\")\n",
        "  ####################################################################\n",
        "  # Shuffle data\n",
        "  shuffled_indices = ...   # Get indices to shuffle data, could use torch.randperm\n",
        "  X = X[shuffled_indices]\n",
        "  y = y[shuffled_indices]\n",
        "\n",
        "  # Split data into train/test\n",
        "  test_size = ...    # Assign test datset size using 20% of samples\n",
        "  X_test = X[:test_size]\n",
        "  y_test = y[:test_size]\n",
        "  X_train = X[test_size:]\n",
        "  y_train = y[test_size:]\n",
        "\n",
        "  return X_test, y_test, X_train, y_train\n",
        "\n",
        "\n",
        "\n",
        "## Uncomment below to test your function\n",
        "# X_test, y_test, X_train, y_train = shuffle_and_split_data(X, y, seed=SEED)\n",
        "# plt.figure()\n",
        "# plt.scatter(X_test[:, 0], X_test[:, 1], c=y_test)\n",
        "# plt.xlabel('x1')\n",
        "# plt.ylabel('x2')\n",
        "# plt.title('Test data')\n",
        "# plt.show()"
      ]
    },
    {
      "cell_type": "markdown",
      "metadata": {
        "execution": {},
        "id": "SLfb1CoKX3Q7"
      },
      "source": [
        "[*Click for solution*](https://github.com/NeuromatchAcademy/course-content-dl/tree/main/tutorials/W1D3_MultiLayerPerceptrons/solutions/W1D3_Tutorial1_Solution_61854a92.py)\n",
        "\n",
        "*Example output:*\n",
        "\n",
        "<img alt='Solution hint' align='left' width=777.0 height=578.0 src=https://raw.githubusercontent.com/NeuromatchAcademy/course-content-dl/main/tutorials/W1D3_MultiLayerPerceptrons/static/W1D3_Tutorial1_Solution_61854a92_0.png>\n",
        "\n"
      ]
    },
    {
      "cell_type": "code",
      "execution_count": null,
      "metadata": {
        "cellView": "form",
        "execution": {},
        "id": "dl6Z_7z_X3Q7"
      },
      "outputs": [],
      "source": [
        "# @title Submit your feedback\n",
        "content_review(f\"{feedback_prefix}_Implement_it_for_a_classification_task_Exercise\")"
      ]
    },
    {
      "cell_type": "markdown",
      "metadata": {
        "execution": {},
        "id": "KdZO8Tb0X3Q7"
      },
      "source": [
        "And we need to make a Pytorch data loader out of it. Data loading in PyTorch can be separated in 2 parts:\n",
        "* Data must be wrapped on a Dataset parent class where the methods __getitem__ and __len__ must be overrided. Note that, at this point, the data is not loaded on memory. PyTorch will only load what is needed to the memory. Here `TensorDataset` does this for us directly.\n",
        "* Use a Dataloader that will actually read the data in batches and put into memory. Also, the option of `num_workers > 0` allows multithreading, which prepares multiple batches in the queue to speed things up."
      ]
    },
    {
      "cell_type": "code",
      "execution_count": null,
      "metadata": {
        "execution": {},
        "id": "QX4ELJy8X3Q7"
      },
      "outputs": [],
      "source": [
        "g_seed = torch.Generator()\n",
        "g_seed.manual_seed(SEED)\n",
        "\n",
        "batch_size = 128\n",
        "test_data = TensorDataset(X_test, y_test)\n",
        "test_loader = DataLoader(test_data, batch_size=batch_size,\n",
        "                         shuffle=False, num_workers=2,\n",
        "                         worker_init_fn=seed_worker,\n",
        "                         generator=g_seed)\n",
        "\n",
        "train_data = TensorDataset(X_train, y_train)\n",
        "train_loader = DataLoader(train_data, batch_size=batch_size, drop_last=True,\n",
        "                          shuffle=True, num_workers=2,\n",
        "                          worker_init_fn=seed_worker,\n",
        "                          generator=g_seed)"
      ]
    },
    {
      "cell_type": "markdown",
      "metadata": {
        "execution": {},
        "id": "PP6e66CDX3Q7"
      },
      "source": [
        "Let's write a general-purpose training and evaluation code and keep it in our pocket for next tutorial as well. So make sure you review it to see what it does.\n",
        "\n",
        "Note that `model.train()` tells your model that you are training the model. So layers like dropout, batch norm etc. which behave different on the train and test procedures know what is going on and hence can behave accordingly. And to turn off training mode we set `model.eval()`."
      ]
    },
    {
      "cell_type": "code",
      "execution_count": null,
      "metadata": {
        "execution": {},
        "id": "9xyWYDYwX3Q7"
      },
      "outputs": [],
      "source": [
        "def train_test_classification(net, criterion, optimizer, train_loader,\n",
        "                              test_loader, num_epochs=1, verbose=True,\n",
        "                              training_plot=False, device='cpu'):\n",
        "  \"\"\"\n",
        "  Accumulate training loss/Evaluate performance\n",
        "\n",
        "  Args:\n",
        "    net: instance of Net class\n",
        "      Describes the model with ReLU activation, batch size 128\n",
        "    criterion: torch.nn type\n",
        "      Criterion combines LogSoftmax and NLLLoss in one single class.\n",
        "    optimizer: torch.optim type\n",
        "      Implements Adam algorithm.\n",
        "    train_loader: torch.utils.data type\n",
        "      Combines the train dataset and sampler, and provides an iterable over the given dataset.\n",
        "    test_loader: torch.utils.data type\n",
        "      Combines the test dataset and sampler, and provides an iterable over the given dataset.\n",
        "    num_epochs: int\n",
        "      Number of epochs [default: 1]\n",
        "    verbose: boolean\n",
        "      If True, print statistics\n",
        "    training_plot=False\n",
        "      If True, display training plot\n",
        "    device: string\n",
        "      CUDA/GPU if available, CPU otherwise\n",
        "\n",
        "  Returns:\n",
        "    Nothing\n",
        "  \"\"\"\n",
        "  net.train()\n",
        "  training_losses = []\n",
        "  for epoch in tqdm(range(num_epochs)):  # Loop over the dataset multiple times\n",
        "    running_loss = 0.0\n",
        "    for i, data in enumerate(train_loader, 0):\n",
        "      # Get the inputs; data is a list of [inputs, labels]\n",
        "      inputs, labels = data\n",
        "      inputs = inputs.to(device).float()\n",
        "      labels = labels.to(device).long()\n",
        "\n",
        "      # Zero the parameter gradients\n",
        "      optimizer.zero_grad()\n",
        "\n",
        "      # forward + backward + optimize\n",
        "      outputs = net(inputs)\n",
        "\n",
        "      loss = criterion(outputs, labels)\n",
        "      loss.backward()\n",
        "      optimizer.step()\n",
        "\n",
        "      # Print statistics\n",
        "      if verbose:\n",
        "        training_losses += [loss.item()]\n",
        "\n",
        "  net.eval()\n",
        "\n",
        "  def test(data_loader):\n",
        "    \"\"\"\n",
        "    Function to gauge network performance\n",
        "\n",
        "    Args:\n",
        "      data_loader: torch.utils.data type\n",
        "      Combines the test dataset and sampler, and provides an iterable over the given dataset.\n",
        "\n",
        "    Returns:\n",
        "      acc: float\n",
        "        Performance of the network\n",
        "      total: int\n",
        "        Number of datapoints in the dataloader\n",
        "    \"\"\"\n",
        "    correct = 0\n",
        "    total = 0\n",
        "    for data in data_loader:\n",
        "      inputs, labels = data\n",
        "      inputs = inputs.to(device).float()\n",
        "      labels = labels.to(device).long()\n",
        "\n",
        "      outputs = net(inputs)\n",
        "      _, predicted = torch.max(outputs, 1)\n",
        "      total += labels.size(0)\n",
        "      correct += (predicted == labels).sum().item()\n",
        "\n",
        "    acc = 100 * correct / total\n",
        "    return total, acc\n",
        "\n",
        "  train_total, train_acc = test(train_loader)\n",
        "  test_total, test_acc = test(test_loader)\n",
        "\n",
        "  if verbose:\n",
        "    print(f\"Accuracy on the {train_total} training samples: {train_acc:0.2f}\")\n",
        "    print(f\"Accuracy on the {test_total} testing samples: {test_acc:0.2f}\")\n",
        "\n",
        "  if training_plot:\n",
        "    plt.plot(training_losses)\n",
        "    plt.xlabel('Batch')\n",
        "    plt.ylabel('Training loss')\n",
        "    plt.show()\n",
        "\n",
        "  return train_acc, test_acc"
      ]
    },
    {
      "cell_type": "markdown",
      "metadata": {
        "execution": {},
        "id": "8W68ZwWoX3Q7"
      },
      "source": [
        "### Think! 2.3.1: What's the point of `.eval()` and `.train()`?\n",
        "\n",
        "Is it necessary to use `net.train()` and `net.eval()` for our MLP model? why?"
      ]
    },
    {
      "cell_type": "markdown",
      "metadata": {
        "execution": {},
        "id": "DxF7QiohX3Q8"
      },
      "source": [
        "[*Click for solution*](https://github.com/NeuromatchAcademy/course-content-dl/tree/main/tutorials/W1D3_MultiLayerPerceptrons/solutions/W1D3_Tutorial1_Solution_70e48a17.py)\n",
        "\n"
      ]
    },
    {
      "cell_type": "code",
      "execution_count": null,
      "metadata": {
        "cellView": "form",
        "execution": {},
        "id": "RuX4Lpo6X3Q8"
      },
      "outputs": [],
      "source": [
        "# @title Submit your feedback\n",
        "content_review(f\"{feedback_prefix}_Whats_the_point_of_eval()_and_train()_Discussion\")"
      ]
    },
    {
      "cell_type": "markdown",
      "metadata": {
        "execution": {},
        "id": "P2Qnjlr9X3Q8"
      },
      "source": [
        "Now let's put everything together and train your first deep-ish model!"
      ]
    },
    {
      "cell_type": "code",
      "execution_count": null,
      "metadata": {
        "execution": {},
        "id": "OZwYCI98X3Q8"
      },
      "outputs": [],
      "source": [
        "set_seed(SEED)\n",
        "net = Net('ReLU()', X_train.shape[1], [128], K).to(DEVICE)\n",
        "criterion = nn.CrossEntropyLoss()\n",
        "optimizer = optim.Adam(net.parameters(), lr=1e-3)\n",
        "num_epochs = 100\n",
        "\n",
        "_, _ = train_test_classification(net, criterion, optimizer, train_loader,\n",
        "                                 test_loader, num_epochs=num_epochs,\n",
        "                                 training_plot=True, device=DEVICE)"
      ]
    },
    {
      "cell_type": "markdown",
      "metadata": {
        "execution": {},
        "id": "ou1CnzefX3Q8"
      },
      "source": [
        "And finally, let's visualize the learned decision-map. We know you're probably running out of time, so we won't make you write code now! But make sure you have reviewed it since we'll start with another visualization technique next time."
      ]
    },
    {
      "cell_type": "code",
      "execution_count": null,
      "metadata": {
        "execution": {},
        "id": "98JH5r56X3Q8"
      },
      "outputs": [],
      "source": [
        "def sample_grid(M=500, x_max=2.0):\n",
        "  \"\"\"\n",
        "  Helper function to simulate sample meshgrid\n",
        "\n",
        "  Args:\n",
        "    M: int\n",
        "      Size of the constructed tensor with meshgrid\n",
        "    x_max: float\n",
        "      Defines range for the set of points\n",
        "\n",
        "  Returns:\n",
        "    X_all: torch.tensor\n",
        "      Concatenated meshgrid tensor\n",
        "  \"\"\"\n",
        "  ii, jj = torch.meshgrid(torch.linspace(-x_max, x_max, M),\n",
        "                          torch.linspace(-x_max, x_max, M),\n",
        "                          indexing=\"ij\")\n",
        "  X_all = torch.cat([ii.unsqueeze(-1),\n",
        "                     jj.unsqueeze(-1)],\n",
        "                     dim=-1).view(-1, 2)\n",
        "  return X_all\n",
        "\n",
        "\n",
        "def plot_decision_map(X_all, y_pred, X_test, y_test,\n",
        "                      M=500, x_max=2.0, eps=1e-3):\n",
        "  \"\"\"\n",
        "  Helper function to plot decision map\n",
        "\n",
        "  Args:\n",
        "    X_all: torch.tensor\n",
        "      Concatenated meshgrid tensor\n",
        "    y_pred: torch.tensor\n",
        "      Labels predicted by the network\n",
        "    X_test: torch.tensor\n",
        "      Test data\n",
        "    y_test: torch.tensor\n",
        "      Labels of the test data\n",
        "    M: int\n",
        "      Size of the constructed tensor with meshgrid\n",
        "    x_max: float\n",
        "      Defines range for the set of points\n",
        "    eps: float\n",
        "      Decision threshold\n",
        "\n",
        "  Returns:\n",
        "    Nothing\n",
        "  \"\"\"\n",
        "  decision_map = torch.argmax(y_pred, dim=1)\n",
        "\n",
        "  for i in range(len(X_test)):\n",
        "    indices = (X_all[:, 0] - X_test[i, 0])**2 + (X_all[:, 1] - X_test[i, 1])**2 < eps\n",
        "    decision_map[indices] = (K + y_test[i]).long()\n",
        "\n",
        "  decision_map = decision_map.view(M, M)\n",
        "  plt.imshow(decision_map, extent=[-x_max, x_max, -x_max, x_max], cmap='jet')\n",
        "  plt.xlabel('x1')\n",
        "  plt.ylabel('x2')\n",
        "  plt.show()"
      ]
    },
    {
      "cell_type": "code",
      "execution_count": null,
      "metadata": {
        "execution": {},
        "id": "ndG3IJSaX3Q8"
      },
      "outputs": [],
      "source": [
        "X_all = sample_grid()\n",
        "y_pred = net(X_all.to(DEVICE)).cpu()\n",
        "plot_decision_map(X_all, y_pred, X_test, y_test)"
      ]
    },
    {
      "cell_type": "markdown",
      "metadata": {
        "execution": {},
        "id": "31qDoJuPX3Q9"
      },
      "source": [
        "### Think! 2.3.2: Does it generalize well?\n",
        "Do you think this model is performing well outside its training distribution? Why?"
      ]
    },
    {
      "cell_type": "markdown",
      "metadata": {
        "execution": {},
        "id": "SGXHZC35X3Q9"
      },
      "source": [
        "[*Click for solution*](https://github.com/NeuromatchAcademy/course-content-dl/tree/main/tutorials/W1D3_MultiLayerPerceptrons/solutions/W1D3_Tutorial1_Solution_47ad29c3.py)\n",
        "\n"
      ]
    },
    {
      "cell_type": "markdown",
      "metadata": {
        "execution": {},
        "id": "oTGs9wqDX3Q9"
      },
      "source": [
        "What would be your suggestions to increase models ability to generalize? Think about it and discuss with your pod."
      ]
    },
    {
      "cell_type": "markdown",
      "metadata": {
        "execution": {},
        "id": "EmkXWAciX3Q9"
      },
      "source": [
        "[*Click for solution*](https://github.com/NeuromatchAcademy/course-content-dl/tree/main/tutorials/W1D3_MultiLayerPerceptrons/solutions/W1D3_Tutorial1_Solution_c71914b5.py)\n",
        "\n"
      ]
    },
    {
      "cell_type": "code",
      "execution_count": null,
      "metadata": {
        "cellView": "form",
        "execution": {},
        "id": "V_VKrhlUX3Q9"
      },
      "outputs": [],
      "source": [
        "# @title Submit your feedback\n",
        "content_review(f\"{feedback_prefix}_Does_it_generalize_well_Discussion\")"
      ]
    },
    {
      "cell_type": "markdown",
      "metadata": {
        "execution": {},
        "id": "AqT1UU_WX3Q9"
      },
      "source": [
        "---\n",
        "# Summary\n",
        "\n",
        "In this tutorial, we have explored the Multi-leayer Perceptrons (MLPs). More specifically, we have discussed the similarities between artificial and biological neural networks (for more information see the Bonus section). we have also learned the Universal Approximation Theorem and implemented MLPs in PyTorch."
      ]
    },
    {
      "cell_type": "markdown",
      "metadata": {
        "execution": {},
        "id": "dfXDTrptX3Q9"
      },
      "source": [
        "---\n",
        "# Bonus: Neuron Physiology and Motivation to Deep Learning\n",
        "\n",
        "This section will motivate one of the most popular nonlinearities in deep learning, the ReLU nonlinearity, by starting from the biophysics of neurons and obtaining the ReLU nonlinearity through a sequence of approximations. We will also show that neuronal biophysics sets a time scale for signal propagation speed through the brain. This time scale implies that neural circuits underlying fast perceptual and motor processing in the brain may not be excessively deep."
      ]
    },
    {
      "cell_type": "code",
      "execution_count": null,
      "metadata": {
        "cellView": "form",
        "execution": {},
        "id": "zZlNZq3cX3Q-"
      },
      "outputs": [],
      "source": [
        "# @title Video 5: Biological to Artificial Neurons\n",
        "from ipywidgets import widgets\n",
        "from IPython.display import YouTubeVideo\n",
        "from IPython.display import IFrame\n",
        "from IPython.display import display\n",
        "\n",
        "\n",
        "class PlayVideo(IFrame):\n",
        "  def __init__(self, id, source, page=1, width=400, height=300, **kwargs):\n",
        "    self.id = id\n",
        "    if source == 'Bilibili':\n",
        "      src = f'https://player.bilibili.com/player.html?bvid={id}&page={page}'\n",
        "    elif source == 'Osf':\n",
        "      src = f'https://mfr.ca-1.osf.io/render?url=https://osf.io/download/{id}/?direct%26mode=render'\n",
        "    super(PlayVideo, self).__init__(src, width, height, **kwargs)\n",
        "\n",
        "\n",
        "def display_videos(video_ids, W=400, H=300, fs=1):\n",
        "  tab_contents = []\n",
        "  for i, video_id in enumerate(video_ids):\n",
        "    out = widgets.Output()\n",
        "    with out:\n",
        "      if video_ids[i][0] == 'Youtube':\n",
        "        video = YouTubeVideo(id=video_ids[i][1], width=W,\n",
        "                             height=H, fs=fs, rel=0)\n",
        "        print(f'Video available at https://youtube.com/watch?v={video.id}')\n",
        "      else:\n",
        "        video = PlayVideo(id=video_ids[i][1], source=video_ids[i][0], width=W,\n",
        "                          height=H, fs=fs, autoplay=False)\n",
        "        if video_ids[i][0] == 'Bilibili':\n",
        "          print(f'Video available at https://www.bilibili.com/video/{video.id}')\n",
        "        elif video_ids[i][0] == 'Osf':\n",
        "          print(f'Video available at https://osf.io/{video.id}')\n",
        "      display(video)\n",
        "    tab_contents.append(out)\n",
        "  return tab_contents\n",
        "\n",
        "\n",
        "video_ids = [('Youtube', 'ELAbflymSLo'), ('Bilibili', 'BV1mf4y157vf')]\n",
        "tab_contents = display_videos(video_ids, W=854, H=480)\n",
        "tabs = widgets.Tab()\n",
        "tabs.children = tab_contents\n",
        "for i in range(len(tab_contents)):\n",
        "  tabs.set_title(i, video_ids[i][0])\n",
        "display(tabs)"
      ]
    },
    {
      "cell_type": "code",
      "execution_count": null,
      "metadata": {
        "cellView": "form",
        "execution": {},
        "id": "uIpyXTfJX3Q-"
      },
      "outputs": [],
      "source": [
        "# @title Submit your feedback\n",
        "content_review(f\"{feedback_prefix}_Biological_to_Artificial_Neurons_Bonus_Video\")"
      ]
    },
    {
      "cell_type": "markdown",
      "metadata": {
        "execution": {},
        "id": "_sRK5D_xX3Q-"
      },
      "source": [
        "## Leaky Integrate-and-fire (LIF) neuronal model\n",
        "\n",
        "The basic idea of LIF neuron was proposed in 1907 by Louis Édouard Lapicque, long before we understood the electrophysiology of a neuron (see a translation of [Lapicque's paper](https://pubmed.ncbi.nlm.nih.gov/17968583/) ). More details of the model can be found in the book [**Theoretical neuroscience**](http://www.gatsby.ucl.ac.uk/~dayan/book/) by Peter Dayan and Laurence F. Abbott.\n",
        "\n",
        "The model dynamics is defined with the following formula,\n",
        "\n",
        "\\begin{equation}\n",
        "\\frac{d V_m}{d t}=\\left\\{\\begin{array}{cc}\n",
        "\\frac{1}{C_m}\\left(-\\frac{V_m}{R_m} + I \\right) & t>t_{rest} \\\\\n",
        "0 & \\text { otherwise }\n",
        "\\end{array}\\right.\n",
        "\\end{equation}\n",
        "\n",
        "\n",
        "Note that $V_{m}$, $C_{m}$, and $R_{m}$ are the membrane voltage, capacitance, and resitance of the neuron, respectively, so the $-\\frac{V_{m}}{R_{m}}$ denotes the leakage current. When $I$ is sufficiently strong such that $V_{m}$ reaches a certain threshold value $V_{\\rm th}$, it momentarily spikes and then $V_{m}$ is reset to $V_{\\rm reset}< V_{\\rm th}$, and voltage stays at $V_{\\rm reset}$ for $\\tau_{\\rm ref}$ ms, mimicking the refractoriness of the neuron during an action potential (note that $V_{\\rm reset}$ and $\\tau_{\\rm ref}$ is assumed to be zero in the lecture):\n",
        "\n",
        "\n",
        "\\begin{eqnarray}\n",
        "V_{m}(t)=V_{\\rm reset} \\text{ for } t\\in(t_{\\text{sp}}, t_{\\text{sp}} + \\tau_{\\text{ref}}]\n",
        "\\end{eqnarray}\n",
        "\n",
        "\n",
        "where $t_{\\rm sp}$ is the spike time when $V_{m}(t)$ just exceeded $V_{\\rm th}$.\n",
        "\n",
        "Thus, the LIF model captures the fact that a neuron:\n",
        "- Performs spatial and temporal integration of synaptic inputs\n",
        "- Generates a spike when the voltage reaches a certain threshold\n",
        "- Goes refractory during the action potential\n",
        "- Has a leaky membrane\n",
        "\n",
        "For in-depth content on computational models of neurons, follow the [NMA](https://www.neuromatchacademy.org/) tutorial 1 of *Biological Neuron Models*. Specifically, for NMA-CN 2021 follow this [Tutorial](https://github.com/NeuromatchAcademy/course-content/blob/master/tutorials/W2D3_BiologicalNeuronModels/W2D3_Tutorial1.ipynb)."
      ]
    },
    {
      "cell_type": "markdown",
      "metadata": {
        "execution": {},
        "id": "qWW41xhEX3Q_"
      },
      "source": [
        "## Simulating an LIF Neuron\n",
        "\n",
        "In the cell below is given a function for LIF neuron model with it's arguments described.\n",
        "\n",
        "Note that we will use Euler's method to make a numerical approximation to a derivative. Hence we will use the following implementation of the model dynamics,\n",
        "\n",
        "\\begin{equation}\n",
        "V_m^{[n]}=\\left\\{\\begin{array}{cc}\n",
        "V_m^{[n-1]} + \\frac{1}{C_m}\\left(-\\frac{V_m^{[n-1]}}{R_m}+I \\right) \\Delta t & t>t_{r e s t} \\\\\n",
        "0 & \\text { otherwise }\n",
        "\\end{array}\\right.\n",
        "\\end{equation}\n",
        "\n",
        "where the superscript $[\\cdot]$ denotes the time point."
      ]
    },
    {
      "cell_type": "code",
      "execution_count": null,
      "metadata": {
        "execution": {},
        "id": "kXqWLAQmX3Q_"
      },
      "outputs": [],
      "source": [
        "def run_LIF(I, T=50, dt=0.1, tau_ref=10,\n",
        "            Rm=1, Cm=10, Vth=1, V_spike=0.5):\n",
        "  \"\"\"\n",
        "  Simulate the LIF dynamics with external input current\n",
        "\n",
        "  Args:\n",
        "    I          : int\n",
        "      Input current (mA)\n",
        "    T          : int\n",
        "      Total time to simulate (msec)\n",
        "    dt         : float\n",
        "      Simulation of time step (msec)\n",
        "    tau_ref    : int\n",
        "      Refractory period (msec)\n",
        "    Rm         : int\n",
        "      Resistance (kOhm)\n",
        "    Cm         : int\n",
        "      Capacitance (uF)\n",
        "    Vth        : int\n",
        "      Spike threshold (V)\n",
        "    V_spike    : float\n",
        "      Spike delta (V)\n",
        "\n",
        "  Returns:\n",
        "    time       : list\n",
        "      Time points\n",
        "    Vm         : list\n",
        "      Tracking membrane potentials\n",
        "  \"\"\"\n",
        "\n",
        "  # Set up array of time steps\n",
        "  time = torch.arange(0, T + dt, dt)\n",
        "\n",
        "  # Set up array for tracking Vm\n",
        "  Vm = torch.zeros(len(time))\n",
        "\n",
        "  # Iterate over each time step\n",
        "  t_rest = 0\n",
        "  for i, t in enumerate(time):\n",
        "\n",
        "    # If t is after refractory period\n",
        "    if t > t_rest:\n",
        "      Vm[i] = Vm[i-1] + 1/Cm*(-Vm[i-1]/Rm + I)  * dt\n",
        "\n",
        "    # If Vm is over the threshold\n",
        "    if Vm[i] >= Vth:\n",
        "\n",
        "      # Increase volatage by change due to spike\n",
        "      Vm[i] += V_spike\n",
        "\n",
        "      # Set up new refactory period\n",
        "      t_rest = t + tau_ref\n",
        "\n",
        "  return time, Vm\n",
        "\n",
        "\n",
        "sim_time, Vm = run_LIF(1.5)\n",
        "# Plot the membrane voltage across time\n",
        "plt.plot(sim_time, Vm)\n",
        "plt.title('LIF Neuron Output')\n",
        "plt.ylabel('Membrane Potential (V)')\n",
        "plt.xlabel('Time (msec)')\n",
        "plt.show()"
      ]
    },
    {
      "cell_type": "markdown",
      "metadata": {
        "execution": {},
        "id": "NXPmmQmmX3Q_"
      },
      "source": [
        "### Interactive Demo: Neuron's transfer function explorer for different $R_m$ and $\\tau_{ref}$\n",
        "We know that real neurons communicate by modulating the spike count meaning that more input current causes a neuron to spike more often. Therefore, to find an input-output relationship, it makes sense to characterize their spike count as a function of input current. This is called the neuron's input-output transfer function. Let's plot the neuron's transfer function and see how it changes with respect to the **membrane resistance** and **refractory time**?"
      ]
    },
    {
      "cell_type": "code",
      "execution_count": null,
      "metadata": {
        "cellView": "form",
        "execution": {},
        "id": "V1BrjycUX3Q_"
      },
      "outputs": [],
      "source": [
        "# @title\n",
        "\n",
        "# @markdown Make sure you execute this cell to enable the widget!\n",
        "my_layout = widgets.Layout()\n",
        "\n",
        "@widgets.interact(Rm=widgets.FloatSlider(1., min=1, max=100.,\n",
        "                                         step=0.1, layout=my_layout),\n",
        "                  tau_ref=widgets.FloatSlider(1., min=1, max=100.,\n",
        "                                            step=0.1, layout=my_layout)\n",
        "                  )\n",
        "\n",
        "\n",
        "def plot_IF_curve(Rm, tau_ref):\n",
        "  \"\"\"\n",
        "  Helper function to plot frequency-current curve\n",
        "\n",
        "  Args:\n",
        "    Rm         : int\n",
        "      Resistance (kOhm)\n",
        "    tau_ref    : int\n",
        "      Refractory period (msec)\n",
        "\n",
        "  Returns:\n",
        "    Nothing\n",
        "  \"\"\"\n",
        "  T = 1000  # Total time to simulate (msec)\n",
        "  dt = 1  # Simulation time step (msec)\n",
        "  Vth = 1  # Spike threshold (V)\n",
        "  Is_max = 2\n",
        "  Is = torch.linspace(0, Is_max, 10)\n",
        "  spike_counts = []\n",
        "  for I in Is:\n",
        "    _, Vm = run_LIF(I, T=T, dt=dt, Vth=Vth, Rm=Rm, tau_ref=tau_ref)\n",
        "    spike_counts += [torch.sum(Vm > Vth)]\n",
        "\n",
        "  plt.plot(Is, spike_counts)\n",
        "  plt.title('LIF Neuron: Transfer Function')\n",
        "  plt.ylabel('Spike count')\n",
        "  plt.xlabel('I (mA)')\n",
        "  plt.xlim(0, Is_max)\n",
        "  plt.ylim(0, 80)\n",
        "  plt.show()"
      ]
    },
    {
      "cell_type": "markdown",
      "metadata": {
        "execution": {},
        "id": "6urrX9EMX3Q_"
      },
      "source": [
        "### Think!: Real and Artificial neuron similarities\n",
        "\n",
        "What happens at infinite membrane resistance ($R_m$) and small refactory time ($\\tau_{ref}$)? Why?\n",
        "\n",
        "Take 10 mins to discuss the similarity between a real neuron and an artificial one with your pod."
      ]
    },
    {
      "cell_type": "markdown",
      "metadata": {
        "execution": {},
        "id": "1whxtIGbX3Q_"
      },
      "source": [
        "[*Click for solution*](https://github.com/NeuromatchAcademy/course-content-dl/tree/main/tutorials/W1D3_MultiLayerPerceptrons/solutions/W1D3_Tutorial1_Solution_23ab5734.py)\n",
        "\n"
      ]
    },
    {
      "cell_type": "code",
      "execution_count": null,
      "metadata": {
        "cellView": "form",
        "execution": {},
        "id": "NOQ0z2bAX3RA"
      },
      "outputs": [],
      "source": [
        "# @title Submit your feedback\n",
        "content_review(f\"{feedback_prefix}_Real_and_Artificial_neuron_similarities_Bonus_Discussion\")"
      ]
    }
  ],
  "metadata": {
    "colab": {
      "name": "W1D3_Tutorial1",
      "provenance": [],
      "toc_visible": true,
      "include_colab_link": true
    },
    "kernel": {
      "display_name": "Python 3",
      "language": "python",
      "name": "python3"
    },
    "kernelspec": {
      "display_name": "Python 3",
      "name": "python3"
    },
    "language_info": {
      "codemirror_mode": {
        "name": "ipython",
        "version": 3
      },
      "file_extension": ".py",
      "mimetype": "text/x-python",
      "name": "python",
      "nbconvert_exporter": "python",
      "pygments_lexer": "ipython3",
      "version": "3.7.11"
    },
    "widgets": {
      "application/vnd.jupyter.widget-state+json": {
        "4ca56237d8e84d4fa438fb8a20a56a54": {
          "model_module": "@jupyter-widgets/controls",
          "model_name": "TabModel",
          "model_module_version": "1.5.0",
          "state": {
            "_dom_classes": [],
            "_model_module": "@jupyter-widgets/controls",
            "_model_module_version": "1.5.0",
            "_model_name": "TabModel",
            "_titles": {
              "0": "Youtube",
              "1": "Bilibili"
            },
            "_view_count": null,
            "_view_module": "@jupyter-widgets/controls",
            "_view_module_version": "1.5.0",
            "_view_name": "TabView",
            "box_style": "",
            "children": [
              "IPY_MODEL_b8b7b905278046ca8de59f9ade1cdbca",
              "IPY_MODEL_6f72af88da6349c5829ae00d740ba0a7"
            ],
            "layout": "IPY_MODEL_bf7811425f234ae5a40e19d7a19c9375",
            "selected_index": 0
          }
        },
        "b8b7b905278046ca8de59f9ade1cdbca": {
          "model_module": "@jupyter-widgets/output",
          "model_name": "OutputModel",
          "model_module_version": "1.0.0",
          "state": {
            "_dom_classes": [],
            "_model_module": "@jupyter-widgets/output",
            "_model_module_version": "1.0.0",
            "_model_name": "OutputModel",
            "_view_count": null,
            "_view_module": "@jupyter-widgets/output",
            "_view_module_version": "1.0.0",
            "_view_name": "OutputView",
            "layout": "IPY_MODEL_734d2313dbfa4618af9ede849bec64bb",
            "msg_id": "",
            "outputs": [
              {
                "output_type": "stream",
                "name": "stdout",
                "text": [
                  "Video available at https://youtube.com/watch?v=Gh0KYl7ViAc\n"
                ]
              },
              {
                "output_type": "display_data",
                "data": {
                  "text/plain": "<IPython.lib.display.YouTubeVideo at 0x7b2a5296f710>",
                  "text/html": "\n        <iframe\n            width=\"854\"\n            height=\"480\"\n            src=\"https://www.youtube.com/embed/Gh0KYl7ViAc?fs=1&rel=0\"\n            frameborder=\"0\"\n            allowfullscreen\n            \n        ></iframe>\n        ",
                  "image/jpeg": "/9j/4AAQSkZJRgABAQAAAQABAAD/2wCEABALDBoYFhsaGBoeHRsfIyUiIiIhIDElJSglLycxMC0nLS01SFBFNThLOS0tRWFFS1NWW11bMkFlbWVYbVBZW1cBERISGRYYLRobLVc3LTZXV1dXV1dXV1dXV1dXV1dXV1dXV1dXV1dXV1dXV11XV1dXV1dXV1dXV1dXV1dXV1dXV//AABEIAWgB4AMBIgACEQEDEQH/xAAbAAEAAgMBAQAAAAAAAAAAAAAABAUDBgcCAf/EAEgQAAIBAwEDCAgDAwkJAAMAAAABAgMEERIFITETFEFRU5GS0gYWFyJUYXHRMoGxUqHBFSM0QnOTsuHwJDM1YmNygqLxQ0Sz/8QAGAEBAQEBAQAAAAAAAAAAAAAAAAECAwT/xAAgEQEBAQEAAgIDAQEAAAAAAAAAARECAzESIRMiQTKB/9oADAMBAAIRAxEAPwDn4AAAAAAAAAAAAAAAAAAAAAAAAAAAAAAAAAAAAAAAAAAAAAAAAAAAAAAAAAAAAAAAAAAAAAAAAAAAAAAAAAAAAAAAAAAAAAAAAAAAAAAAAAAAAAAAAAAAAAAAAAAAAAAAAAAAAAAAAAAAAAAAAAAAAAAAAAAAAAAAAM/NZdaHNZdaAwAz81l1oc1l1oDADPzWXWhzWXWgMAM/NZdaHNZdaAwAz81l1oc1l1oDADPzWXWhzWXWgMAM/NZdaHNZdaAwAz81l1oc1l1oDADPzWXWhzWXWgMAM/NZdaHNZdaAwAz81l1oc1l1oDADPzWXWhzWXWgMAM/NZdaHNZdaAwAz81l1oc1l1oDADPzWXWhzWXWgMAM/NZdaHNZdaAwAz81l1oc1l1oDADPzWXWhzWXWgMAM/NZdaHNZdaAwAz81l1oc1l1oDADPzWXWhzWXWgMAM/NZdaHNZdaAwAz81l1oc1l1oDADPzWXWhzWXWgMAJPMpdcRzKXWibBGBJ5jPrifeYT64/vGiKDPUtZRxlreerexnUeILP6DTEYFvH0brvpgvzf2It3sqrRxrSw+lcCTqX+tXmz+IQJlPZ05LKce9/Y9/wAk1OuPe/sXWUAE/wDkip1x739j7/I9Trh3v7DR6ABpkAAAAAAAAAAAAAAAAAAAAAAAAAAAAAAAAAAAAAAAAAAAAAAAAAAAAAAAAAAAAAS1A+qmZUj5KSSOTbxpR60kOVfeSaVRYLgiXcc1Ix+hs2zbZQikluNYryXLdxsNO5kkpKSjBY97Gc/Qx3LfqOvjsn3WxRoLSvdIO1LfVTcWspmKx2zKL9+cpxfDEO7CXEh320ZVHq11Et+7GPrnccp47rtfJLFRZUnCpOD4LgWCgYqFGXKSlLLylv8A0Jigd3lvth0H3QZ9B90BGsAA6sAAAAAAAAAAAAAAAAAAAAAAAAAAAAAAAAAAAAAAAAAAAAAAAAAAAAAAAAAAAAACzmsIrLiq8lpV4FTX3s5R0rDlmVSaPdOBklHcarLJZqNSFSDeJY1RfXjijZNlWmaSg4ua3NYx/E1KL0tM3HY9fEU1+RjvY6+PKzXNOFLQp6aa1J5ct/yXyDtoTqyhCdOTxrxjPHjwIN1dTq1GpRlKOX/UyYrZulUUqVOUE9zzHTkxl9uv/PpJrU5KbjLTjitJ80matPVUbPmk3PTh37Y9J90mTAwVlpwAOrAAAAAAAAAAAAAAAAAAAAAAAAAAAAAAAAAAAAAAAAAAAAAAAAAAZbiUXLMNye/hjfnq6AMQAAAAAAAAAAtLt4RTze8tb7gV2g5xt8jM9am9x5VMnWGz6lWWKcJTf/Ks95vGUR0mWmzbhwg49K3r6M2XZvoe5YlcvSv2Ive/q+j8j76S7KiqlKdNKMXBQ3f8vD9z/cZsa5VVtcZ3t4+n6n2tVTyoyfBvLeSHVt5w47snqw2ZVuKipwzv/E3wS6WZkjpeusxY7Lt5zouok3HU45W/euP6mfQbXs6zhb0YUqedMV08W+ls9V7OlU/FBN9a3P8Acbxyai4nnBslXYlN/hlKP70VF5YTpP3lufBrgTBz8AG2QAAAAAAAAAAAAAAAAAAAAAAAAAAAAAAAAAAAAAAAAAAAAAAAAAAAAAAAAAAAABYXrIkI5M9xUi3uki29HI2yrqdetThGHvLXJLMujj3mJGrVr6P+iCaVW6T371T+XXL7G40KEKcVGnFRiuhLCIHrDY/F0P7xD1hsvi6H94jQsiHXtIzi4VFuzlST7vsYfWGy+Lof3kR6w2PxdD+8QFVcWbpvesx6JcUyw2RaaXyjym+CXV8z3Lbtg007q3afH+ciel6QWPxdD+8iZnMl1u92zFkkCt9YbL4uh/eIesNl8XQ/vEaYWR4rUozi4yWUyB6w2PxdD+8iPWGy+Lof3iA5MACsgAAAAAAAAAAAAAAAAAAAAAAAAAAAAAAAAAAAAAAAAAAAAAAAAAAAAAAAAAAAAAAAAAAAAAAAAAAAAAAAAAA+alnGVk+nQdiWtKtsmlQmkpVlUhGWFnUnJrf+WfyOf1IOEpRksSi3GS6mnhrvA8uS4ZWT6dDsbCFvsurRlFctzedaeUspyjLHdjH5Gh0LKrUp1KsINwppa5ZXu54BWA+N44ma1tp1qkadOOqct0V17s9PyRe+hlHG0XCcVmNOqmnvw00mEa6DYvRXYTuZznVouVDRNRlqwuUTWFueesi7Ms61te0oVrXlamG1RlKO9NPfneuh8eoCmbxxPpsvomlLaVbNNR/m63ucVF6o+6vpwNdsbapWcKdKEpza3Risv6geAW1z6M3tKDqToPSll6WpNLrwnkg0rKrOjOvGGaUGlOSa3N4xlcelARwfYxbaSWW2kl1t8EZ7qwq0avI1INVN3uLEnv4cMgRwXD9Fb5Q183eMZxqjq7slVTpSlNU4p65SUEuD1N4xv+YHgE+WxLpRrSdGSjRzyjbWFhZaz07uogAATqOxrmpGnKFGUlVzoaxvxxfyXzZk2hsG6toa61FqHTJNSS+uOAFaD3RoyqTUKcXKcnhRSy2Wlf0YvqcHOVB4Sy9LUml9E8gVAMtpbTrVI06UdU5/hSa37s9PyRnqbJuIUZ1pUpRpQlpcnhb9Wnd1792UBDBP2dsW5uk3QpOUVucspRz1ZZj2hsuvaySr03DPB8U/o1uAiAn7O2Lc3ScqFJyit2ptKOerL4mPaGzK9tJRr03Bvg3vT+jW4CICZQ2XcVIRqU6UpwnLRFxw8y6scehki99HbyhTdSpRaglltNSwut44AVYNh9Ethu5q66tJzt9M1nVha1jC3PPSyrnse5hWp0J0mq1RZjHK38enOOhgQgTZ7JuI0p1pUpRp05aZSeMatWnC69+7KPWztjXN0m6FJyinhy3KOerLAgAmbR2VXtWlXpuGrg+MX8k1uyeaGzq1Sm6tOnKcFJQzHe9TxhY49KAigtbj0avaVN1J0GopZeGm0utpMg2dlVuJqnRg5ze/C6utvoQGAFpe+jt5Qg51KL0Li4tSx9ccCrAAAAAAAAAAAAAAAAAAAAAAAAAAADa61zKjsjZ9WH4oV3Jflr3fnwJdzsaNztO3uILNvXgriT6PdSyvzbh3spL3aNKey7a3jJ8rTqOUlpeEve6eHSjPY+kfJbLq22XyuXGm9/4Jb5b+jG/9xFWez9oc6ntetn3XRxD/ALFGol38fzKzYf8AwvaX/bD+Jg9Hto0rejexqyadWloglFvLxPdu4cUffRzaFCFO5trpyhSuIpa4rOlrPV9f3FGL0T/4lbf90v8ABIs/Rn/jVf63H+M8bMns6yuadTnFSvJN4kqbjCG5rU+mT6MLrI2w9p0aO0qtxUk1Sly2Hpb/ABSzHct5Bn9CKkudVY6np5Go8ZeM5jvwRPRCpKW0bdyk5P3t8m2/wS6zz6L7RpW105Vm1TnCUHJLOM4aeF9DNs+paWd/QnTuHVpRUtc+Taw3FpJLp4oCV6K/8VuP+24//oiu9GLWvNVZUq/N6Uaa5aq+iPHC+e59XSZtg7To0L+tWqSapyjWUWot/immty+Ri9HtoUadGva3LlGlXjFa4rLhJdLXSuHcUW/oxb04X1N219yqerlKcoSpua0ves7pb8PrIno9XhG+ubWp/ubl1aTXQnqlp/ivzR82S7GzuqdaV3KtpcsaKMoxjmLWZZ3vjwXWUVxW/n6lSm8fzspwf/m5Rf6AXno5szRfVXX3Qs1KdR/NZ0v9zf5Er0YquvcX15LRGtGDlB1HiEHLO9vqSilnqySfSnaEVZQcIaKt6oTqrg9MYrj+5d5ruwdqq0rSlOOulUi4VYdcX0r5r+LAlx2XVVXlltG05bOdfOHqb+bxw+RK2u6Utq2lSlOnN1J0HUdOSlHlFUSf8CLLZ+zHLXG+nGnx0OjJzX/LnH7yBCtQhfU6lJTjQhVpyWvfJRjKLbePo2ETvS3aFad7XpyqS5OEtMYJ4jjSm9y48XxKInbcuYVryvVpvMJyzF4aytKXB/QggbRtG7qU9jWUac5QU5TUtLw2k3uz1Hj0Ju5u5drNudGtCalCTyuGcpd6/Mk1VbPZVjC6c4KTnpqQWdEsvjHpTX8DDa3dls+NSpb1pXNzKLjB6HGME+neFZPRq15O1v6tOpTp1Yz5CFWpLTGEd2XnfhvPekRbHZ1WhXjWhtCz1ppyfOH7y6VLdvz8yJsLa0KPK0riMqlvXWKiX4k/218/sjPzDZkXqlfTnDjojRam/k3wX7gJ1GNFekFN0JRlTlJzzBpxy6UtS3fPPeUu2b6tXuasalSTiqkoRjn3UlNpYjw6Eeti3lGjtCnWeqFGM5tZ96Si4ySTxxe9EC8mp1qso/hlUnJfRybX7mBsPplcSpVKdnTbhQpUotRi8KTed76+H6lFK9rVKUbeVWTpqWUm8pN7s/l1F5UvrO/p0+d1JW9zTjo5RQcoziuGcf5dJW7Vp2UKcadtOpWq5bnVacI4x+FRf6/vA2H0o2c5zhbwurajQpQio0p1XB5/accb/l+ZGhSjDZ1zQr3dtVSSnQUKuqUZrO5ZS3Ph+bMFe9tNoQpyuqkre6hFQc9DnColwbxwf36Sv2hRsqdLTQq1K9ZtPXp0U1HpWHveQLSldVKWwk6c3Byryi3F4el5ys9HAi+h9/Up3tOmpN06rcZxbynubzjr3E6ydD+RYK518nKvJaofig9+JY6fp8zHYVtn2EnXhXldVkmqcOTcEm92Xn/XyAy+jNPktr16MJNU4qslHPu7pLG76FR6K1ZT2jaOUpSep75Nt/7uXWe/RzasaN/y9w3iampySzhyec46so92jtLO+tp0rh1aUHJzlybWn3Wkksb+JBF29f1q1zXjOpJxjUnCMc+6lGbS93h0ItfTK4lRnSs6TcKFOlB6YvGptve+vh+9mvX9SNSvWlHfGdSpJdG6U21+5l/O+tL+lSV3UlQuaUdHKqDlGcVwzj/W9lHv0bqyubS8ta0nOnGlykNW9wks8G/nh/kzzsu6qUti3M6UnCXLxWVxSagnjq3GOvtC1tLarb2U5VqlZaalaUdKUf2Yr833kShf0o7Lr27k+VnWjOKw8aVpy88OhhE30HuJ8+0OcnGdOepNtptY3v5mL0dvqNJXVCrUdFV46Y1Yr8GM7n8t5H9F7+nbXiq1pOMFCayk3va3bkYtmqznysbqVSDk806sFlR378x6c/6wFWD2Dc0KVSrZ3MK1JxanyM8NxfHMend88muo2bZ9ez2e6lancyuasoOEYRpuEd+N8m/oaxFYSXUB9AAQAAAAAAAAAAAAAAAAAAAAAAAAAAAAAAAAAAAAACbsu6o0pSde3VdNLEXLSk88fmQgBN2vtOd3WdWoktyjGK4RiuCXeyEAAAAAAAT7rajq2tC2cElRcmpZ3vOejo4kAAAAAAAAAAAAAJ8tqN2UbTQsKo6mvO/O/dj8yAAAAAAAAAAAAAAAAAAAAAAAAAAAAAAAAAAAAAEznsfhqHdPzHznsfhqHdPzEQAS+ex+God0/MOex+God0/MRABL57H4ah3T8w57H4ah3T8xEAEvn0fhqHdPzDnsfhqHdPzEQAS+ex+God0/MOex+God0/MRABL57H4ah3T8w57H4ah3T8xEAEvnsfhqHdPzDnsfhqHdPzEQAS+ex+God0/MOex+God0/MRABL57H4ah3T8w57H4ah3T8xEAEvnsfhqHdPzDnsfhqHdPzEQAS+ex+God0/MOex+God0/MRABL57H4ah3T8w57H4ah3T8xEAEvnsfhqHdPzDnsfhqHdPzEQAS+ex+God0/MOex+God0/MRABL57H4ah3T8w57H4ah3T8xEAEvnsfhqHdPzDnsfhqHdPzEQAS+ex+God0/MOfR+God0/MYKFNSmovg/sSuZLOMsluN88W+njnsfhqHdPzDnsfhqHdPzEiOzYvpZirWUY9LJ8ov4+njnsfhqHdPzDnsfhqHdPzH2lZqXDJmezUuvvQ+UT4Vg57H4ah3T8w57H4ah3T8x7nYpLO8xq2XWx8ov4+n3nsfhqHdPzDnsfhqHdPzHpWcetnidvFdLHyi/i6feex+God0/MOex+God0/MY5Uo9DZhaLOtYvNiVz2Pw1Dun5hz2Pw1Dun5jHY23LVoU86dTazjONzf8C69Vv8Arf8Ap/mVlU89j8NQ7p+Yc9j8NQ7p+YtvVb/rf+n+Yfov/wBb/wBP8xqqnnsfhqHdPzDnsfhqHdPzFr6r/wDW/wDT/M+T9GlFZlcJL5xx/ECr57H4ah3T8w57H4ah3T8xNex6C/8A3Id3+Z8p7JozajG7i2+jR/mBD57H4ah3T8w57H4ah3T8xar0Yzwrp/8Ah/mffVb/AK3/AKf5jRU8+j8NQ7p+Yc9j8NQ7p+YtvVb/AK3/AKf5mK69HeTpTqcrnTFyxoxnC+o0xXc9j8NQ7p+Yc9j8NQ7p+YiAIl89j8NQ7p+Yc9j8NQ7p+YiAAAAAB8YFjHY1Zpb6SnKKlGnKrGNRxaynpfy6HvK5M2WjazuJ06d5aS3xS51TysQUd05SWYSSWOoi0LOdSGznTpuaU5qcoxzHdXz7z6Pd6+gKpMn0vLq4lRt5ulpjJ3lxHOhN6VpxHety+h6vqUKdOrcR0pXemNJP+onvrfTDWn5ZCKDKM1razrTUKcdUmm+hJJcW29yS62bHfU3yV3SnGq40YJxlOlGFPUpxSlTcUsLDe7flMqtkLXTuqEGlVqwjyazjVpnqlTXza6OnAGC42bOnB1NdKpBNKUqVRT0t8E1xX6ELKLmezYc1qTnQrW9SHJxjOrLTGc3OKklFxT3LU/lgnbSg+b3tOaqtUYLTKdKMIalOK1U3FLCw30vKYGsal1jUus2e7rydxd0Pd5JW05KChFLUqEZKWcZznpPdjGty1lCjT1WkoUnJ8mpQcv8A8jnLG6Slnp3bgNWM9K0nOEZxxiVTklmSXv6U+ngsPiWSs51KNm6dKU8Vaym4xbS/nItamuG7PHoJsYLl1HC0/wArNYxuxhbsAay1g+JrrJ2zKHKXlOGVHNR73FSW7Lxpe5t4wl1tF3nlVazqQq6ueQguWpxjLS1lx3JZWUujdvA1ZNGW3ouo5qGHohKpLf8A1Y8S4dw61G5jWa5OlWo6cRjHRF1JRljC/ZJlV3PKXsZ09NvGjXVPFNKCjj3NEsb8x38d4Gr/AE3/AEJO0LCpbVOTrJKWFLc8rDyuP1TX5Ev0eoxdd1qjUaVvHlZNptak8QTS3/ix3EqvSjVtYSjXVxUt6uZtQlF8nVl06ks4nnh+0BQZXWNSxnO42Sc5yvbuSylburohSpQc8cql7ia49LlhviZKsnGtSq8jWlOds3Jxpx5aL5RpVNGMOWEk3jhv3Aa7RoSnGpKOMU46pb+jKW782jCnngbLLlKTuZueuTtoTTnSjCSzVSWuHDUscfoyu2tUdSla1Z4dSdOeqWEnLTUkk3j5ARrHZ9W45Tko6uTjqlvxu6l1vju+RE1Ljk2K10W1vbZuI0aspq5knCcm4LKpr3U9zWp7/wBo9xo83rXHI060qVTRUpVqFNTlGnPMorS1+F5x0P3QNfVCTpSq7tEZRi3npabX6MxpmwV51Lald4nF1FXpe+qcVxpyeVHGIy34fzyQNu760JYSc6NKcsLGZOCy8LrArgABmtP95H/XQXUILBS2n+8j/roLqCOfT0+H0+NEWdeGtxzlri+hHnaN26eIri9/5FdFr5t8X9RIvk6+8izrXMY8Hx+R95VtZjLf8yFTpav6uSTT2bXX4Yy3l2OeV7o3eMxaw+jfuf0EpRlwWH+vyM1PYFaostNEC/s61vJa+D6SbKuWfaThkS4iyTZS1QzLOc9JmnRyTMdP9z6VKbPkyxdsQ7uGlovPty74sm1m2LLF1SfU3/hZtnPo5NS2Qs3NL6v/AAs2B/jx0ZOjlFvF5WQ0fY8EfJvCbfQZVW7Y2tG2iklmpJPSuj6s0q4uZ1JOU5uT+b/RGfad469ac+hvEf8AtXAiJFBTPcauC0s7KGlOSz9SfT2dSf8AURPk18VVYbUqUZJxfuvjHoN0srlVqcai3J9GeBqF/seVN6qaco9S3tE/0VqS1zhl6UstfPJfbOY2cibU/o1b+zl+hKI21f6LX/s5foBooAKyAAAAAAAA9KpLTp1S09WXjuCnJLCk0nvaTeO48gD7nr39JnvLvldCUFTp046YQi20k223l7223x+hHAHp1JNJOUmksJNvCXUeQAPU6kpfilKWOGW3+odSTSTlJpLCTbwl1HkAfdT45efqTrXafJKLjRhykPwz1Txnok4Z0uXzIAA9KckmlJpPisvD+vWfNT63xzx6es+AAepVZN5cpN9bbbPIA+5fXxPvKSwlqeFuSy8L6HkAfc9HWE2uDPgA9KbT1JtS608PvCnLKep5XB5ee88gD65Nttttvjl8fr1nzIAH1vPHefY1JJ5UpJ4xlNp46jyAPuX1hvPE+AAAAM1n/vY/66C7TKO1eKkX/rgWsKpz7erwelVtpvlF9D7sm05WeXwRN2lQ5Sm2lvjvWP3nj0dfvNGbf1Lz+7aNl2MI4eN5ewjFLgistH3FjCpHrRjlvpkKna9nGvTlFr6fUs3UiukhV7uk3hTWSsxolmpSnof9Xj9UW8YYRkpWip1Kz6XN925/xMssGrddPHzkQpRK3aSw4/R/wLdlXtf8UPo/4F59p5p+jFslZuaa+b/ws2h05ZW41rYf9Lo/V/4WbqdHij5B7iv29WcbeUYvEp+6vp0liiq2vnXF8dzx9SVuTa02rRcHh/VdTXyJNnbx4ye/qJlW31xjqxufR+hIhQi92CavxeKd1TTw5YLS1lGW+Mk18mUlawblJrO5pZ49BioqVGeVnj0cWTF2ttgzHs6xVOrWq9pLd8l/9yV1LbVPKTb6t6L2jNOKcWmsdBYlZCLtX+jV/wCzl+hKIu1H/s1b+zl+hphowAKyAAAAAABkoOCnF1E3DK1KLw3HO9J9YH3m8+T5XRLk3LTrx7urjjJiN02Zsu0q2dVznXp0NfKxhVai4qKack9+YtSxn5FRfVIW6p5s7SVOom4uNWdSTinjfUzlMCiBZXVpSnRdxa6lGLSq0pPVKnncpKX9aDfTxRAo0pVJxhCLlKTxFLi31AeATo7Fu3CU1b1XGOU3p6uO7i/yI9paVa8tNGnKpLjiKzu631AYQSa+z61OpGlUpTjUlhRi1vll4WOveeOaVOV5HRLldWnR06uoDCCRDZ9aWvTSm9ElCeI5ak3hRx15Mv8AJFzyvI8hU5XClpxvUXwb6kBCBIu7CtQko1qU6cnwUlx+j6SRDYV3JyStqrcPxe7w3Z/Pc1wArwTaWyLmdN1IW9RwWcvT1cd3F/kYbOyq3EtNCnKpLGWorOF1t8EBgBNlsi6TadvUTUlFrT/WlwXzz8ibtX0dq0KVKpGFWSdLXWbjupy6Vu4AUoJ1DY11Vp8pTt6kodDUeP06X+ROhsrlNm0506MpXEriUHhPVpUXua6MYAowSLyxrW8lGtTlTbWVqXFfJ8GRwAAAAAAAAAAA9Qe9E+imQaP4kWtE59u/hjNbr3sS4Pc/zPuzbPkak49De76BSROjVUnTllN9P1OVemye2C5t62cYlLj/AFsL8jzb0alOcZe9v4rVnH1NrtZQlDfgxzVPOmKWWX+Of9Vu1qNSUIJZeri/kYNnbLqYi2oJf1kk+H1ZsqpYhHpwjzC4g1uHpN1Q7Tjif5FbqeSw2tLNX8kVstzD0c+nmaKraUsuP0ZcppoqNqrEo/Rm+fbl5/8ABsP+l0fq/wDCzddJpWw/6XR+r/ws3dHR44+aSBtlRVNSfRJcPmWRT+kFZaY0+lvP5L/6SrFM6ibengZYzSaIc5aXgy03low2n8omnpfvY/1kxWn85UjOWMrhgwqFSEsr3k/yYt6MOU1ZcX0x4MKkrZMaleWrcm28rjxyWtvatVVJVJOEFpawkn1Ld1Huyppx1NfJZJaWOBuOd9vWCJtZf7LX/s5foSskXaz/ANlr/wBnP9Co0QAFZAAAAAANAAX1xeyoytbmcuc8rbyg41Fpil+Fw3ccFAWVldU50ubXDcYanKlVSy6cnxyumL3Z+hLsLB0ZymqlhWg4uOalb3Un044p7v3gfdmWjo1VCpmorq2npjR99vUt2V1rS+4iejaa2hbJ8eUWe5myVr2yjZYoSdOUGqLrUYOTp625yw5NPQ3np6TVKlRW9zqt6uvk5JwqacZeOOH88oC8sr2rLbizUlh1pwxqeNKUko44Y3IzxVKFhePNWK53ONR0calFSelPPCP3NZpXtSFdV4y/nVJz1YX4nxePzZktNq16NSdSnUcZTbc9yall53p7uLAuLbaFKcbKlTVeUYXcHGrW04Sb3wUl34Psacnt9pJ5VfU11RxnP0wU9/te4uNPK1G1F5jFJRin1pLpJMvSa9ainWfutPOmOXh5WXjeFXULidKhtedOTjJV8Jrisya3fPeQaNaa2PVnTnLW66VaWpuWjTuy+OM47yne0qzhWhr92tJSqbl70k85+X5Cw2jWtpOVGbg3uksJpr5p8QLi3nKeyJOq3JRuafIuTy+K1JPq/F+8lbcvKq21SiqklGM6EUk2liTjq3fPLNfv9q17lxdao5afwpJKMfokeLi/q1K6rzlmqnGSlhcY407vyQRstK8qPb+nXLTykoac+7pUHux9d5hrSdPZly6DcXzycarjuagm9KyuC4d5Qx2jVVxzlS/ntTlqwuL3cOHA92W1q9Cc50qjUp5c9yalvzvT3dLCrejXqy2HWlOUmlWhycm3nGqOcPqTyNvVW47MU5y5OdGCn7zxJao6s9e5lVd7aua0Jwq1XKE3FuOEl7vBLHBCO1LmFvzdzfIzi8RlFP3W3nS2s44gWXpXc14bRlGM5xUdHIqDa93Svwpcd+TLXuq0dj5cpxnO6mqj3qT3NtPpW9FbQ9I7ynTVONZ4SxFuKlKK6k2iJV2hVnS5Kc3KGt1MPjrfF54hFrfVJT2NaSnJykripFNvLxie7P5IoTPK8qOjGg5fzUJOcY44SfF5/N95gAAAAAAAAAAADLbLM4otVB4Ku0eKkf8AXQX0Emjn17erwz6V85NEizqbyRO2TPcbZRhJrjjcZzfpvr9ftJ5ecKbccvqSIUryo4NZlCb6XukfHeOMH1osLG95SmnhZS6d6ZmRm3UOnd3mnEp4isb+v8zPs+dV1Jak4x4rO4mfynPOmVKKXQ/sQqd7ylw4rcsbs9LLm+k3GW8eZ/RJGCdJMyVqVRNtxZhjVJmPTMsYXHBV7VXvR+jLqayVG2V70Po/4G+fbl5p+leNif0uj9X/AIWbo5YWW8JdLNAoV5UpqcHiUeD49GD7dX1WrnXUlJPozu7jq8UbHX9Jqca0YQ96GcSn9ustri2jWhh/VNdHzOd5Nt9Fto648hN+9HfH5x6vyN8Z6KgbTtHTeJcV09fzI1tXxxNw2hZKtDS+K/C+o0+5sZ05NYeUcuufjW51qyj76wnvJFGxdRxT/qvOeohbOsKkpRTlpz8s7jaKNJQior/6TF0hBRSS4I+4PR8Ky+YIu1V/stf+zl+hLIm1f6LX/s5foVGigArIAAAAAAAAAAM9O8qQpVKUZYp1NLnHr0vKMAAAAAAAAAAAMAC+q7OgqEtcYQcFRfKQjPCU5RTbnJ4luk3uWFg8Tsm7jk1awhGE5qLlymJRjGTSbT994Wd3H8ymdSWEtTwuCy8dwdSW73pe7+He9306gL2tYQWKkaKlUdDlFS0SinLldDlozndHfjPzMlS2jLTKdLE4WtOUaWiU0nKrPU9CabSzwzuzv4GvcpLKlqlqXB5ee8KpLOrVLUuDy894FzVp0acZzVDP89Sgo1VKOlSpuUlpznGeGeB9r0reMquqilToXEaTw5anTkqibk297WlNFI5N8W3l5e/p6w23nLbzve/j9QJu0bRW8YUpYdXMpSknu05xBL6pOX/kiCZLmvKrUlUn+KTy8bkupL5JbjGAAAAAAAAAAAH2MsNMtrOrKWEk2yBs+2VatCm3hSfH8mzc7LZ9Oivcjv63xJeddOO/ix21njDqdxiuPxtdBOrNroZAqvE9/SbkkTru9e1TXo5covjw/IjW8qlF+7iS6uDLi6t3JKcd7jxS6YnmFvGSTPP1+tduc6iMr24nu0pL6kZ5jdwectLL+rLuFBQWcED+TnOcpqS1bml1r6l4ttTuSRs9KWUvmeLizpvfKKI9je05vRGa1x3OL3PK/UlVacnNN8Dv7cZbPSvr7Nxvg/yNb27DEoL5S/VG5VZ4wap6UPM6T+Uv1Rj4yXY3fLbzlUcjwz3PgYyucfGZrWvKlUjOO6UXlGIIqtzu9uVVQhWo0NUHxbl+H8kVsduKrJcslnonFYX0aMnolfxTnb1GlGWZRb4Z6UQtt7LVCbqU3GVOT4Rkvd+WOo1fuMz6XNld04SdSc44xhJPLx9C6jNSWVwe9GobBhTq1cSxDCym5dK+pmstrStqk6NR64Rk8NPLw+rrM2fS79tpyDBSvKU4qUakcP8A5kj3y8P24eJGWnsibV/o1f8As5foSOXh+3DxIibUrQdtWxOLfJy4SXUBpAAKwAAADpnqtY9gvFL7j1VsewXil9wuOZg6Z6q2PYLxS+49VbHsF4pfcGOZg6Z6q2PYLxS+49VbHsF4pfcGOZg6Z6q2PYLxS+49VbHsF4pfcGOZg6Z6q2PYLxS+49VbHsF4pfcGOZg6Z6q2PYLxS+49VbHsF4pfcGOZg6Z6q2PYLxS+49VbHsF4pfcGOZg6Z6q2PYLxS+49VbHsF4pfcGOZg6Z6q2PYLxS+49VbHsF4pfcGOZg6Z6q2PYLxS+49VbHsF4pfcGOZg6Z6q2PYLxS+49VbHsF4pfcGOZg6Z6q2PYLxS+49VbHsF4pfcGOZg6Z6q2PYLxS+49VbHsF4pfcGOZg6Z6q2PYLxS+49VbHsF4pfcGOZg6Z6q2PYLxS+49VbHsF4pfcGOZg6Z6q2PYLxS+49VbHsF4pfcGOaJtPKbT+R75ef7c/EzpHqrY9gvFL7j1VsewXil9wY5vzip2k/Ez46snxlLxM6T6q2PYLxS+49VbHsF4pfcaY5sq0/25eJjlZftS72dJ9VbHsF4pfceqtj2C8UvuBzZ1p/ty8TCqy/al4mdJ9VbHsF4pfceqtj2C8UvuDHNNTznLz153nvnFTtJ+NnSPVWx7BeKX3HqrY9gvFL7gxzfl5/tz8TPEpt8W39Xk6X6q2PYLxS+49VbHsF4pfcGOZg6Z6q2PYLxS+49VbHsF4pfcGOZg6Z6q2PYLxS+49VbHsF4pfcGOZnzCOm+qtj2C8UvuPVWx7BeKX3BjmeAdM9VbHsF4pfceqtj2C8UvuDHMsDB031VsewXil9x6q2PYLxS+4MczwfMHTfVWx7BeKX3HqrY9gvFL7gxzMHTPVWx7BeKX3HqrY9gvFL7gxzMHTPVWx7BeKX3HqrY9gvFL7gxcgAigAAAAAAAAAAAAAAAAAAAAAAAAAAAAAAAAAAAAAAAAAAAAAAAAAAAAAAAAAAAAAAAAAAAAAAAAAAAAADmntCvOzt/DPzD2hXnZ2/hn5gOlg5p7Qrzs7fwz8w9oV52dv4Z+YDpYOae0K87O38M/MPaFednb+GfmA6WDmntCvOzt/DPzD2hXnZ2/hn5gOlg5p7Qrzs7fwz8w9oV52dv4Z+YDpYOae0K87O38M/MPaFednb+GfmA6WDmntCvOzt/DPzD2hXnZ2/hn5gOlg5p7Qrzs7fwz8w9oV52dv4Z+YDpYOae0K87O38M/MPaFednb+GfmA6WDmntCvOzt/DPzD2hXnZ2/hn5gOlg5p7Qrzs7fwz8w9oV52dv4Z+YDpYOae0K87O38M/MPaFednb+GfmA6WDmntCvOzt/DPzD2hXnZ2/hn5gOlg5p7Qrzs7fwz8w9oV52dv4Z+YDpYOae0K87O38M/MPaFednb+GfmA6WDmntCvOzt/DPzD2hXnZ2/hn5gOlg5p7Qrzs7fwz8w9oV52dv4Z+YDpYOae0K87O38M/MPaFednb+GfmA6WDmntCvOzt/DPzD2hXnZ2/hn5gOlg5p7Qrzs7fwz8w9oV52dv4Z+YDpYOae0K87O38M/MPaFednb+GfmA6WDmntCvOzt/DPzD2hXnZ2/hn5gOlg5p7Qrzs7fwz8w9oV52dv4Z+YDpYOae0K87O38M/MPaFednb+GfmA6WDmntCvOzt/DPzD2hXnZ2/hn5gOlg5p7Qrzs7fwz8w9oV52dv4Z+YDpYOae0K87O38M/MPaFednb+GfmA6WDmntCvOzt/DPzD2hXnZ2/hn5gOlg5p7Qrzs7fwz8w9oV52dv4Z+YDpYOae0K87O38M/MPaFednb+GfmA1MAAAAAAAAAAAAAAAAAAAAAAAAAAAAAAAAAAAAAAAAAAAAAAAAAAAAAAAAAAAAAAAAAAAAAAAAAAAAAAAAAAAAAAAAAAAAAAAAAAAAAAAAAAAAAAAAAAAAAAAAAAAAAAAAAAAAAAAAAAAAAAAAAAAAAAAAAAAAAAAAAAAAAAAAAAAAAAAAAAAAAAAAAAAAAAAAAAAAAAAAAAAAAAAAAAAAAAAAAAAAAAAAAAAAAAAAAAAAAAAH/2Q==\n"
                },
                "metadata": {}
              }
            ]
          }
        },
        "6f72af88da6349c5829ae00d740ba0a7": {
          "model_module": "@jupyter-widgets/output",
          "model_name": "OutputModel",
          "model_module_version": "1.0.0",
          "state": {
            "_dom_classes": [],
            "_model_module": "@jupyter-widgets/output",
            "_model_module_version": "1.0.0",
            "_model_name": "OutputModel",
            "_view_count": null,
            "_view_module": "@jupyter-widgets/output",
            "_view_module_version": "1.0.0",
            "_view_name": "OutputView",
            "layout": "IPY_MODEL_d923210cbd7a433e952fc541f653b884",
            "msg_id": "",
            "outputs": [
              {
                "output_type": "stream",
                "name": "stdout",
                "text": [
                  "Video available at https://www.bilibili.com/video/BV1E3411r7TL\n"
                ]
              },
              {
                "output_type": "display_data",
                "data": {
                  "text/plain": "<__main__.PlayVideo at 0x7b2a8c7c94d0>",
                  "text/html": "\n        <iframe\n            width=\"854\"\n            height=\"480\"\n            src=\"https://player.bilibili.com/player.html?bvid=BV1E3411r7TL&page=1?fs=1&autoplay=False\"\n            frameborder=\"0\"\n            allowfullscreen\n            \n        ></iframe>\n        "
                },
                "metadata": {}
              }
            ]
          }
        },
        "bf7811425f234ae5a40e19d7a19c9375": {
          "model_module": "@jupyter-widgets/base",
          "model_name": "LayoutModel",
          "model_module_version": "1.2.0",
          "state": {
            "_model_module": "@jupyter-widgets/base",
            "_model_module_version": "1.2.0",
            "_model_name": "LayoutModel",
            "_view_count": null,
            "_view_module": "@jupyter-widgets/base",
            "_view_module_version": "1.2.0",
            "_view_name": "LayoutView",
            "align_content": null,
            "align_items": null,
            "align_self": null,
            "border": null,
            "bottom": null,
            "display": null,
            "flex": null,
            "flex_flow": null,
            "grid_area": null,
            "grid_auto_columns": null,
            "grid_auto_flow": null,
            "grid_auto_rows": null,
            "grid_column": null,
            "grid_gap": null,
            "grid_row": null,
            "grid_template_areas": null,
            "grid_template_columns": null,
            "grid_template_rows": null,
            "height": null,
            "justify_content": null,
            "justify_items": null,
            "left": null,
            "margin": null,
            "max_height": null,
            "max_width": null,
            "min_height": null,
            "min_width": null,
            "object_fit": null,
            "object_position": null,
            "order": null,
            "overflow": null,
            "overflow_x": null,
            "overflow_y": null,
            "padding": null,
            "right": null,
            "top": null,
            "visibility": null,
            "width": null
          }
        },
        "734d2313dbfa4618af9ede849bec64bb": {
          "model_module": "@jupyter-widgets/base",
          "model_name": "LayoutModel",
          "model_module_version": "1.2.0",
          "state": {
            "_model_module": "@jupyter-widgets/base",
            "_model_module_version": "1.2.0",
            "_model_name": "LayoutModel",
            "_view_count": null,
            "_view_module": "@jupyter-widgets/base",
            "_view_module_version": "1.2.0",
            "_view_name": "LayoutView",
            "align_content": null,
            "align_items": null,
            "align_self": null,
            "border": null,
            "bottom": null,
            "display": null,
            "flex": null,
            "flex_flow": null,
            "grid_area": null,
            "grid_auto_columns": null,
            "grid_auto_flow": null,
            "grid_auto_rows": null,
            "grid_column": null,
            "grid_gap": null,
            "grid_row": null,
            "grid_template_areas": null,
            "grid_template_columns": null,
            "grid_template_rows": null,
            "height": null,
            "justify_content": null,
            "justify_items": null,
            "left": null,
            "margin": null,
            "max_height": null,
            "max_width": null,
            "min_height": null,
            "min_width": null,
            "object_fit": null,
            "object_position": null,
            "order": null,
            "overflow": null,
            "overflow_x": null,
            "overflow_y": null,
            "padding": null,
            "right": null,
            "top": null,
            "visibility": null,
            "width": null
          }
        },
        "d923210cbd7a433e952fc541f653b884": {
          "model_module": "@jupyter-widgets/base",
          "model_name": "LayoutModel",
          "model_module_version": "1.2.0",
          "state": {
            "_model_module": "@jupyter-widgets/base",
            "_model_module_version": "1.2.0",
            "_model_name": "LayoutModel",
            "_view_count": null,
            "_view_module": "@jupyter-widgets/base",
            "_view_module_version": "1.2.0",
            "_view_name": "LayoutView",
            "align_content": null,
            "align_items": null,
            "align_self": null,
            "border": null,
            "bottom": null,
            "display": null,
            "flex": null,
            "flex_flow": null,
            "grid_area": null,
            "grid_auto_columns": null,
            "grid_auto_flow": null,
            "grid_auto_rows": null,
            "grid_column": null,
            "grid_gap": null,
            "grid_row": null,
            "grid_template_areas": null,
            "grid_template_columns": null,
            "grid_template_rows": null,
            "height": null,
            "justify_content": null,
            "justify_items": null,
            "left": null,
            "margin": null,
            "max_height": null,
            "max_width": null,
            "min_height": null,
            "min_width": null,
            "object_fit": null,
            "object_position": null,
            "order": null,
            "overflow": null,
            "overflow_x": null,
            "overflow_y": null,
            "padding": null,
            "right": null,
            "top": null,
            "visibility": null,
            "width": null
          }
        },
        "7d9068ccf151401fbd7e6e60665f78ea": {
          "model_module": "@jupyter-widgets/controls",
          "model_name": "VBoxModel",
          "model_module_version": "1.5.0",
          "state": {
            "_dom_classes": [],
            "_model_module": "@jupyter-widgets/controls",
            "_model_module_version": "1.5.0",
            "_model_name": "VBoxModel",
            "_view_count": null,
            "_view_module": "@jupyter-widgets/controls",
            "_view_module_version": "1.5.0",
            "_view_name": "VBoxView",
            "box_style": "",
            "children": [
              "IPY_MODEL_7e84057759e9453bbe2d98b78d2debea"
            ],
            "layout": "IPY_MODEL_1cd42a32fc114af5bbe19d0f31bef36a"
          }
        },
        "7e84057759e9453bbe2d98b78d2debea": {
          "model_module": "@jupyter-widgets/controls",
          "model_name": "VBoxModel",
          "model_module_version": "1.5.0",
          "state": {
            "_dom_classes": [],
            "_model_module": "@jupyter-widgets/controls",
            "_model_module_version": "1.5.0",
            "_model_name": "VBoxModel",
            "_view_count": null,
            "_view_module": "@jupyter-widgets/controls",
            "_view_module_version": "1.5.0",
            "_view_name": "VBoxView",
            "box_style": "",
            "children": [
              "IPY_MODEL_7582ef5c9720439a8ec34bf4b10f2d06",
              "IPY_MODEL_7c63f7dc57624c5c82fd4cc5f8359b63",
              "IPY_MODEL_9264c922022245089157e4b45af33c6c"
            ],
            "layout": "IPY_MODEL_679c7c983f30484fb5ded11985bdbcd3"
          }
        },
        "1cd42a32fc114af5bbe19d0f31bef36a": {
          "model_module": "@jupyter-widgets/base",
          "model_name": "LayoutModel",
          "model_module_version": "1.2.0",
          "state": {
            "_model_module": "@jupyter-widgets/base",
            "_model_module_version": "1.2.0",
            "_model_name": "LayoutModel",
            "_view_count": null,
            "_view_module": "@jupyter-widgets/base",
            "_view_module_version": "1.2.0",
            "_view_name": "LayoutView",
            "align_content": null,
            "align_items": null,
            "align_self": null,
            "border": null,
            "bottom": null,
            "display": null,
            "flex": null,
            "flex_flow": null,
            "grid_area": null,
            "grid_auto_columns": null,
            "grid_auto_flow": null,
            "grid_auto_rows": null,
            "grid_column": null,
            "grid_gap": null,
            "grid_row": null,
            "grid_template_areas": null,
            "grid_template_columns": null,
            "grid_template_rows": null,
            "height": null,
            "justify_content": null,
            "justify_items": null,
            "left": null,
            "margin": null,
            "max_height": null,
            "max_width": null,
            "min_height": null,
            "min_width": null,
            "object_fit": null,
            "object_position": null,
            "order": null,
            "overflow": null,
            "overflow_x": null,
            "overflow_y": null,
            "padding": null,
            "right": null,
            "top": null,
            "visibility": null,
            "width": null
          }
        },
        "7582ef5c9720439a8ec34bf4b10f2d06": {
          "model_module": "@jupyter-widgets/controls",
          "model_name": "HBoxModel",
          "model_module_version": "1.5.0",
          "state": {
            "_dom_classes": [],
            "_model_module": "@jupyter-widgets/controls",
            "_model_module_version": "1.5.0",
            "_model_name": "HBoxModel",
            "_view_count": null,
            "_view_module": "@jupyter-widgets/controls",
            "_view_module_version": "1.5.0",
            "_view_name": "HBoxView",
            "box_style": "",
            "children": [
              "IPY_MODEL_2e0a78a00f654e9997155afa8fe81d41",
              "IPY_MODEL_981453f2ab0b4877b602075864ee1aba",
              "IPY_MODEL_c51e2b2a79bd43e580b34a2cb239997e"
            ],
            "layout": "IPY_MODEL_cf757e2cdff144a3b680ff6cbb21c99e"
          }
        },
        "7c63f7dc57624c5c82fd4cc5f8359b63": {
          "model_module": "@jupyter-widgets/controls",
          "model_name": "HBoxModel",
          "model_module_version": "1.5.0",
          "state": {
            "_dom_classes": [],
            "_model_module": "@jupyter-widgets/controls",
            "_model_module_version": "1.5.0",
            "_model_name": "HBoxModel",
            "_view_count": null,
            "_view_module": "@jupyter-widgets/controls",
            "_view_module_version": "1.5.0",
            "_view_name": "HBoxView",
            "box_style": "",
            "children": [
              "IPY_MODEL_7279b101833f4a779da2b0ed6d42545f",
              "IPY_MODEL_0949cd7bd7544d1f840ddf680944b6d8"
            ],
            "layout": "IPY_MODEL_cd9b3e9c19c0453ba76e559215ad8a41"
          }
        },
        "9264c922022245089157e4b45af33c6c": {
          "model_module": "@jupyter-widgets/controls",
          "model_name": "LabelModel",
          "model_module_version": "1.5.0",
          "state": {
            "_dom_classes": [],
            "_model_module": "@jupyter-widgets/controls",
            "_model_module_version": "1.5.0",
            "_model_name": "LabelModel",
            "_view_count": null,
            "_view_module": "@jupyter-widgets/controls",
            "_view_module_version": "1.5.0",
            "_view_name": "LabelView",
            "description": "",
            "description_tooltip": null,
            "layout": "IPY_MODEL_2ec9112f8b174180bbbf997b64823993",
            "placeholder": "​",
            "style": "IPY_MODEL_f53d3e42a089493db99045059edaab46",
            "value": "Thanks for your feedback!"
          }
        },
        "679c7c983f30484fb5ded11985bdbcd3": {
          "model_module": "@jupyter-widgets/base",
          "model_name": "LayoutModel",
          "model_module_version": "1.2.0",
          "state": {
            "_model_module": "@jupyter-widgets/base",
            "_model_module_version": "1.2.0",
            "_model_name": "LayoutModel",
            "_view_count": null,
            "_view_module": "@jupyter-widgets/base",
            "_view_module_version": "1.2.0",
            "_view_name": "LayoutView",
            "align_content": null,
            "align_items": null,
            "align_self": null,
            "border": null,
            "bottom": null,
            "display": null,
            "flex": null,
            "flex_flow": null,
            "grid_area": null,
            "grid_auto_columns": null,
            "grid_auto_flow": null,
            "grid_auto_rows": null,
            "grid_column": null,
            "grid_gap": null,
            "grid_row": null,
            "grid_template_areas": null,
            "grid_template_columns": null,
            "grid_template_rows": null,
            "height": null,
            "justify_content": null,
            "justify_items": null,
            "left": null,
            "margin": null,
            "max_height": null,
            "max_width": null,
            "min_height": null,
            "min_width": null,
            "object_fit": null,
            "object_position": null,
            "order": null,
            "overflow": null,
            "overflow_x": null,
            "overflow_y": null,
            "padding": null,
            "right": null,
            "top": null,
            "visibility": null,
            "width": null
          }
        },
        "2e0a78a00f654e9997155afa8fe81d41": {
          "model_module": "@jupyter-widgets/controls",
          "model_name": "ButtonModel",
          "model_module_version": "1.5.0",
          "state": {
            "_dom_classes": [
              "happy"
            ],
            "_model_module": "@jupyter-widgets/controls",
            "_model_module_version": "1.5.0",
            "_model_name": "ButtonModel",
            "_view_count": null,
            "_view_module": "@jupyter-widgets/controls",
            "_view_module_version": "1.5.0",
            "_view_name": "ButtonView",
            "button_style": "",
            "description": "🙂",
            "disabled": false,
            "icon": "",
            "layout": "IPY_MODEL_bbd2e25dd18c4b4597b1750e7bddf890",
            "style": "IPY_MODEL_56d603808fd34abea3923cd7e877a92a",
            "tooltip": "happy"
          }
        },
        "981453f2ab0b4877b602075864ee1aba": {
          "model_module": "@jupyter-widgets/controls",
          "model_name": "ButtonModel",
          "model_module_version": "1.5.0",
          "state": {
            "_dom_classes": [
              "medium"
            ],
            "_model_module": "@jupyter-widgets/controls",
            "_model_module_version": "1.5.0",
            "_model_name": "ButtonModel",
            "_view_count": null,
            "_view_module": "@jupyter-widgets/controls",
            "_view_module_version": "1.5.0",
            "_view_name": "ButtonView",
            "button_style": "",
            "description": "😐",
            "disabled": false,
            "icon": "",
            "layout": "IPY_MODEL_1a9cc46ce6cd403b81d410af0363afe8",
            "style": "IPY_MODEL_8fa086b912da4d64a467631f8e93638e",
            "tooltip": "medium"
          }
        },
        "c51e2b2a79bd43e580b34a2cb239997e": {
          "model_module": "@jupyter-widgets/controls",
          "model_name": "ButtonModel",
          "model_module_version": "1.5.0",
          "state": {
            "_dom_classes": [
              "sad"
            ],
            "_model_module": "@jupyter-widgets/controls",
            "_model_module_version": "1.5.0",
            "_model_name": "ButtonModel",
            "_view_count": null,
            "_view_module": "@jupyter-widgets/controls",
            "_view_module_version": "1.5.0",
            "_view_name": "ButtonView",
            "button_style": "",
            "description": "🙁",
            "disabled": false,
            "icon": "",
            "layout": "IPY_MODEL_bdf365b272b04c0eb7bf6ae651a103bd",
            "style": "IPY_MODEL_9996fed353ed4a2fb9a3c849ba2bfaea",
            "tooltip": "sad"
          }
        },
        "cf757e2cdff144a3b680ff6cbb21c99e": {
          "model_module": "@jupyter-widgets/base",
          "model_name": "LayoutModel",
          "model_module_version": "1.2.0",
          "state": {
            "_model_module": "@jupyter-widgets/base",
            "_model_module_version": "1.2.0",
            "_model_name": "LayoutModel",
            "_view_count": null,
            "_view_module": "@jupyter-widgets/base",
            "_view_module_version": "1.2.0",
            "_view_name": "LayoutView",
            "align_content": null,
            "align_items": null,
            "align_self": null,
            "border": null,
            "bottom": null,
            "display": null,
            "flex": null,
            "flex_flow": null,
            "grid_area": null,
            "grid_auto_columns": null,
            "grid_auto_flow": null,
            "grid_auto_rows": null,
            "grid_column": null,
            "grid_gap": null,
            "grid_row": null,
            "grid_template_areas": null,
            "grid_template_columns": null,
            "grid_template_rows": null,
            "height": null,
            "justify_content": null,
            "justify_items": null,
            "left": null,
            "margin": null,
            "max_height": null,
            "max_width": null,
            "min_height": null,
            "min_width": null,
            "object_fit": null,
            "object_position": null,
            "order": null,
            "overflow": null,
            "overflow_x": null,
            "overflow_y": null,
            "padding": null,
            "right": null,
            "top": null,
            "visibility": null,
            "width": null
          }
        },
        "7279b101833f4a779da2b0ed6d42545f": {
          "model_module": "@jupyter-widgets/controls",
          "model_name": "TextareaModel",
          "model_module_version": "1.5.0",
          "state": {
            "_dom_classes": [],
            "_model_module": "@jupyter-widgets/controls",
            "_model_module_version": "1.5.0",
            "_model_name": "TextareaModel",
            "_view_count": null,
            "_view_module": "@jupyter-widgets/controls",
            "_view_module_version": "1.5.0",
            "_view_name": "TextareaView",
            "continuous_update": true,
            "description": "",
            "description_tooltip": null,
            "disabled": false,
            "layout": "IPY_MODEL_1fe61906d9fb4d35a0d1f2563bd6e929",
            "placeholder": "We want your feedback!",
            "rows": null,
            "style": "IPY_MODEL_ad5508dcabdf46cab840e8c52c03c132",
            "value": ""
          }
        },
        "0949cd7bd7544d1f840ddf680944b6d8": {
          "model_module": "@jupyter-widgets/controls",
          "model_name": "ButtonModel",
          "model_module_version": "1.5.0",
          "state": {
            "_dom_classes": [],
            "_model_module": "@jupyter-widgets/controls",
            "_model_module_version": "1.5.0",
            "_model_name": "ButtonModel",
            "_view_count": null,
            "_view_module": "@jupyter-widgets/controls",
            "_view_module_version": "1.5.0",
            "_view_name": "ButtonView",
            "button_style": "",
            "description": "Submit",
            "disabled": false,
            "icon": "",
            "layout": "IPY_MODEL_1312a056aa5a43fc8d64c3f82a3c4316",
            "style": "IPY_MODEL_c1bd48011d294f4b901343eb79449029",
            "tooltip": ""
          }
        },
        "cd9b3e9c19c0453ba76e559215ad8a41": {
          "model_module": "@jupyter-widgets/base",
          "model_name": "LayoutModel",
          "model_module_version": "1.2.0",
          "state": {
            "_model_module": "@jupyter-widgets/base",
            "_model_module_version": "1.2.0",
            "_model_name": "LayoutModel",
            "_view_count": null,
            "_view_module": "@jupyter-widgets/base",
            "_view_module_version": "1.2.0",
            "_view_name": "LayoutView",
            "align_content": null,
            "align_items": null,
            "align_self": null,
            "border": null,
            "bottom": null,
            "display": "none",
            "flex": null,
            "flex_flow": null,
            "grid_area": null,
            "grid_auto_columns": null,
            "grid_auto_flow": null,
            "grid_auto_rows": null,
            "grid_column": null,
            "grid_gap": null,
            "grid_row": null,
            "grid_template_areas": null,
            "grid_template_columns": null,
            "grid_template_rows": null,
            "height": null,
            "justify_content": null,
            "justify_items": null,
            "left": null,
            "margin": null,
            "max_height": null,
            "max_width": null,
            "min_height": null,
            "min_width": null,
            "object_fit": null,
            "object_position": null,
            "order": null,
            "overflow": null,
            "overflow_x": null,
            "overflow_y": null,
            "padding": null,
            "right": null,
            "top": null,
            "visibility": null,
            "width": null
          }
        },
        "2ec9112f8b174180bbbf997b64823993": {
          "model_module": "@jupyter-widgets/base",
          "model_name": "LayoutModel",
          "model_module_version": "1.2.0",
          "state": {
            "_model_module": "@jupyter-widgets/base",
            "_model_module_version": "1.2.0",
            "_model_name": "LayoutModel",
            "_view_count": null,
            "_view_module": "@jupyter-widgets/base",
            "_view_module_version": "1.2.0",
            "_view_name": "LayoutView",
            "align_content": null,
            "align_items": null,
            "align_self": null,
            "border": null,
            "bottom": null,
            "display": "none",
            "flex": null,
            "flex_flow": null,
            "grid_area": null,
            "grid_auto_columns": null,
            "grid_auto_flow": null,
            "grid_auto_rows": null,
            "grid_column": null,
            "grid_gap": null,
            "grid_row": null,
            "grid_template_areas": null,
            "grid_template_columns": null,
            "grid_template_rows": null,
            "height": null,
            "justify_content": null,
            "justify_items": null,
            "left": null,
            "margin": null,
            "max_height": null,
            "max_width": null,
            "min_height": null,
            "min_width": null,
            "object_fit": null,
            "object_position": null,
            "order": null,
            "overflow": null,
            "overflow_x": null,
            "overflow_y": null,
            "padding": null,
            "right": null,
            "top": null,
            "visibility": null,
            "width": null
          }
        },
        "f53d3e42a089493db99045059edaab46": {
          "model_module": "@jupyter-widgets/controls",
          "model_name": "DescriptionStyleModel",
          "model_module_version": "1.5.0",
          "state": {
            "_model_module": "@jupyter-widgets/controls",
            "_model_module_version": "1.5.0",
            "_model_name": "DescriptionStyleModel",
            "_view_count": null,
            "_view_module": "@jupyter-widgets/base",
            "_view_module_version": "1.2.0",
            "_view_name": "StyleView",
            "description_width": ""
          }
        },
        "bbd2e25dd18c4b4597b1750e7bddf890": {
          "model_module": "@jupyter-widgets/base",
          "model_name": "LayoutModel",
          "model_module_version": "1.2.0",
          "state": {
            "_model_module": "@jupyter-widgets/base",
            "_model_module_version": "1.2.0",
            "_model_name": "LayoutModel",
            "_view_count": null,
            "_view_module": "@jupyter-widgets/base",
            "_view_module_version": "1.2.0",
            "_view_name": "LayoutView",
            "align_content": null,
            "align_items": null,
            "align_self": null,
            "border": null,
            "bottom": null,
            "display": null,
            "flex": null,
            "flex_flow": null,
            "grid_area": null,
            "grid_auto_columns": null,
            "grid_auto_flow": null,
            "grid_auto_rows": null,
            "grid_column": null,
            "grid_gap": null,
            "grid_row": null,
            "grid_template_areas": null,
            "grid_template_columns": null,
            "grid_template_rows": null,
            "height": "auto",
            "justify_content": null,
            "justify_items": null,
            "left": null,
            "margin": null,
            "max_height": null,
            "max_width": null,
            "min_height": null,
            "min_width": null,
            "object_fit": null,
            "object_position": null,
            "order": null,
            "overflow": null,
            "overflow_x": null,
            "overflow_y": null,
            "padding": "0.5em",
            "right": null,
            "top": null,
            "visibility": null,
            "width": "auto"
          }
        },
        "56d603808fd34abea3923cd7e877a92a": {
          "model_module": "@jupyter-widgets/controls",
          "model_name": "ButtonStyleModel",
          "model_module_version": "1.5.0",
          "state": {
            "_model_module": "@jupyter-widgets/controls",
            "_model_module_version": "1.5.0",
            "_model_name": "ButtonStyleModel",
            "_view_count": null,
            "_view_module": "@jupyter-widgets/base",
            "_view_module_version": "1.2.0",
            "_view_name": "StyleView",
            "button_color": "#aaffaa",
            "font_weight": ""
          }
        },
        "1a9cc46ce6cd403b81d410af0363afe8": {
          "model_module": "@jupyter-widgets/base",
          "model_name": "LayoutModel",
          "model_module_version": "1.2.0",
          "state": {
            "_model_module": "@jupyter-widgets/base",
            "_model_module_version": "1.2.0",
            "_model_name": "LayoutModel",
            "_view_count": null,
            "_view_module": "@jupyter-widgets/base",
            "_view_module_version": "1.2.0",
            "_view_name": "LayoutView",
            "align_content": null,
            "align_items": null,
            "align_self": null,
            "border": null,
            "bottom": null,
            "display": null,
            "flex": null,
            "flex_flow": null,
            "grid_area": null,
            "grid_auto_columns": null,
            "grid_auto_flow": null,
            "grid_auto_rows": null,
            "grid_column": null,
            "grid_gap": null,
            "grid_row": null,
            "grid_template_areas": null,
            "grid_template_columns": null,
            "grid_template_rows": null,
            "height": "auto",
            "justify_content": null,
            "justify_items": null,
            "left": null,
            "margin": null,
            "max_height": null,
            "max_width": null,
            "min_height": null,
            "min_width": null,
            "object_fit": null,
            "object_position": null,
            "order": null,
            "overflow": null,
            "overflow_x": null,
            "overflow_y": null,
            "padding": "0.5em",
            "right": null,
            "top": null,
            "visibility": null,
            "width": "auto"
          }
        },
        "8fa086b912da4d64a467631f8e93638e": {
          "model_module": "@jupyter-widgets/controls",
          "model_name": "ButtonStyleModel",
          "model_module_version": "1.5.0",
          "state": {
            "_model_module": "@jupyter-widgets/controls",
            "_model_module_version": "1.5.0",
            "_model_name": "ButtonStyleModel",
            "_view_count": null,
            "_view_module": "@jupyter-widgets/base",
            "_view_module_version": "1.2.0",
            "_view_name": "StyleView",
            "button_color": "#dddd77",
            "font_weight": ""
          }
        },
        "bdf365b272b04c0eb7bf6ae651a103bd": {
          "model_module": "@jupyter-widgets/base",
          "model_name": "LayoutModel",
          "model_module_version": "1.2.0",
          "state": {
            "_model_module": "@jupyter-widgets/base",
            "_model_module_version": "1.2.0",
            "_model_name": "LayoutModel",
            "_view_count": null,
            "_view_module": "@jupyter-widgets/base",
            "_view_module_version": "1.2.0",
            "_view_name": "LayoutView",
            "align_content": null,
            "align_items": null,
            "align_self": null,
            "border": null,
            "bottom": null,
            "display": null,
            "flex": null,
            "flex_flow": null,
            "grid_area": null,
            "grid_auto_columns": null,
            "grid_auto_flow": null,
            "grid_auto_rows": null,
            "grid_column": null,
            "grid_gap": null,
            "grid_row": null,
            "grid_template_areas": null,
            "grid_template_columns": null,
            "grid_template_rows": null,
            "height": "auto",
            "justify_content": null,
            "justify_items": null,
            "left": null,
            "margin": null,
            "max_height": null,
            "max_width": null,
            "min_height": null,
            "min_width": null,
            "object_fit": null,
            "object_position": null,
            "order": null,
            "overflow": null,
            "overflow_x": null,
            "overflow_y": null,
            "padding": "0.5em",
            "right": null,
            "top": null,
            "visibility": null,
            "width": "auto"
          }
        },
        "9996fed353ed4a2fb9a3c849ba2bfaea": {
          "model_module": "@jupyter-widgets/controls",
          "model_name": "ButtonStyleModel",
          "model_module_version": "1.5.0",
          "state": {
            "_model_module": "@jupyter-widgets/controls",
            "_model_module_version": "1.5.0",
            "_model_name": "ButtonStyleModel",
            "_view_count": null,
            "_view_module": "@jupyter-widgets/base",
            "_view_module_version": "1.2.0",
            "_view_name": "StyleView",
            "button_color": "#ffaaaa",
            "font_weight": ""
          }
        },
        "1fe61906d9fb4d35a0d1f2563bd6e929": {
          "model_module": "@jupyter-widgets/base",
          "model_name": "LayoutModel",
          "model_module_version": "1.2.0",
          "state": {
            "_model_module": "@jupyter-widgets/base",
            "_model_module_version": "1.2.0",
            "_model_name": "LayoutModel",
            "_view_count": null,
            "_view_module": "@jupyter-widgets/base",
            "_view_module_version": "1.2.0",
            "_view_name": "LayoutView",
            "align_content": null,
            "align_items": null,
            "align_self": null,
            "border": null,
            "bottom": null,
            "display": null,
            "flex": null,
            "flex_flow": null,
            "grid_area": null,
            "grid_auto_columns": null,
            "grid_auto_flow": null,
            "grid_auto_rows": null,
            "grid_column": null,
            "grid_gap": null,
            "grid_row": null,
            "grid_template_areas": null,
            "grid_template_columns": null,
            "grid_template_rows": null,
            "height": "auto",
            "justify_content": null,
            "justify_items": null,
            "left": null,
            "margin": null,
            "max_height": null,
            "max_width": null,
            "min_height": null,
            "min_width": null,
            "object_fit": null,
            "object_position": null,
            "order": null,
            "overflow": null,
            "overflow_x": null,
            "overflow_y": null,
            "padding": null,
            "right": null,
            "top": null,
            "visibility": null,
            "width": "auto"
          }
        },
        "ad5508dcabdf46cab840e8c52c03c132": {
          "model_module": "@jupyter-widgets/controls",
          "model_name": "DescriptionStyleModel",
          "model_module_version": "1.5.0",
          "state": {
            "_model_module": "@jupyter-widgets/controls",
            "_model_module_version": "1.5.0",
            "_model_name": "DescriptionStyleModel",
            "_view_count": null,
            "_view_module": "@jupyter-widgets/base",
            "_view_module_version": "1.2.0",
            "_view_name": "StyleView",
            "description_width": ""
          }
        },
        "1312a056aa5a43fc8d64c3f82a3c4316": {
          "model_module": "@jupyter-widgets/base",
          "model_name": "LayoutModel",
          "model_module_version": "1.2.0",
          "state": {
            "_model_module": "@jupyter-widgets/base",
            "_model_module_version": "1.2.0",
            "_model_name": "LayoutModel",
            "_view_count": null,
            "_view_module": "@jupyter-widgets/base",
            "_view_module_version": "1.2.0",
            "_view_name": "LayoutView",
            "align_content": null,
            "align_items": null,
            "align_self": null,
            "border": null,
            "bottom": null,
            "display": null,
            "flex": null,
            "flex_flow": null,
            "grid_area": null,
            "grid_auto_columns": null,
            "grid_auto_flow": null,
            "grid_auto_rows": null,
            "grid_column": null,
            "grid_gap": null,
            "grid_row": null,
            "grid_template_areas": null,
            "grid_template_columns": null,
            "grid_template_rows": null,
            "height": "auto",
            "justify_content": null,
            "justify_items": null,
            "left": null,
            "margin": null,
            "max_height": null,
            "max_width": null,
            "min_height": null,
            "min_width": null,
            "object_fit": null,
            "object_position": null,
            "order": null,
            "overflow": null,
            "overflow_x": null,
            "overflow_y": null,
            "padding": null,
            "right": null,
            "top": null,
            "visibility": null,
            "width": "auto"
          }
        },
        "c1bd48011d294f4b901343eb79449029": {
          "model_module": "@jupyter-widgets/controls",
          "model_name": "ButtonStyleModel",
          "model_module_version": "1.5.0",
          "state": {
            "_model_module": "@jupyter-widgets/controls",
            "_model_module_version": "1.5.0",
            "_model_name": "ButtonStyleModel",
            "_view_count": null,
            "_view_module": "@jupyter-widgets/base",
            "_view_module_version": "1.2.0",
            "_view_name": "StyleView",
            "button_color": null,
            "font_weight": ""
          }
        },
        "6cc1ede8092d47e09063160413b6200d": {
          "model_module": "@jupyter-widgets/controls",
          "model_name": "TabModel",
          "model_module_version": "1.5.0",
          "state": {
            "_dom_classes": [],
            "_model_module": "@jupyter-widgets/controls",
            "_model_module_version": "1.5.0",
            "_model_name": "TabModel",
            "_titles": {
              "0": "Youtube",
              "1": "Bilibili"
            },
            "_view_count": null,
            "_view_module": "@jupyter-widgets/controls",
            "_view_module_version": "1.5.0",
            "_view_name": "TabView",
            "box_style": "",
            "children": [
              "IPY_MODEL_1de07beed08a440eb85423c188ca4a62",
              "IPY_MODEL_1d4ad69711e1441b9196fb9ef2a1423a"
            ],
            "layout": "IPY_MODEL_fcd67727fa114306bffbb3e21391382d",
            "selected_index": 0
          }
        },
        "1de07beed08a440eb85423c188ca4a62": {
          "model_module": "@jupyter-widgets/output",
          "model_name": "OutputModel",
          "model_module_version": "1.0.0",
          "state": {
            "_dom_classes": [],
            "_model_module": "@jupyter-widgets/output",
            "_model_module_version": "1.0.0",
            "_model_name": "OutputModel",
            "_view_count": null,
            "_view_module": "@jupyter-widgets/output",
            "_view_module_version": "1.0.0",
            "_view_name": "OutputView",
            "layout": "IPY_MODEL_d8d16217e4a945bd84171bb0a47c5321",
            "msg_id": "",
            "outputs": [
              {
                "output_type": "stream",
                "name": "stdout",
                "text": [
                  "Video available at https://youtube.com/watch?v=tg8HHKo1aH4\n"
                ]
              },
              {
                "output_type": "display_data",
                "data": {
                  "text/plain": "<IPython.lib.display.YouTubeVideo at 0x7b2a52938710>",
                  "text/html": "\n        <iframe\n            width=\"854\"\n            height=\"480\"\n            src=\"https://www.youtube.com/embed/tg8HHKo1aH4?fs=1&rel=0\"\n            frameborder=\"0\"\n            allowfullscreen\n            \n        ></iframe>\n        ",
                  "image/jpeg": "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\n"
                },
                "metadata": {}
              }
            ]
          }
        },
        "1d4ad69711e1441b9196fb9ef2a1423a": {
          "model_module": "@jupyter-widgets/output",
          "model_name": "OutputModel",
          "model_module_version": "1.0.0",
          "state": {
            "_dom_classes": [],
            "_model_module": "@jupyter-widgets/output",
            "_model_module_version": "1.0.0",
            "_model_name": "OutputModel",
            "_view_count": null,
            "_view_module": "@jupyter-widgets/output",
            "_view_module_version": "1.0.0",
            "_view_name": "OutputView",
            "layout": "IPY_MODEL_aceede3cdc1246819d6b771d2094370d",
            "msg_id": "",
            "outputs": [
              {
                "output_type": "stream",
                "name": "stdout",
                "text": [
                  "Video available at https://www.bilibili.com/video/BV1SP4y147Uv\n"
                ]
              },
              {
                "output_type": "display_data",
                "data": {
                  "text/plain": "<__main__.PlayVideo at 0x7b2aaa71ef10>",
                  "text/html": "\n        <iframe\n            width=\"854\"\n            height=\"480\"\n            src=\"https://player.bilibili.com/player.html?bvid=BV1SP4y147Uv&page=1?fs=1&autoplay=False\"\n            frameborder=\"0\"\n            allowfullscreen\n            \n        ></iframe>\n        "
                },
                "metadata": {}
              }
            ]
          }
        },
        "fcd67727fa114306bffbb3e21391382d": {
          "model_module": "@jupyter-widgets/base",
          "model_name": "LayoutModel",
          "model_module_version": "1.2.0",
          "state": {
            "_model_module": "@jupyter-widgets/base",
            "_model_module_version": "1.2.0",
            "_model_name": "LayoutModel",
            "_view_count": null,
            "_view_module": "@jupyter-widgets/base",
            "_view_module_version": "1.2.0",
            "_view_name": "LayoutView",
            "align_content": null,
            "align_items": null,
            "align_self": null,
            "border": null,
            "bottom": null,
            "display": null,
            "flex": null,
            "flex_flow": null,
            "grid_area": null,
            "grid_auto_columns": null,
            "grid_auto_flow": null,
            "grid_auto_rows": null,
            "grid_column": null,
            "grid_gap": null,
            "grid_row": null,
            "grid_template_areas": null,
            "grid_template_columns": null,
            "grid_template_rows": null,
            "height": null,
            "justify_content": null,
            "justify_items": null,
            "left": null,
            "margin": null,
            "max_height": null,
            "max_width": null,
            "min_height": null,
            "min_width": null,
            "object_fit": null,
            "object_position": null,
            "order": null,
            "overflow": null,
            "overflow_x": null,
            "overflow_y": null,
            "padding": null,
            "right": null,
            "top": null,
            "visibility": null,
            "width": null
          }
        },
        "d8d16217e4a945bd84171bb0a47c5321": {
          "model_module": "@jupyter-widgets/base",
          "model_name": "LayoutModel",
          "model_module_version": "1.2.0",
          "state": {
            "_model_module": "@jupyter-widgets/base",
            "_model_module_version": "1.2.0",
            "_model_name": "LayoutModel",
            "_view_count": null,
            "_view_module": "@jupyter-widgets/base",
            "_view_module_version": "1.2.0",
            "_view_name": "LayoutView",
            "align_content": null,
            "align_items": null,
            "align_self": null,
            "border": null,
            "bottom": null,
            "display": null,
            "flex": null,
            "flex_flow": null,
            "grid_area": null,
            "grid_auto_columns": null,
            "grid_auto_flow": null,
            "grid_auto_rows": null,
            "grid_column": null,
            "grid_gap": null,
            "grid_row": null,
            "grid_template_areas": null,
            "grid_template_columns": null,
            "grid_template_rows": null,
            "height": null,
            "justify_content": null,
            "justify_items": null,
            "left": null,
            "margin": null,
            "max_height": null,
            "max_width": null,
            "min_height": null,
            "min_width": null,
            "object_fit": null,
            "object_position": null,
            "order": null,
            "overflow": null,
            "overflow_x": null,
            "overflow_y": null,
            "padding": null,
            "right": null,
            "top": null,
            "visibility": null,
            "width": null
          }
        },
        "aceede3cdc1246819d6b771d2094370d": {
          "model_module": "@jupyter-widgets/base",
          "model_name": "LayoutModel",
          "model_module_version": "1.2.0",
          "state": {
            "_model_module": "@jupyter-widgets/base",
            "_model_module_version": "1.2.0",
            "_model_name": "LayoutModel",
            "_view_count": null,
            "_view_module": "@jupyter-widgets/base",
            "_view_module_version": "1.2.0",
            "_view_name": "LayoutView",
            "align_content": null,
            "align_items": null,
            "align_self": null,
            "border": null,
            "bottom": null,
            "display": null,
            "flex": null,
            "flex_flow": null,
            "grid_area": null,
            "grid_auto_columns": null,
            "grid_auto_flow": null,
            "grid_auto_rows": null,
            "grid_column": null,
            "grid_gap": null,
            "grid_row": null,
            "grid_template_areas": null,
            "grid_template_columns": null,
            "grid_template_rows": null,
            "height": null,
            "justify_content": null,
            "justify_items": null,
            "left": null,
            "margin": null,
            "max_height": null,
            "max_width": null,
            "min_height": null,
            "min_width": null,
            "object_fit": null,
            "object_position": null,
            "order": null,
            "overflow": null,
            "overflow_x": null,
            "overflow_y": null,
            "padding": null,
            "right": null,
            "top": null,
            "visibility": null,
            "width": null
          }
        },
        "99f2c2dadb64412dacc9f75b4fdf1fe5": {
          "model_module": "@jupyter-widgets/controls",
          "model_name": "VBoxModel",
          "model_module_version": "1.5.0",
          "state": {
            "_dom_classes": [],
            "_model_module": "@jupyter-widgets/controls",
            "_model_module_version": "1.5.0",
            "_model_name": "VBoxModel",
            "_view_count": null,
            "_view_module": "@jupyter-widgets/controls",
            "_view_module_version": "1.5.0",
            "_view_name": "VBoxView",
            "box_style": "",
            "children": [
              "IPY_MODEL_bd44801222d445cabf7912c482725810"
            ],
            "layout": "IPY_MODEL_79e11697f0a74a29a39206c9d79141b8"
          }
        },
        "bd44801222d445cabf7912c482725810": {
          "model_module": "@jupyter-widgets/controls",
          "model_name": "VBoxModel",
          "model_module_version": "1.5.0",
          "state": {
            "_dom_classes": [],
            "_model_module": "@jupyter-widgets/controls",
            "_model_module_version": "1.5.0",
            "_model_name": "VBoxModel",
            "_view_count": null,
            "_view_module": "@jupyter-widgets/controls",
            "_view_module_version": "1.5.0",
            "_view_name": "VBoxView",
            "box_style": "",
            "children": [
              "IPY_MODEL_ee10f1e98cb6495886bdbb094a43d3ac",
              "IPY_MODEL_a2ed45753775474bb44d5891eba88682",
              "IPY_MODEL_cc1bc30539a2464ebd384eecb4a897c1"
            ],
            "layout": "IPY_MODEL_2d954fb77ff04d0dadf6a9ba357367e9"
          }
        },
        "79e11697f0a74a29a39206c9d79141b8": {
          "model_module": "@jupyter-widgets/base",
          "model_name": "LayoutModel",
          "model_module_version": "1.2.0",
          "state": {
            "_model_module": "@jupyter-widgets/base",
            "_model_module_version": "1.2.0",
            "_model_name": "LayoutModel",
            "_view_count": null,
            "_view_module": "@jupyter-widgets/base",
            "_view_module_version": "1.2.0",
            "_view_name": "LayoutView",
            "align_content": null,
            "align_items": null,
            "align_self": null,
            "border": null,
            "bottom": null,
            "display": null,
            "flex": null,
            "flex_flow": null,
            "grid_area": null,
            "grid_auto_columns": null,
            "grid_auto_flow": null,
            "grid_auto_rows": null,
            "grid_column": null,
            "grid_gap": null,
            "grid_row": null,
            "grid_template_areas": null,
            "grid_template_columns": null,
            "grid_template_rows": null,
            "height": null,
            "justify_content": null,
            "justify_items": null,
            "left": null,
            "margin": null,
            "max_height": null,
            "max_width": null,
            "min_height": null,
            "min_width": null,
            "object_fit": null,
            "object_position": null,
            "order": null,
            "overflow": null,
            "overflow_x": null,
            "overflow_y": null,
            "padding": null,
            "right": null,
            "top": null,
            "visibility": null,
            "width": null
          }
        },
        "ee10f1e98cb6495886bdbb094a43d3ac": {
          "model_module": "@jupyter-widgets/controls",
          "model_name": "HBoxModel",
          "model_module_version": "1.5.0",
          "state": {
            "_dom_classes": [],
            "_model_module": "@jupyter-widgets/controls",
            "_model_module_version": "1.5.0",
            "_model_name": "HBoxModel",
            "_view_count": null,
            "_view_module": "@jupyter-widgets/controls",
            "_view_module_version": "1.5.0",
            "_view_name": "HBoxView",
            "box_style": "",
            "children": [
              "IPY_MODEL_459f397166154c3a9829c3f6283d620d",
              "IPY_MODEL_5f9f81aea0c44f0faeb229dd03e65471",
              "IPY_MODEL_c8f542c742374ddfac7667567724e69c"
            ],
            "layout": "IPY_MODEL_8300c3e9ec93483b94044a2c287e2fd6"
          }
        },
        "a2ed45753775474bb44d5891eba88682": {
          "model_module": "@jupyter-widgets/controls",
          "model_name": "HBoxModel",
          "model_module_version": "1.5.0",
          "state": {
            "_dom_classes": [],
            "_model_module": "@jupyter-widgets/controls",
            "_model_module_version": "1.5.0",
            "_model_name": "HBoxModel",
            "_view_count": null,
            "_view_module": "@jupyter-widgets/controls",
            "_view_module_version": "1.5.0",
            "_view_name": "HBoxView",
            "box_style": "",
            "children": [
              "IPY_MODEL_cdade1b036234e1db1873d3779399777",
              "IPY_MODEL_cd0e51070b924748969a1abde3e40213"
            ],
            "layout": "IPY_MODEL_63136a544a3f439391b81b9e473cb649"
          }
        },
        "cc1bc30539a2464ebd384eecb4a897c1": {
          "model_module": "@jupyter-widgets/controls",
          "model_name": "LabelModel",
          "model_module_version": "1.5.0",
          "state": {
            "_dom_classes": [],
            "_model_module": "@jupyter-widgets/controls",
            "_model_module_version": "1.5.0",
            "_model_name": "LabelModel",
            "_view_count": null,
            "_view_module": "@jupyter-widgets/controls",
            "_view_module_version": "1.5.0",
            "_view_name": "LabelView",
            "description": "",
            "description_tooltip": null,
            "layout": "IPY_MODEL_23475f2fb8324c559cc43e479af1d782",
            "placeholder": "​",
            "style": "IPY_MODEL_552f84db801f483091e553fc63b8b176",
            "value": "Thanks for your feedback!"
          }
        },
        "2d954fb77ff04d0dadf6a9ba357367e9": {
          "model_module": "@jupyter-widgets/base",
          "model_name": "LayoutModel",
          "model_module_version": "1.2.0",
          "state": {
            "_model_module": "@jupyter-widgets/base",
            "_model_module_version": "1.2.0",
            "_model_name": "LayoutModel",
            "_view_count": null,
            "_view_module": "@jupyter-widgets/base",
            "_view_module_version": "1.2.0",
            "_view_name": "LayoutView",
            "align_content": null,
            "align_items": null,
            "align_self": null,
            "border": null,
            "bottom": null,
            "display": null,
            "flex": null,
            "flex_flow": null,
            "grid_area": null,
            "grid_auto_columns": null,
            "grid_auto_flow": null,
            "grid_auto_rows": null,
            "grid_column": null,
            "grid_gap": null,
            "grid_row": null,
            "grid_template_areas": null,
            "grid_template_columns": null,
            "grid_template_rows": null,
            "height": null,
            "justify_content": null,
            "justify_items": null,
            "left": null,
            "margin": null,
            "max_height": null,
            "max_width": null,
            "min_height": null,
            "min_width": null,
            "object_fit": null,
            "object_position": null,
            "order": null,
            "overflow": null,
            "overflow_x": null,
            "overflow_y": null,
            "padding": null,
            "right": null,
            "top": null,
            "visibility": null,
            "width": null
          }
        },
        "459f397166154c3a9829c3f6283d620d": {
          "model_module": "@jupyter-widgets/controls",
          "model_name": "ButtonModel",
          "model_module_version": "1.5.0",
          "state": {
            "_dom_classes": [
              "happy"
            ],
            "_model_module": "@jupyter-widgets/controls",
            "_model_module_version": "1.5.0",
            "_model_name": "ButtonModel",
            "_view_count": null,
            "_view_module": "@jupyter-widgets/controls",
            "_view_module_version": "1.5.0",
            "_view_name": "ButtonView",
            "button_style": "",
            "description": "🙂",
            "disabled": false,
            "icon": "",
            "layout": "IPY_MODEL_3e81ea1dc3d7427b9c751fb97d792f43",
            "style": "IPY_MODEL_edecfe68400746a49b5ba08df84ebce2",
            "tooltip": "happy"
          }
        },
        "5f9f81aea0c44f0faeb229dd03e65471": {
          "model_module": "@jupyter-widgets/controls",
          "model_name": "ButtonModel",
          "model_module_version": "1.5.0",
          "state": {
            "_dom_classes": [
              "medium"
            ],
            "_model_module": "@jupyter-widgets/controls",
            "_model_module_version": "1.5.0",
            "_model_name": "ButtonModel",
            "_view_count": null,
            "_view_module": "@jupyter-widgets/controls",
            "_view_module_version": "1.5.0",
            "_view_name": "ButtonView",
            "button_style": "",
            "description": "😐",
            "disabled": false,
            "icon": "",
            "layout": "IPY_MODEL_4265597c5a864baa838e7bb5eb92b670",
            "style": "IPY_MODEL_13bb8183c2214cf0a9aa49c7e9dfad70",
            "tooltip": "medium"
          }
        },
        "c8f542c742374ddfac7667567724e69c": {
          "model_module": "@jupyter-widgets/controls",
          "model_name": "ButtonModel",
          "model_module_version": "1.5.0",
          "state": {
            "_dom_classes": [
              "sad"
            ],
            "_model_module": "@jupyter-widgets/controls",
            "_model_module_version": "1.5.0",
            "_model_name": "ButtonModel",
            "_view_count": null,
            "_view_module": "@jupyter-widgets/controls",
            "_view_module_version": "1.5.0",
            "_view_name": "ButtonView",
            "button_style": "",
            "description": "🙁",
            "disabled": false,
            "icon": "",
            "layout": "IPY_MODEL_f5de9b5de26e43759ad6e0ea199778e0",
            "style": "IPY_MODEL_359ac1f0496b4b6981b19fea27d5e8a6",
            "tooltip": "sad"
          }
        },
        "8300c3e9ec93483b94044a2c287e2fd6": {
          "model_module": "@jupyter-widgets/base",
          "model_name": "LayoutModel",
          "model_module_version": "1.2.0",
          "state": {
            "_model_module": "@jupyter-widgets/base",
            "_model_module_version": "1.2.0",
            "_model_name": "LayoutModel",
            "_view_count": null,
            "_view_module": "@jupyter-widgets/base",
            "_view_module_version": "1.2.0",
            "_view_name": "LayoutView",
            "align_content": null,
            "align_items": null,
            "align_self": null,
            "border": null,
            "bottom": null,
            "display": null,
            "flex": null,
            "flex_flow": null,
            "grid_area": null,
            "grid_auto_columns": null,
            "grid_auto_flow": null,
            "grid_auto_rows": null,
            "grid_column": null,
            "grid_gap": null,
            "grid_row": null,
            "grid_template_areas": null,
            "grid_template_columns": null,
            "grid_template_rows": null,
            "height": null,
            "justify_content": null,
            "justify_items": null,
            "left": null,
            "margin": null,
            "max_height": null,
            "max_width": null,
            "min_height": null,
            "min_width": null,
            "object_fit": null,
            "object_position": null,
            "order": null,
            "overflow": null,
            "overflow_x": null,
            "overflow_y": null,
            "padding": null,
            "right": null,
            "top": null,
            "visibility": null,
            "width": null
          }
        },
        "cdade1b036234e1db1873d3779399777": {
          "model_module": "@jupyter-widgets/controls",
          "model_name": "TextareaModel",
          "model_module_version": "1.5.0",
          "state": {
            "_dom_classes": [],
            "_model_module": "@jupyter-widgets/controls",
            "_model_module_version": "1.5.0",
            "_model_name": "TextareaModel",
            "_view_count": null,
            "_view_module": "@jupyter-widgets/controls",
            "_view_module_version": "1.5.0",
            "_view_name": "TextareaView",
            "continuous_update": true,
            "description": "",
            "description_tooltip": null,
            "disabled": false,
            "layout": "IPY_MODEL_f5d21aab6dc84bba8b1cdd169a8cf6e7",
            "placeholder": "We want your feedback!",
            "rows": null,
            "style": "IPY_MODEL_c8019b4d759a4438a56b2b18e97a3da5",
            "value": ""
          }
        },
        "cd0e51070b924748969a1abde3e40213": {
          "model_module": "@jupyter-widgets/controls",
          "model_name": "ButtonModel",
          "model_module_version": "1.5.0",
          "state": {
            "_dom_classes": [],
            "_model_module": "@jupyter-widgets/controls",
            "_model_module_version": "1.5.0",
            "_model_name": "ButtonModel",
            "_view_count": null,
            "_view_module": "@jupyter-widgets/controls",
            "_view_module_version": "1.5.0",
            "_view_name": "ButtonView",
            "button_style": "",
            "description": "Submit",
            "disabled": false,
            "icon": "",
            "layout": "IPY_MODEL_bd74d486e5684572b64a805b4fc35f33",
            "style": "IPY_MODEL_c0368e0a3f824a889ffb0879cb2ac146",
            "tooltip": ""
          }
        },
        "63136a544a3f439391b81b9e473cb649": {
          "model_module": "@jupyter-widgets/base",
          "model_name": "LayoutModel",
          "model_module_version": "1.2.0",
          "state": {
            "_model_module": "@jupyter-widgets/base",
            "_model_module_version": "1.2.0",
            "_model_name": "LayoutModel",
            "_view_count": null,
            "_view_module": "@jupyter-widgets/base",
            "_view_module_version": "1.2.0",
            "_view_name": "LayoutView",
            "align_content": null,
            "align_items": null,
            "align_self": null,
            "border": null,
            "bottom": null,
            "display": "none",
            "flex": null,
            "flex_flow": null,
            "grid_area": null,
            "grid_auto_columns": null,
            "grid_auto_flow": null,
            "grid_auto_rows": null,
            "grid_column": null,
            "grid_gap": null,
            "grid_row": null,
            "grid_template_areas": null,
            "grid_template_columns": null,
            "grid_template_rows": null,
            "height": null,
            "justify_content": null,
            "justify_items": null,
            "left": null,
            "margin": null,
            "max_height": null,
            "max_width": null,
            "min_height": null,
            "min_width": null,
            "object_fit": null,
            "object_position": null,
            "order": null,
            "overflow": null,
            "overflow_x": null,
            "overflow_y": null,
            "padding": null,
            "right": null,
            "top": null,
            "visibility": null,
            "width": null
          }
        },
        "23475f2fb8324c559cc43e479af1d782": {
          "model_module": "@jupyter-widgets/base",
          "model_name": "LayoutModel",
          "model_module_version": "1.2.0",
          "state": {
            "_model_module": "@jupyter-widgets/base",
            "_model_module_version": "1.2.0",
            "_model_name": "LayoutModel",
            "_view_count": null,
            "_view_module": "@jupyter-widgets/base",
            "_view_module_version": "1.2.0",
            "_view_name": "LayoutView",
            "align_content": null,
            "align_items": null,
            "align_self": null,
            "border": null,
            "bottom": null,
            "display": "none",
            "flex": null,
            "flex_flow": null,
            "grid_area": null,
            "grid_auto_columns": null,
            "grid_auto_flow": null,
            "grid_auto_rows": null,
            "grid_column": null,
            "grid_gap": null,
            "grid_row": null,
            "grid_template_areas": null,
            "grid_template_columns": null,
            "grid_template_rows": null,
            "height": null,
            "justify_content": null,
            "justify_items": null,
            "left": null,
            "margin": null,
            "max_height": null,
            "max_width": null,
            "min_height": null,
            "min_width": null,
            "object_fit": null,
            "object_position": null,
            "order": null,
            "overflow": null,
            "overflow_x": null,
            "overflow_y": null,
            "padding": null,
            "right": null,
            "top": null,
            "visibility": null,
            "width": null
          }
        },
        "552f84db801f483091e553fc63b8b176": {
          "model_module": "@jupyter-widgets/controls",
          "model_name": "DescriptionStyleModel",
          "model_module_version": "1.5.0",
          "state": {
            "_model_module": "@jupyter-widgets/controls",
            "_model_module_version": "1.5.0",
            "_model_name": "DescriptionStyleModel",
            "_view_count": null,
            "_view_module": "@jupyter-widgets/base",
            "_view_module_version": "1.2.0",
            "_view_name": "StyleView",
            "description_width": ""
          }
        },
        "3e81ea1dc3d7427b9c751fb97d792f43": {
          "model_module": "@jupyter-widgets/base",
          "model_name": "LayoutModel",
          "model_module_version": "1.2.0",
          "state": {
            "_model_module": "@jupyter-widgets/base",
            "_model_module_version": "1.2.0",
            "_model_name": "LayoutModel",
            "_view_count": null,
            "_view_module": "@jupyter-widgets/base",
            "_view_module_version": "1.2.0",
            "_view_name": "LayoutView",
            "align_content": null,
            "align_items": null,
            "align_self": null,
            "border": null,
            "bottom": null,
            "display": null,
            "flex": null,
            "flex_flow": null,
            "grid_area": null,
            "grid_auto_columns": null,
            "grid_auto_flow": null,
            "grid_auto_rows": null,
            "grid_column": null,
            "grid_gap": null,
            "grid_row": null,
            "grid_template_areas": null,
            "grid_template_columns": null,
            "grid_template_rows": null,
            "height": "auto",
            "justify_content": null,
            "justify_items": null,
            "left": null,
            "margin": null,
            "max_height": null,
            "max_width": null,
            "min_height": null,
            "min_width": null,
            "object_fit": null,
            "object_position": null,
            "order": null,
            "overflow": null,
            "overflow_x": null,
            "overflow_y": null,
            "padding": "0.5em",
            "right": null,
            "top": null,
            "visibility": null,
            "width": "auto"
          }
        },
        "edecfe68400746a49b5ba08df84ebce2": {
          "model_module": "@jupyter-widgets/controls",
          "model_name": "ButtonStyleModel",
          "model_module_version": "1.5.0",
          "state": {
            "_model_module": "@jupyter-widgets/controls",
            "_model_module_version": "1.5.0",
            "_model_name": "ButtonStyleModel",
            "_view_count": null,
            "_view_module": "@jupyter-widgets/base",
            "_view_module_version": "1.2.0",
            "_view_name": "StyleView",
            "button_color": "#aaffaa",
            "font_weight": ""
          }
        },
        "4265597c5a864baa838e7bb5eb92b670": {
          "model_module": "@jupyter-widgets/base",
          "model_name": "LayoutModel",
          "model_module_version": "1.2.0",
          "state": {
            "_model_module": "@jupyter-widgets/base",
            "_model_module_version": "1.2.0",
            "_model_name": "LayoutModel",
            "_view_count": null,
            "_view_module": "@jupyter-widgets/base",
            "_view_module_version": "1.2.0",
            "_view_name": "LayoutView",
            "align_content": null,
            "align_items": null,
            "align_self": null,
            "border": null,
            "bottom": null,
            "display": null,
            "flex": null,
            "flex_flow": null,
            "grid_area": null,
            "grid_auto_columns": null,
            "grid_auto_flow": null,
            "grid_auto_rows": null,
            "grid_column": null,
            "grid_gap": null,
            "grid_row": null,
            "grid_template_areas": null,
            "grid_template_columns": null,
            "grid_template_rows": null,
            "height": "auto",
            "justify_content": null,
            "justify_items": null,
            "left": null,
            "margin": null,
            "max_height": null,
            "max_width": null,
            "min_height": null,
            "min_width": null,
            "object_fit": null,
            "object_position": null,
            "order": null,
            "overflow": null,
            "overflow_x": null,
            "overflow_y": null,
            "padding": "0.5em",
            "right": null,
            "top": null,
            "visibility": null,
            "width": "auto"
          }
        },
        "13bb8183c2214cf0a9aa49c7e9dfad70": {
          "model_module": "@jupyter-widgets/controls",
          "model_name": "ButtonStyleModel",
          "model_module_version": "1.5.0",
          "state": {
            "_model_module": "@jupyter-widgets/controls",
            "_model_module_version": "1.5.0",
            "_model_name": "ButtonStyleModel",
            "_view_count": null,
            "_view_module": "@jupyter-widgets/base",
            "_view_module_version": "1.2.0",
            "_view_name": "StyleView",
            "button_color": "#dddd77",
            "font_weight": ""
          }
        },
        "f5de9b5de26e43759ad6e0ea199778e0": {
          "model_module": "@jupyter-widgets/base",
          "model_name": "LayoutModel",
          "model_module_version": "1.2.0",
          "state": {
            "_model_module": "@jupyter-widgets/base",
            "_model_module_version": "1.2.0",
            "_model_name": "LayoutModel",
            "_view_count": null,
            "_view_module": "@jupyter-widgets/base",
            "_view_module_version": "1.2.0",
            "_view_name": "LayoutView",
            "align_content": null,
            "align_items": null,
            "align_self": null,
            "border": null,
            "bottom": null,
            "display": null,
            "flex": null,
            "flex_flow": null,
            "grid_area": null,
            "grid_auto_columns": null,
            "grid_auto_flow": null,
            "grid_auto_rows": null,
            "grid_column": null,
            "grid_gap": null,
            "grid_row": null,
            "grid_template_areas": null,
            "grid_template_columns": null,
            "grid_template_rows": null,
            "height": "auto",
            "justify_content": null,
            "justify_items": null,
            "left": null,
            "margin": null,
            "max_height": null,
            "max_width": null,
            "min_height": null,
            "min_width": null,
            "object_fit": null,
            "object_position": null,
            "order": null,
            "overflow": null,
            "overflow_x": null,
            "overflow_y": null,
            "padding": "0.5em",
            "right": null,
            "top": null,
            "visibility": null,
            "width": "auto"
          }
        },
        "359ac1f0496b4b6981b19fea27d5e8a6": {
          "model_module": "@jupyter-widgets/controls",
          "model_name": "ButtonStyleModel",
          "model_module_version": "1.5.0",
          "state": {
            "_model_module": "@jupyter-widgets/controls",
            "_model_module_version": "1.5.0",
            "_model_name": "ButtonStyleModel",
            "_view_count": null,
            "_view_module": "@jupyter-widgets/base",
            "_view_module_version": "1.2.0",
            "_view_name": "StyleView",
            "button_color": "#ffaaaa",
            "font_weight": ""
          }
        },
        "f5d21aab6dc84bba8b1cdd169a8cf6e7": {
          "model_module": "@jupyter-widgets/base",
          "model_name": "LayoutModel",
          "model_module_version": "1.2.0",
          "state": {
            "_model_module": "@jupyter-widgets/base",
            "_model_module_version": "1.2.0",
            "_model_name": "LayoutModel",
            "_view_count": null,
            "_view_module": "@jupyter-widgets/base",
            "_view_module_version": "1.2.0",
            "_view_name": "LayoutView",
            "align_content": null,
            "align_items": null,
            "align_self": null,
            "border": null,
            "bottom": null,
            "display": null,
            "flex": null,
            "flex_flow": null,
            "grid_area": null,
            "grid_auto_columns": null,
            "grid_auto_flow": null,
            "grid_auto_rows": null,
            "grid_column": null,
            "grid_gap": null,
            "grid_row": null,
            "grid_template_areas": null,
            "grid_template_columns": null,
            "grid_template_rows": null,
            "height": "auto",
            "justify_content": null,
            "justify_items": null,
            "left": null,
            "margin": null,
            "max_height": null,
            "max_width": null,
            "min_height": null,
            "min_width": null,
            "object_fit": null,
            "object_position": null,
            "order": null,
            "overflow": null,
            "overflow_x": null,
            "overflow_y": null,
            "padding": null,
            "right": null,
            "top": null,
            "visibility": null,
            "width": "auto"
          }
        },
        "c8019b4d759a4438a56b2b18e97a3da5": {
          "model_module": "@jupyter-widgets/controls",
          "model_name": "DescriptionStyleModel",
          "model_module_version": "1.5.0",
          "state": {
            "_model_module": "@jupyter-widgets/controls",
            "_model_module_version": "1.5.0",
            "_model_name": "DescriptionStyleModel",
            "_view_count": null,
            "_view_module": "@jupyter-widgets/base",
            "_view_module_version": "1.2.0",
            "_view_name": "StyleView",
            "description_width": ""
          }
        },
        "bd74d486e5684572b64a805b4fc35f33": {
          "model_module": "@jupyter-widgets/base",
          "model_name": "LayoutModel",
          "model_module_version": "1.2.0",
          "state": {
            "_model_module": "@jupyter-widgets/base",
            "_model_module_version": "1.2.0",
            "_model_name": "LayoutModel",
            "_view_count": null,
            "_view_module": "@jupyter-widgets/base",
            "_view_module_version": "1.2.0",
            "_view_name": "LayoutView",
            "align_content": null,
            "align_items": null,
            "align_self": null,
            "border": null,
            "bottom": null,
            "display": null,
            "flex": null,
            "flex_flow": null,
            "grid_area": null,
            "grid_auto_columns": null,
            "grid_auto_flow": null,
            "grid_auto_rows": null,
            "grid_column": null,
            "grid_gap": null,
            "grid_row": null,
            "grid_template_areas": null,
            "grid_template_columns": null,
            "grid_template_rows": null,
            "height": "auto",
            "justify_content": null,
            "justify_items": null,
            "left": null,
            "margin": null,
            "max_height": null,
            "max_width": null,
            "min_height": null,
            "min_width": null,
            "object_fit": null,
            "object_position": null,
            "order": null,
            "overflow": null,
            "overflow_x": null,
            "overflow_y": null,
            "padding": null,
            "right": null,
            "top": null,
            "visibility": null,
            "width": "auto"
          }
        },
        "c0368e0a3f824a889ffb0879cb2ac146": {
          "model_module": "@jupyter-widgets/controls",
          "model_name": "ButtonStyleModel",
          "model_module_version": "1.5.0",
          "state": {
            "_model_module": "@jupyter-widgets/controls",
            "_model_module_version": "1.5.0",
            "_model_name": "ButtonStyleModel",
            "_view_count": null,
            "_view_module": "@jupyter-widgets/base",
            "_view_module_version": "1.2.0",
            "_view_name": "StyleView",
            "button_color": null,
            "font_weight": ""
          }
        }
      }
    }
  },
  "nbformat": 4,
  "nbformat_minor": 0
}