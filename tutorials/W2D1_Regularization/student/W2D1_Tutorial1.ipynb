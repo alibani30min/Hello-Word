{
  "cells": [
    {
      "cell_type": "markdown",
      "metadata": {
        "id": "view-in-github",
        "colab_type": "text"
      },
      "source": [
        "<a href=\"https://colab.research.google.com/github/alibani30min/Hello-Word/blob/master/tutorials/W2D1_Regularization/student/W2D1_Tutorial1.ipynb\" target=\"_parent\"><img src=\"https://colab.research.google.com/assets/colab-badge.svg\" alt=\"Open In Colab\"/></a>"
      ]
    },
    {
      "cell_type": "markdown",
      "metadata": {
        "execution": {},
        "id": "hXDUTpq9Xp7c"
      },
      "source": [
        "# Tutorial 1: Regularization techniques part 1\n",
        "\n",
        "**Week 2, Day 1: Regularization**\n",
        "\n",
        "**By Neuromatch Academy**\n",
        "\n",
        "__Content creators:__ Ravi Teja Konkimalla, Mohitrajhu Lingan Kumaraian, Kevin Machado Gamboa, Kelson Shilling-Scrivo, Lyle Ungar\n",
        "\n",
        "__Content reviewers:__ Piyush Chauhan, Siwei Bai, Kelson Shilling-Scrivo\n",
        "\n",
        "__Content editors:__ Roberto Guidotti, Spiros Chavlis\n",
        "\n",
        "__Production editors:__ Saeed Salehi, Gagana B, Spiros Chavlis"
      ]
    },
    {
      "cell_type": "markdown",
      "metadata": {
        "execution": {},
        "id": "-xGrPWZhXp7m"
      },
      "source": [
        "---\n",
        "# Tutorial Objectives\n",
        "\n",
        "1. Big Artificial Neural Networks (ANNs) are efficient universal approximators due to their adaptive basis functions\n",
        "2. ANNs memorize some but generalize well\n",
        "3. Regularization as shrinkage of overparameterized models: early stopping"
      ]
    },
    {
      "cell_type": "code",
      "execution_count": 1,
      "metadata": {
        "cellView": "form",
        "execution": {},
        "id": "YW2EKosHXp7o",
        "outputId": "a37090f2-7e2a-4244-c28b-2bb4b40039a4",
        "colab": {
          "base_uri": "https://localhost:8080/",
          "height": 519
        }
      },
      "outputs": [
        {
          "output_type": "stream",
          "name": "stdout",
          "text": [
            "If you want to download the slides: https://osf.io/download/mf79a/\n"
          ]
        },
        {
          "output_type": "execute_result",
          "data": {
            "text/plain": [
              "<IPython.lib.display.IFrame at 0x79078176b090>"
            ],
            "text/html": [
              "\n",
              "        <iframe\n",
              "            width=\"854\"\n",
              "            height=\"480\"\n",
              "            src=\"https://mfr.ca-1.osf.io/render?url=https://osf.io/mf79a/?direct%26mode=render%26action=download%26mode=render\"\n",
              "            frameborder=\"0\"\n",
              "            allowfullscreen\n",
              "            \n",
              "        ></iframe>\n",
              "        "
            ]
          },
          "metadata": {},
          "execution_count": 1
        }
      ],
      "source": [
        "# @title Tutorial slides\n",
        "from IPython.display import IFrame\n",
        "link_id = \"mf79a\"\n",
        "print(f\"If you want to download the slides: https://osf.io/download/{link_id}/\")\n",
        "IFrame(src=f\"https://mfr.ca-1.osf.io/render?url=https://osf.io/{link_id}/?direct%26mode=render%26action=download%26mode=render\", width=854, height=480)"
      ]
    },
    {
      "cell_type": "markdown",
      "metadata": {
        "execution": {},
        "id": "bUGn_iMQXp7q"
      },
      "source": [
        "---\n",
        "# Setup\n",
        "Note that some of the code for today can take up to an hour to run. We have therefore \"hidden\" the code and shown the resulting outputs.\n"
      ]
    },
    {
      "cell_type": "code",
      "execution_count": 2,
      "metadata": {
        "cellView": "form",
        "execution": {},
        "id": "A84eo_PhXp7r"
      },
      "outputs": [],
      "source": [
        "# @title Install dependencies\n",
        "\n",
        "# @markdown **WARNING**: There may be *errors* and/or *warnings* reported during the installation. However, they should be ignored.\n",
        "\n",
        "!pip install imageio --quiet\n",
        "!pip install imageio-ffmpeg --quiet"
      ]
    },
    {
      "cell_type": "code",
      "execution_count": 3,
      "metadata": {
        "cellView": "form",
        "execution": {},
        "id": "9vYvzIxqXp7s",
        "outputId": "cfa3b31d-0df5-4fe8-e80e-134dbb55e813",
        "colab": {
          "base_uri": "https://localhost:8080/"
        }
      },
      "outputs": [
        {
          "output_type": "stream",
          "name": "stdout",
          "text": [
            "  Preparing metadata (setup.py) ... \u001b[?25l\u001b[?25hdone\n",
            "  Preparing metadata (setup.py) ... \u001b[?25l\u001b[?25hdone\n",
            "\u001b[2K   \u001b[90m━━━━━━━━━━━━━━━━━━━━━━━━━━━━━━━━━━━━━━━━\u001b[0m \u001b[32m1.6/1.6 MB\u001b[0m \u001b[31m69.9 MB/s\u001b[0m eta \u001b[36m0:00:00\u001b[0m\n",
            "\u001b[?25h  Building wheel for vibecheck (setup.py) ... \u001b[?25l\u001b[?25hdone\n",
            "  Building wheel for datatops (setup.py) ... \u001b[?25l\u001b[?25hdone\n"
          ]
        }
      ],
      "source": [
        "# @title Install and import feedback gadget\n",
        "\n",
        "!pip3 install vibecheck datatops --quiet\n",
        "\n",
        "from vibecheck import DatatopsContentReviewContainer\n",
        "def content_review(notebook_section: str):\n",
        "    return DatatopsContentReviewContainer(\n",
        "        \"\",  # No text prompt\n",
        "        notebook_section,\n",
        "        {\n",
        "            \"url\": \"https://pmyvdlilci.execute-api.us-east-1.amazonaws.com/klab\",\n",
        "            \"name\": \"neuromatch_dl\",\n",
        "            \"user_key\": \"f379rz8y\",\n",
        "        },\n",
        "    ).render()\n",
        "\n",
        "\n",
        "feedback_prefix = \"W2D1_T1\""
      ]
    },
    {
      "cell_type": "code",
      "execution_count": 4,
      "metadata": {
        "execution": {},
        "id": "1RuBq0ssXp7u"
      },
      "outputs": [],
      "source": [
        "# Imports\n",
        "import time\n",
        "import copy\n",
        "import torch\n",
        "import pathlib\n",
        "\n",
        "import numpy as np\n",
        "import torch.nn as nn\n",
        "import torch.optim as optim\n",
        "import torch.nn.functional as F\n",
        "import matplotlib.pyplot as plt\n",
        "import matplotlib.animation as animation\n",
        "\n",
        "from tqdm.auto import tqdm\n",
        "from IPython.display import HTML\n",
        "from torchvision import transforms\n",
        "from torchvision.datasets import ImageFolder"
      ]
    },
    {
      "cell_type": "code",
      "execution_count": 5,
      "metadata": {
        "cellView": "form",
        "execution": {},
        "id": "ou4qMFRIXp7v"
      },
      "outputs": [],
      "source": [
        "# @title Figure Settings\n",
        "import logging\n",
        "logging.getLogger('matplotlib.font_manager').disabled = True\n",
        "\n",
        "import ipywidgets as widgets\n",
        "%matplotlib inline\n",
        "%config InlineBackend.figure_format = 'retina'\n",
        "plt.style.use(\"https://raw.githubusercontent.com/NeuromatchAcademy/content-creation/main/nma.mplstyle\")"
      ]
    },
    {
      "cell_type": "code",
      "execution_count": 6,
      "metadata": {
        "cellView": "form",
        "execution": {},
        "id": "RpcZBaEnXp7w",
        "outputId": "cc658eb6-583f-46c2-8aec-2df3844de3af",
        "colab": {
          "base_uri": "https://localhost:8080/"
        }
      },
      "outputs": [
        {
          "output_type": "stream",
          "name": "stdout",
          "text": [
            "Start downloading and unzipping `AnimalFaces` dataset...\n",
            "Download completed.\n"
          ]
        }
      ],
      "source": [
        "# @title Loading Animal Faces data\n",
        "import requests, os\n",
        "from zipfile import ZipFile\n",
        "\n",
        "print(\"Start downloading and unzipping `AnimalFaces` dataset...\")\n",
        "name = 'afhq'\n",
        "fname = f\"{name}.zip\"\n",
        "url = f\"https://osf.io/kgfvj/download\"\n",
        "\n",
        "if not os.path.exists(fname):\n",
        "  r = requests.get(url, allow_redirects=True)\n",
        "  with open(fname, 'wb') as fh:\n",
        "    fh.write(r.content)\n",
        "\n",
        "  if os.path.exists(fname):\n",
        "    with ZipFile(fname, 'r') as zfile:\n",
        "      zfile.extractall(f\".\")\n",
        "      os.remove(fname)\n",
        "\n",
        "print(\"Download completed.\")"
      ]
    },
    {
      "cell_type": "code",
      "execution_count": 7,
      "metadata": {
        "cellView": "form",
        "execution": {},
        "id": "OExokryRXp7w",
        "outputId": "d3fae24f-48ba-4b72-d309-9a0954ab7ec0",
        "colab": {
          "base_uri": "https://localhost:8080/"
        }
      },
      "outputs": [
        {
          "output_type": "stream",
          "name": "stdout",
          "text": [
            "Start downloading and unzipping `Randomized AnimalFaces` dataset...\n",
            "Download completed.\n"
          ]
        }
      ],
      "source": [
        "# @title Loading Animal Faces Randomized data\n",
        "\n",
        "print(\"Start downloading and unzipping `Randomized AnimalFaces` dataset...\")\n",
        "\n",
        "names = ['afhq_random_32x32', 'afhq_10_32x32']\n",
        "urls = [\"https://osf.io/9sj7p/download\",\n",
        "        \"https://osf.io/wvgkq/download\"]\n",
        "\n",
        "\n",
        "for i, name in enumerate(names):\n",
        "  url = urls[i]\n",
        "  fname = f\"{name}.zip\"\n",
        "\n",
        "  if not os.path.exists(fname):\n",
        "    r = requests.get(url, allow_redirects=True)\n",
        "    with open(fname, 'wb') as fh:\n",
        "      fh.write(r.content)\n",
        "\n",
        "    if os.path.exists(fname):\n",
        "      with ZipFile(fname, 'r') as zfile:\n",
        "        zfile.extractall(f\".\")\n",
        "        os.remove(fname)\n",
        "\n",
        "print(\"Download completed.\")"
      ]
    },
    {
      "cell_type": "code",
      "execution_count": 8,
      "metadata": {
        "cellView": "form",
        "execution": {},
        "id": "JQ388AgnXp7x"
      },
      "outputs": [],
      "source": [
        "# @title Plotting functions\n",
        "def imshow(img):\n",
        "  \"\"\"\n",
        "  Display unnormalized image\n",
        "\n",
        "  Args:\n",
        "    img: np.ndarray\n",
        "      Datapoint to visualize\n",
        "\n",
        "  Returns:\n",
        "    Nothing\n",
        "  \"\"\"\n",
        "  img = img / 2 + 0.5     # Unnormalize\n",
        "  npimg = img.numpy()\n",
        "  plt.imshow(np.transpose(npimg, (1, 2, 0)))\n",
        "  plt.axis(False)\n",
        "  plt.show()\n",
        "\n",
        "\n",
        "def plot_weights(norm, labels, ws,\n",
        "                 title='Weight Size Measurement'):\n",
        "  \"\"\"\n",
        "  Plot of weight size measurement [norm value vs layer]\n",
        "\n",
        "  Args:\n",
        "    norm: float\n",
        "      Norm values\n",
        "    labels: list\n",
        "      Targets\n",
        "    ws: list\n",
        "      Weights\n",
        "    title: string\n",
        "      Title of plot\n",
        "\n",
        "  Returns:\n",
        "    Nothing\n",
        "  \"\"\"\n",
        "  plt.figure(figsize=[8, 6])\n",
        "  plt.title(title)\n",
        "  plt.ylabel('Frobenius Norm Value')\n",
        "  plt.xlabel('Model Layers')\n",
        "  plt.bar(labels, ws)\n",
        "  plt.axhline(y=norm,\n",
        "              linewidth=1,\n",
        "              color='r',\n",
        "              ls='--',\n",
        "              label='Total Model F-Norm')\n",
        "  plt.legend()\n",
        "  plt.show()\n",
        "\n",
        "\n",
        "def early_stop_plot(train_acc_earlystop,\n",
        "                    val_acc_earlystop, best_epoch):\n",
        "  \"\"\"\n",
        "  Plot of early stopping\n",
        "\n",
        "  Args:\n",
        "    train_acc_earlystop: np.ndarray\n",
        "      Training accuracy log until early stop point\n",
        "    val_acc_earlystop: np.ndarray\n",
        "      Val accuracy log until early stop point\n",
        "    best_epoch: int\n",
        "      Epoch at which early stopping occurs\n",
        "\n",
        "  Returns:\n",
        "    Nothing\n",
        "  \"\"\"\n",
        "  plt.figure(figsize=(8, 6))\n",
        "  plt.plot(val_acc_earlystop,label='Val - Early',c='red',ls = 'dashed')\n",
        "  plt.plot(train_acc_earlystop,label='Train - Early',c='red',ls = 'solid')\n",
        "  plt.axvline(x=best_epoch, c='green', ls='dashed',\n",
        "              label='Epoch for Max Val Accuracy')\n",
        "  plt.title('Early Stopping')\n",
        "  plt.ylabel('Accuracy (%)')\n",
        "  plt.xlabel('Epoch')\n",
        "  plt.legend()\n",
        "  plt.show()"
      ]
    },
    {
      "cell_type": "code",
      "execution_count": 9,
      "metadata": {
        "cellView": "form",
        "execution": {},
        "id": "MHlXEFwvXp7y"
      },
      "outputs": [],
      "source": [
        "# @title Set random seed\n",
        "\n",
        "# @markdown Executing `set_seed(seed=seed)` you are setting the seed\n",
        "\n",
        "# For DL its critical to set the random seed so that students can have a\n",
        "# baseline to compare their results to expected results.\n",
        "# Read more here: https://pytorch.org/docs/stable/notes/randomness.html\n",
        "\n",
        "# Call `set_seed` function in the exercises to ensure reproducibility.\n",
        "import random\n",
        "import torch\n",
        "\n",
        "def set_seed(seed=None, seed_torch=True):\n",
        "  \"\"\"\n",
        "  Function that controls randomness. NumPy and random modules must be imported.\n",
        "\n",
        "  Args:\n",
        "    seed : Integer\n",
        "      A non-negative integer that defines the random state. Default is `None`.\n",
        "    seed_torch : Boolean\n",
        "      If `True` sets the random seed for pytorch tensors, so pytorch module\n",
        "      must be imported. Default is `True`.\n",
        "\n",
        "  Returns:\n",
        "    Nothing.\n",
        "  \"\"\"\n",
        "  if seed is None:\n",
        "    seed = np.random.choice(2 ** 32)\n",
        "  random.seed(seed)\n",
        "  np.random.seed(seed)\n",
        "  if seed_torch:\n",
        "    torch.manual_seed(seed)\n",
        "    torch.cuda.manual_seed_all(seed)\n",
        "    torch.cuda.manual_seed(seed)\n",
        "    torch.backends.cudnn.benchmark = False\n",
        "    torch.backends.cudnn.deterministic = True\n",
        "\n",
        "  print(f'Random seed {seed} has been set.')\n",
        "\n",
        "\n",
        "# In case that `DataLoader` is used\n",
        "def seed_worker(worker_id):\n",
        "  \"\"\"\n",
        "  DataLoader will reseed workers following randomness in\n",
        "  multi-process data loading algorithm.\n",
        "\n",
        "  Args:\n",
        "    worker_id: integer\n",
        "      ID of subprocess to seed. 0 means that\n",
        "      the data will be loaded in the main process\n",
        "      Refer: https://pytorch.org/docs/stable/data.html#data-loading-randomness for more details\n",
        "\n",
        "  Returns:\n",
        "    Nothing\n",
        "  \"\"\"\n",
        "  worker_seed = torch.initial_seed() % 2**32\n",
        "  np.random.seed(worker_seed)\n",
        "  random.seed(worker_seed)"
      ]
    },
    {
      "cell_type": "code",
      "execution_count": 10,
      "metadata": {
        "cellView": "form",
        "execution": {},
        "id": "wEINchJdXp7z"
      },
      "outputs": [],
      "source": [
        "# @title Set device (GPU or CPU). Execute `set_device()`\n",
        "# especially if torch modules used.\n",
        "\n",
        "# Inform the user if the notebook uses GPU or CPU.\n",
        "\n",
        "def set_device():\n",
        "  \"\"\"\n",
        "  Set the device. CUDA if available, CPU otherwise\n",
        "\n",
        "  Args:\n",
        "    None\n",
        "\n",
        "  Returns:\n",
        "    Nothing\n",
        "  \"\"\"\n",
        "  device = \"cuda\" if torch.cuda.is_available() else \"cpu\"\n",
        "  if device != \"cuda\":\n",
        "    print(\"WARNING: For this notebook to perform best, \"\n",
        "        \"if possible, in the menu under `Runtime` -> \"\n",
        "        \"`Change runtime type.`  select `GPU` \")\n",
        "  else:\n",
        "    print(\"GPU is enabled in this notebook.\")\n",
        "\n",
        "  return device"
      ]
    },
    {
      "cell_type": "code",
      "execution_count": 11,
      "metadata": {
        "execution": {},
        "id": "gWPV-ARsXp7z",
        "outputId": "3fea28c9-aa4f-4ab0-8132-41da975e5bd0",
        "colab": {
          "base_uri": "https://localhost:8080/"
        }
      },
      "outputs": [
        {
          "output_type": "stream",
          "name": "stdout",
          "text": [
            "Random seed 2021 has been set.\n",
            "GPU is enabled in this notebook.\n"
          ]
        }
      ],
      "source": [
        "SEED = 2021\n",
        "set_seed(seed=SEED)\n",
        "DEVICE = set_device()"
      ]
    },
    {
      "cell_type": "markdown",
      "metadata": {
        "execution": {},
        "id": "gD4MbCykXp7z"
      },
      "source": [
        "---\n",
        "# Section 0: Defining useful functions\n",
        "Let's start the tutorial by defining some functions which we will use frequently today, such as: `AnimalNet`, `train`, `test` and `main`."
      ]
    },
    {
      "cell_type": "code",
      "execution_count": 13,
      "metadata": {
        "execution": {},
        "id": "WMXgfzS6Xp7z"
      },
      "outputs": [],
      "source": [
        "class AnimalNet(nn.Module):\n",
        "  \"\"\"\n",
        "  Network Class - Animal Faces\n",
        "  \"\"\"\n",
        "\n",
        "  def __init__(self):\n",
        "    \"\"\"\n",
        "    Initialize parameters of AnimalNet\n",
        "\n",
        "    Args:\n",
        "      None\n",
        "\n",
        "    Returns:\n",
        "      Nothing\n",
        "    \"\"\"\n",
        "    super(AnimalNet, self).__init__()\n",
        "    self.fc1 = nn.Linear(3 * 32 * 32, 128)\n",
        "    self.fc2 = nn.Linear(128, 32)\n",
        "    self.fc3 = nn.Linear(32, 3)\n",
        "\n",
        "  def forward(self, x):\n",
        "    \"\"\"\n",
        "    Forward Pass of AnimalNet\n",
        "\n",
        "    Args:\n",
        "      x: torch.tensor\n",
        "        Input features\n",
        "\n",
        "    Returns:\n",
        "      output: torch.tensor\n",
        "        Outputs/Predictions\n",
        "    \"\"\"\n",
        "    x = x.view(x.shape[0],-1)\n",
        "    x = F.relu(self.fc1(x))\n",
        "    x = F.relu(self.fc2(x))\n",
        "    x = self.fc3(x)\n",
        "    output = F.log_softmax(x, dim=1)\n",
        "    return output"
      ]
    },
    {
      "cell_type": "markdown",
      "metadata": {
        "execution": {},
        "id": "RtoMSAdyXp70"
      },
      "source": [
        "The train function takes in the current model, along with the train_loader and loss function, and updates the parameters for a single pass of the entire dataset. The test function takes in the current model after every epoch and calculates the accuracy on the test dataset."
      ]
    },
    {
      "cell_type": "code",
      "execution_count": 14,
      "metadata": {
        "execution": {},
        "id": "VnEDOgohXp70"
      },
      "outputs": [],
      "source": [
        "def train(args, model, train_loader, optimizer,\n",
        "          reg_function1=None, reg_function2=None, criterion=F.nll_loss):\n",
        "  \"\"\"\n",
        "  Trains the current input model using the data\n",
        "  from Train_loader and Updates parameters for a single pass\n",
        "\n",
        "  Args:\n",
        "    args: dictionary\n",
        "      Dictionary with epochs: 200, lr: 5e-3, momentum: 0.9, device: DEVICE\n",
        "    model: nn.module\n",
        "      Neural network instance\n",
        "    train_loader: torch.loader\n",
        "      Input dataset\n",
        "    optimizer: function\n",
        "      Optimizer\n",
        "    reg_function1: function\n",
        "      Regularisation function [default: None]\n",
        "    reg_function2: function\n",
        "      Regularisation function [default: None]\n",
        "    criterion: function\n",
        "      Specifies loss function [default: nll_loss]\n",
        "\n",
        "  Returns:\n",
        "    model: nn.module\n",
        "      Neural network instance post training\n",
        "  \"\"\"\n",
        "  device = args['device']\n",
        "  model.train()\n",
        "  for batch_idx, (data, target) in enumerate(train_loader):\n",
        "    data, target = data.to(device), target.to(device)\n",
        "    optimizer.zero_grad()\n",
        "    output = model(data)\n",
        "    if reg_function1 is None:\n",
        "      loss = criterion(output, target)\n",
        "    elif reg_function2 is None:\n",
        "      loss = criterion(output, target)+args['lambda']*reg_function1(model)\n",
        "    else:\n",
        "      loss = criterion(output, target) + args['lambda1']*reg_function1(model) + args['lambda2']*reg_function2(model)\n",
        "    loss.backward()\n",
        "    optimizer.step()\n",
        "\n",
        "  return model\n",
        "\n",
        "\n",
        "def test(model, test_loader, criterion=F.nll_loss, device='cpu'):\n",
        "  \"\"\"\n",
        "  Tests the current model\n",
        "\n",
        "  Args:\n",
        "    model: nn.module\n",
        "      Neural network instance\n",
        "    device: string\n",
        "      GPU/CUDA if available, CPU otherwise\n",
        "    test_loader: torch.loader\n",
        "      Test dataset\n",
        "    criterion: function\n",
        "      Specifies loss function [default: nll_loss]\n",
        "\n",
        "  Returns:\n",
        "    test_loss: float\n",
        "      Test loss\n",
        "  \"\"\"\n",
        "  model.eval()\n",
        "  test_loss = 0\n",
        "  correct = 0\n",
        "  with torch.no_grad():\n",
        "    for data, target in test_loader:\n",
        "      data, target = data.to(device), target.to(device)\n",
        "      output = model(data)\n",
        "      test_loss += criterion(output, target, reduction='sum').item()  # Sum up batch loss\n",
        "      pred = output.argmax(dim=1, keepdim=True)  # Get the index of the max log-probability\n",
        "      correct += pred.eq(target.view_as(pred)).sum().item()\n",
        "\n",
        "  test_loss /= len(test_loader.dataset)\n",
        "  return 100. * correct / len(test_loader.dataset)\n",
        "\n",
        "\n",
        "def main(args, model, train_loader, val_loader,\n",
        "         reg_function1=None, reg_function2=None):\n",
        "  \"\"\"\n",
        "  Trains the model with train_loader and\n",
        "  tests the learned model using val_loader\n",
        "\n",
        "  Args:\n",
        "    args: dictionary\n",
        "      Dictionary with epochs: 200, lr: 5e-3, momentum: 0.9, device: DEVICE\n",
        "    model: nn.module\n",
        "      Neural network instance\n",
        "    train_loader: torch.loader\n",
        "      Train dataset\n",
        "    val_loader: torch.loader\n",
        "      Validation set\n",
        "    reg_function1: function\n",
        "      Regularisation function [default: None]\n",
        "    reg_function2: function\n",
        "      Regularisation function [default: None]\n",
        "\n",
        "  Returns:\n",
        "    val_acc_list: list\n",
        "      Log of validation accuracy\n",
        "    train_acc_list: list\n",
        "      Log of training accuracy\n",
        "    param_norm_list: list\n",
        "      Log of frobenius norm\n",
        "    trained_model: nn.module\n",
        "      Trained model/model post training\n",
        "  \"\"\"\n",
        "\n",
        "  device = args['device']\n",
        "\n",
        "  model = model.to(device)\n",
        "  optimizer = optim.SGD(model.parameters(), lr=args['lr'],\n",
        "                        momentum=args['momentum'])\n",
        "\n",
        "  val_acc_list, train_acc_list,param_norm_list = [], [], []\n",
        "  for epoch in tqdm(range(args['epochs'])):\n",
        "    trained_model = train(args, model, train_loader, optimizer,\n",
        "                          reg_function1=reg_function1,\n",
        "                          reg_function2=reg_function2)\n",
        "    train_acc = test(trained_model, train_loader, device=device)\n",
        "    val_acc = test(trained_model, val_loader, device=device)\n",
        "    param_norm = calculate_frobenius_norm(trained_model)\n",
        "    train_acc_list.append(train_acc)\n",
        "    val_acc_list.append(val_acc)\n",
        "    param_norm_list.append(param_norm)\n",
        "\n",
        "  return val_acc_list, train_acc_list, param_norm_list, trained_model"
      ]
    },
    {
      "cell_type": "markdown",
      "metadata": {
        "execution": {},
        "id": "lu4prEyAXp70"
      },
      "source": [
        "---\n",
        "# Section 1: Regularization is Shrinkage\n",
        "\n",
        "*Time estimate: ~20 mins*"
      ]
    },
    {
      "cell_type": "code",
      "execution_count": 15,
      "metadata": {
        "cellView": "form",
        "execution": {},
        "id": "7mlQlJRWXp71",
        "outputId": "d85734c3-50ee-45e5-c468-aac9180f05ad",
        "colab": {
          "base_uri": "https://localhost:8080/",
          "height": 581,
          "referenced_widgets": [
            "e9ec27be67af4ee1ab2b92174b9b161d",
            "25ee3f68d6984988b8a8c4ae2e1c4e31",
            "f186a7dd2606473b9c27dd5814c4298c",
            "72eca6165c7a467592b755bd7718a439",
            "e0461ebb99654e19b19f9f370b3d55cf",
            "94343bf114f643509b7c1f703cdb4603"
          ]
        }
      },
      "outputs": [
        {
          "output_type": "display_data",
          "data": {
            "text/plain": [
              "Tab(children=(Output(), Output()), _titles={'0': 'Youtube', '1': 'Bilibili'})"
            ],
            "application/vnd.jupyter.widget-view+json": {
              "version_major": 2,
              "version_minor": 0,
              "model_id": "e9ec27be67af4ee1ab2b92174b9b161d"
            }
          },
          "metadata": {}
        }
      ],
      "source": [
        "# @title Video 1: Introduction to Regularization\n",
        "from ipywidgets import widgets\n",
        "from IPython.display import YouTubeVideo\n",
        "from IPython.display import IFrame\n",
        "from IPython.display import display\n",
        "\n",
        "\n",
        "class PlayVideo(IFrame):\n",
        "  def __init__(self, id, source, page=1, width=400, height=300, **kwargs):\n",
        "    self.id = id\n",
        "    if source == 'Bilibili':\n",
        "      src = f'https://player.bilibili.com/player.html?bvid={id}&page={page}'\n",
        "    elif source == 'Osf':\n",
        "      src = f'https://mfr.ca-1.osf.io/render?url=https://osf.io/download/{id}/?direct%26mode=render'\n",
        "    super(PlayVideo, self).__init__(src, width, height, **kwargs)\n",
        "\n",
        "\n",
        "def display_videos(video_ids, W=400, H=300, fs=1):\n",
        "  tab_contents = []\n",
        "  for i, video_id in enumerate(video_ids):\n",
        "    out = widgets.Output()\n",
        "    with out:\n",
        "      if video_ids[i][0] == 'Youtube':\n",
        "        video = YouTubeVideo(id=video_ids[i][1], width=W,\n",
        "                             height=H, fs=fs, rel=0)\n",
        "        print(f'Video available at https://youtube.com/watch?v={video.id}')\n",
        "      else:\n",
        "        video = PlayVideo(id=video_ids[i][1], source=video_ids[i][0], width=W,\n",
        "                          height=H, fs=fs, autoplay=False)\n",
        "        if video_ids[i][0] == 'Bilibili':\n",
        "          print(f'Video available at https://www.bilibili.com/video/{video.id}')\n",
        "        elif video_ids[i][0] == 'Osf':\n",
        "          print(f'Video available at https://osf.io/{video.id}')\n",
        "      display(video)\n",
        "    tab_contents.append(out)\n",
        "  return tab_contents\n",
        "\n",
        "\n",
        "video_ids = [('Youtube', 'jhQAnIHTR6A'), ('Bilibili', 'BV1mo4y1X76E')]\n",
        "tab_contents = display_videos(video_ids, W=854, H=480)\n",
        "tabs = widgets.Tab()\n",
        "tabs.children = tab_contents\n",
        "for i in range(len(tab_contents)):\n",
        "  tabs.set_title(i, video_ids[i][0])\n",
        "display(tabs)"
      ]
    },
    {
      "cell_type": "code",
      "execution_count": null,
      "metadata": {
        "cellView": "form",
        "execution": {},
        "id": "j4hB625LXp71"
      },
      "outputs": [],
      "source": [
        "# @title Submit your feedback\n",
        "content_review(f\"{feedback_prefix}_Introduction_to_Regularization_Video\")"
      ]
    },
    {
      "cell_type": "markdown",
      "metadata": {
        "execution": {},
        "id": "YfbgtKs1Xp71"
      },
      "source": [
        "A key idea of neural nets is that they use models that are \"too complex\" - complex enough to fit all the noise in the data. One then needs to \"regularize\" them to make the models fit complex enough, but not too complex. The more complex the model, the better it fits the training data, but if it is too complex, it generalizes less well; it memorizes the training data but is less accurate on future test data."
      ]
    },
    {
      "cell_type": "code",
      "execution_count": 16,
      "metadata": {
        "cellView": "form",
        "execution": {},
        "id": "zaEMg5JEXp71",
        "outputId": "4490ccfb-7282-497a-c735-3d85e9dd623f",
        "colab": {
          "base_uri": "https://localhost:8080/",
          "height": 581,
          "referenced_widgets": [
            "2ebbe2b1d01c4fe4aa3e26faf143f4b0",
            "dfdab4e42d8c435da9af7ea1f782a1bf",
            "322d78d4b4d24c1c99e7f7388950bb14",
            "c75b43a9af8e487c82711f2dbd0804b9",
            "44a728aa59694ae18f258c7cba311858",
            "c330e0ef01144b1bb3775c2eb3881cc7"
          ]
        }
      },
      "outputs": [
        {
          "output_type": "display_data",
          "data": {
            "text/plain": [
              "Tab(children=(Output(), Output()), _titles={'0': 'Youtube', '1': 'Bilibili'})"
            ],
            "application/vnd.jupyter.widget-view+json": {
              "version_major": 2,
              "version_minor": 0,
              "model_id": "2ebbe2b1d01c4fe4aa3e26faf143f4b0"
            }
          },
          "metadata": {}
        }
      ],
      "source": [
        "# @title Video 2: Regularization as Shrinkage\n",
        "from ipywidgets import widgets\n",
        "from IPython.display import YouTubeVideo\n",
        "from IPython.display import IFrame\n",
        "from IPython.display import display\n",
        "\n",
        "\n",
        "class PlayVideo(IFrame):\n",
        "  def __init__(self, id, source, page=1, width=400, height=300, **kwargs):\n",
        "    self.id = id\n",
        "    if source == 'Bilibili':\n",
        "      src = f'https://player.bilibili.com/player.html?bvid={id}&page={page}'\n",
        "    elif source == 'Osf':\n",
        "      src = f'https://mfr.ca-1.osf.io/render?url=https://osf.io/download/{id}/?direct%26mode=render'\n",
        "    super(PlayVideo, self).__init__(src, width, height, **kwargs)\n",
        "\n",
        "\n",
        "def display_videos(video_ids, W=400, H=300, fs=1):\n",
        "  tab_contents = []\n",
        "  for i, video_id in enumerate(video_ids):\n",
        "    out = widgets.Output()\n",
        "    with out:\n",
        "      if video_ids[i][0] == 'Youtube':\n",
        "        video = YouTubeVideo(id=video_ids[i][1], width=W,\n",
        "                             height=H, fs=fs, rel=0)\n",
        "        print(f'Video available at https://youtube.com/watch?v={video.id}')\n",
        "      else:\n",
        "        video = PlayVideo(id=video_ids[i][1], source=video_ids[i][0], width=W,\n",
        "                          height=H, fs=fs, autoplay=False)\n",
        "        if video_ids[i][0] == 'Bilibili':\n",
        "          print(f'Video available at https://www.bilibili.com/video/{video.id}')\n",
        "        elif video_ids[i][0] == 'Osf':\n",
        "          print(f'Video available at https://osf.io/{video.id}')\n",
        "      display(video)\n",
        "    tab_contents.append(out)\n",
        "  return tab_contents\n",
        "\n",
        "\n",
        "video_ids = [('Youtube', 'mhVbJ74upnQ'), ('Bilibili', 'BV1YL411H7Dv')]\n",
        "tab_contents = display_videos(video_ids, W=854, H=480)\n",
        "tabs = widgets.Tab()\n",
        "tabs.children = tab_contents\n",
        "for i in range(len(tab_contents)):\n",
        "  tabs.set_title(i, video_ids[i][0])\n",
        "display(tabs)"
      ]
    },
    {
      "cell_type": "code",
      "execution_count": null,
      "metadata": {
        "cellView": "form",
        "execution": {},
        "id": "R6xwmgHTXp72"
      },
      "outputs": [],
      "source": [
        "# @title Submit your feedback\n",
        "content_review(f\"{feedback_prefix}_Regularization_as_Shrinkage_Video\")"
      ]
    },
    {
      "cell_type": "markdown",
      "metadata": {
        "execution": {},
        "id": "FbUBUnPFXp72"
      },
      "source": [
        "One way to think about Regularization is to think in terms of the magnitude of the overall weights of the model. A model with big weights can fit more data perfectly, whereas a model with smaller weights tends to underperform on the train set but can surprisingly do very well on the test set. Having the weights too small can also be an issue as it can then underfit the model.\n",
        "\n",
        "In these tutorials, we use the sum of the Frobenius norm of all the tensors in the model as a measure of the \"size of the model\"."
      ]
    },
    {
      "cell_type": "markdown",
      "metadata": {
        "execution": {},
        "id": "azqahN58Xp72"
      },
      "source": [
        "## Coding Exercise 1: Frobenius Norm\n",
        "\n",
        "Before we start, let's define the Frobenius norm, sometimes also called the Euclidean norm of an $m×n$ matrix $A$  as the square root of the sum of the absolute squares of its elements.\n",
        "\n",
        "<br>\n",
        "\n",
        "\\begin{equation}\n",
        "  ||A||_F= \\sqrt{\\sum_{i=1}^m\\sum_{j=1}^n|a_{ij}|^2}\n",
        "\\end{equation}\n",
        "\n",
        "<br>\n",
        "\n",
        "This is just a measure of how big the matrix is, analogous to how big a vector is."
      ]
    },
    {
      "cell_type": "markdown",
      "metadata": {
        "execution": {},
        "id": "X1Lhv5s0Xp72"
      },
      "source": [
        "**Hint:** Use the functions `model.parameters()` or `model.named_parameters()`"
      ]
    },
    {
      "cell_type": "code",
      "execution_count": null,
      "metadata": {
        "execution": {},
        "id": "QiRNJbCMXp73"
      },
      "outputs": [],
      "source": [
        "def calculate_frobenius_norm(model):\n",
        "  \"\"\"\n",
        "  Function to calculate frobenius norm\n",
        "\n",
        "  Args:\n",
        "    model: nn.module\n",
        "      Neural network instance\n",
        "\n",
        "  Returns:\n",
        "    norm: float\n",
        "      Frobenius norm\n",
        "  \"\"\"\n",
        "  ####################################################################\n",
        "  # Fill in all missing code below (...),\n",
        "  # then remove or comment the line below to test your function\n",
        "  raise NotImplementedError(\"Define `calculate_frobenius_norm` function\")\n",
        "  ####################################################################\n",
        "  norm = 0.0\n",
        "  # Sum the square of all parameters\n",
        "  for param in model.parameters():\n",
        "    norm += ...\n",
        "\n",
        "  # Take a square root of the sum of squares of all the parameters\n",
        "  norm = ...\n",
        "  return norm\n",
        "\n",
        "\n",
        "\n",
        "# Seed added for reproducibility\n",
        "set_seed(seed=SEED)\n",
        "\n",
        "## uncomment below to test your code\n",
        "# net = nn.Linear(10, 1)\n",
        "# print(f'Frobenius norm of Single Linear Layer: {calculate_frobenius_norm(net)}')"
      ]
    },
    {
      "cell_type": "markdown",
      "metadata": {
        "execution": {},
        "id": "md5WVKx3Xp73"
      },
      "source": [
        "```\n",
        "Random seed 2021 has been set.\n",
        "Frobenius Norm of Single Linear Layer: 0.6572162508964539\n",
        "```"
      ]
    },
    {
      "cell_type": "markdown",
      "metadata": {
        "execution": {},
        "id": "VWm2HTCDXp73"
      },
      "source": [
        "[*Click for solution*](https://github.com/NeuromatchAcademy/course-content-dl/tree/main/tutorials/W2D1_Regularization/solutions/W2D1_Tutorial1_Solution_9a1dd7ea.py)\n",
        "\n"
      ]
    },
    {
      "cell_type": "code",
      "execution_count": null,
      "metadata": {
        "cellView": "form",
        "execution": {},
        "id": "TLZ41yXEXp73"
      },
      "outputs": [],
      "source": [
        "# @title Submit your feedback\n",
        "content_review(f\"{feedback_prefix}_Forbenius_norm_Exercise\")"
      ]
    },
    {
      "cell_type": "markdown",
      "metadata": {
        "execution": {},
        "id": "qEKIRR4WXp73"
      },
      "source": [
        "Apart from calculating the weight size for an entire model, we could also determine the weight size in every layer. For this, we can modify our `calculate_frobenius_norm` function as shown below.\n",
        "\n",
        "**Have a look how it works!!**"
      ]
    },
    {
      "cell_type": "code",
      "execution_count": null,
      "metadata": {
        "execution": {},
        "id": "cHb773mxXp74"
      },
      "outputs": [],
      "source": [
        "def calculate_frobenius_norm(model):\n",
        "  \"\"\"\n",
        "  Calculate Frobenius Norm per Layer\n",
        "\n",
        "  Args:\n",
        "    model: nn.module\n",
        "      Neural network instance\n",
        "\n",
        "  Returns:\n",
        "    norm: float\n",
        "      Norm value\n",
        "    labels: list\n",
        "      Targets\n",
        "    ws: list\n",
        "      Weights\n",
        "  \"\"\"\n",
        "\n",
        "  # Initialization of variables\n",
        "  norm, ws, labels = 0.0, [], []\n",
        "\n",
        "  # Sum all the parameters\n",
        "  for name, parameters in model.named_parameters():\n",
        "    p = torch.sum(parameters**2)\n",
        "    norm += p\n",
        "\n",
        "    ws.append((p**0.5).cpu().detach().numpy())\n",
        "    labels.append(name)\n",
        "\n",
        "  # Take a square root of the sum of squares of all the parameters\n",
        "  norm = (norm**0.5).cpu().detach().numpy()\n",
        "\n",
        "  return norm, ws, labels\n",
        "\n",
        "\n",
        "set_seed(SEED)\n",
        "net = nn.Linear(10,1)\n",
        "norm, ws, labels = calculate_frobenius_norm(net)\n",
        "print(f'Frobenius norm of Single Linear Layer: {norm:.4f}')\n",
        "# Plots the weights\n",
        "plot_weights(norm, labels, ws)"
      ]
    },
    {
      "cell_type": "markdown",
      "metadata": {
        "execution": {},
        "id": "odVkXpsSXp74"
      },
      "source": [
        "Using the last function, `calculate_frobenius_norm`, we can also obtain the Frobenius norm per layer for a whole ANN model and use the `plot_weigts` function to visualize them."
      ]
    },
    {
      "cell_type": "code",
      "execution_count": null,
      "metadata": {
        "execution": {},
        "id": "fK4PS1VDXp74"
      },
      "outputs": [],
      "source": [
        "set_seed(seed=SEED)\n",
        "\n",
        "# Creates a new model\n",
        "model = AnimalNet()\n",
        "\n",
        "# Calculates the forbenius norm per layer\n",
        "norm, ws, labels = calculate_frobenius_norm(model)\n",
        "print(f'Frobenius norm of Models weights: {norm:.4f}')\n",
        "\n",
        "# Plots the weights\n",
        "plot_weights(norm, labels, ws)"
      ]
    },
    {
      "cell_type": "markdown",
      "metadata": {
        "execution": {},
        "id": "fQRx_noYXp74"
      },
      "source": [
        "---\n",
        "# Section 2: Overfitting\n",
        "\n",
        "*Time estimate: ~15 mins*\n"
      ]
    },
    {
      "cell_type": "code",
      "execution_count": null,
      "metadata": {
        "cellView": "form",
        "execution": {},
        "id": "WXl6l5DvXp74"
      },
      "outputs": [],
      "source": [
        "# @title Video 3: Overparameterization and Overfitting\n",
        "from ipywidgets import widgets\n",
        "from IPython.display import YouTubeVideo\n",
        "from IPython.display import IFrame\n",
        "from IPython.display import display\n",
        "\n",
        "\n",
        "class PlayVideo(IFrame):\n",
        "  def __init__(self, id, source, page=1, width=400, height=300, **kwargs):\n",
        "    self.id = id\n",
        "    if source == 'Bilibili':\n",
        "      src = f'https://player.bilibili.com/player.html?bvid={id}&page={page}'\n",
        "    elif source == 'Osf':\n",
        "      src = f'https://mfr.ca-1.osf.io/render?url=https://osf.io/download/{id}/?direct%26mode=render'\n",
        "    super(PlayVideo, self).__init__(src, width, height, **kwargs)\n",
        "\n",
        "\n",
        "def display_videos(video_ids, W=400, H=300, fs=1):\n",
        "  tab_contents = []\n",
        "  for i, video_id in enumerate(video_ids):\n",
        "    out = widgets.Output()\n",
        "    with out:\n",
        "      if video_ids[i][0] == 'Youtube':\n",
        "        video = YouTubeVideo(id=video_ids[i][1], width=W,\n",
        "                             height=H, fs=fs, rel=0)\n",
        "        print(f'Video available at https://youtube.com/watch?v={video.id}')\n",
        "      else:\n",
        "        video = PlayVideo(id=video_ids[i][1], source=video_ids[i][0], width=W,\n",
        "                          height=H, fs=fs, autoplay=False)\n",
        "        if video_ids[i][0] == 'Bilibili':\n",
        "          print(f'Video available at https://www.bilibili.com/video/{video.id}')\n",
        "        elif video_ids[i][0] == 'Osf':\n",
        "          print(f'Video available at https://osf.io/{video.id}')\n",
        "      display(video)\n",
        "    tab_contents.append(out)\n",
        "  return tab_contents\n",
        "\n",
        "\n",
        "video_ids = [('Youtube', '-HJ_9HxY38g'), ('Bilibili', 'BV1NX4y1A73i')]\n",
        "tab_contents = display_videos(video_ids, W=854, H=480)\n",
        "tabs = widgets.Tab()\n",
        "tabs.children = tab_contents\n",
        "for i in range(len(tab_contents)):\n",
        "  tabs.set_title(i, video_ids[i][0])\n",
        "display(tabs)"
      ]
    },
    {
      "cell_type": "code",
      "execution_count": null,
      "metadata": {
        "cellView": "form",
        "execution": {},
        "id": "8-iHjamOXp74"
      },
      "outputs": [],
      "source": [
        "# @title Submit your feedback\n",
        "content_review(f\"{feedback_prefix}_Overparameterization_and_Overfitting_Video\")"
      ]
    },
    {
      "cell_type": "markdown",
      "metadata": {
        "execution": {},
        "id": "wqbsBXvAXp75"
      },
      "source": [
        "## Section 2.1: Visualizing Overfitting"
      ]
    },
    {
      "cell_type": "markdown",
      "metadata": {
        "execution": {},
        "id": "a1hpJxXQXp8F"
      },
      "source": [
        "Let's create some synthetic dataset that we will use to illustrate overfitting in neural networks."
      ]
    },
    {
      "cell_type": "code",
      "execution_count": null,
      "metadata": {
        "execution": {},
        "id": "88jYjPQ6Xp8F"
      },
      "outputs": [],
      "source": [
        "set_seed(seed=SEED)\n",
        "\n",
        "# Creating train data\n",
        "# Input\n",
        "X = torch.rand((10, 1))\n",
        "# Output\n",
        "Y = 2*X + 2*torch.empty((X.shape[0], 1)).normal_(mean=0, std=1)  # Adding small error in the data\n",
        "\n",
        "# Visualizing train data\n",
        "plt.figure(figsize=(8, 6))\n",
        "plt.scatter(X.numpy(),Y.numpy())\n",
        "plt.xlabel('input (x)')\n",
        "plt.ylabel('output(y)')\n",
        "plt.title('toy dataset')\n",
        "plt.show()\n",
        "\n",
        "# Creating test dataset\n",
        "X_test = torch.linspace(0, 1, 40)\n",
        "X_test = X_test.reshape((40, 1, 1))"
      ]
    },
    {
      "cell_type": "markdown",
      "metadata": {
        "execution": {},
        "id": "kKGlhM_8Xp8G"
      },
      "source": [
        "Let's create an overparametrized Neural Network that can fit on the dataset that we just created and train it.\n",
        "\n",
        "First, let's build the model architecture:"
      ]
    },
    {
      "cell_type": "code",
      "execution_count": null,
      "metadata": {
        "execution": {},
        "id": "HNMNfDLfXp8G"
      },
      "outputs": [],
      "source": [
        "class Net(nn.Module):\n",
        "  \"\"\"\n",
        "  Network Class - 2D with following structure\n",
        "  nn.Linear(1, 300) + leaky_relu(self.fc1(x)) # First fully connected layer\n",
        "  nn.Linear(300, 500) + leaky_relu(self.fc2(x)) # Second fully connected layer\n",
        "  nn.Linear(500, 1) # Final fully connected layer\n",
        "  \"\"\"\n",
        "\n",
        "  def __init__(self):\n",
        "    \"\"\"\n",
        "    Initialize parameters of Net\n",
        "\n",
        "    Args:\n",
        "      None\n",
        "\n",
        "    Returns:\n",
        "      Nothing\n",
        "    \"\"\"\n",
        "    super(Net, self).__init__()\n",
        "\n",
        "    self.fc1 = nn.Linear(1, 300)\n",
        "    self.fc2 = nn.Linear(300, 500)\n",
        "    self.fc3 = nn.Linear(500, 1)\n",
        "\n",
        "  def forward(self, x):\n",
        "    \"\"\"\n",
        "    Forward pass of Net\n",
        "\n",
        "    Args:\n",
        "      x: torch.tensor\n",
        "        Input features\n",
        "\n",
        "    Returns:\n",
        "      x: torch.tensor\n",
        "        Output/Predictions\n",
        "    \"\"\"\n",
        "    x = F.leaky_relu(self.fc1(x))\n",
        "    x = F.leaky_relu(self.fc2(x))\n",
        "    output = self.fc3(x)\n",
        "    return output"
      ]
    },
    {
      "cell_type": "markdown",
      "metadata": {
        "execution": {},
        "id": "JTkkILQ1Xp8G"
      },
      "source": [
        "Next, let's define the different parameters for training our model:\n"
      ]
    },
    {
      "cell_type": "code",
      "execution_count": null,
      "metadata": {
        "execution": {},
        "id": "zc25KGu9Xp8G"
      },
      "outputs": [],
      "source": [
        "set_seed(seed=SEED)\n",
        "\n",
        "# Train the network on toy dataset\n",
        "model = Net()\n",
        "\n",
        "criterion = nn.MSELoss()\n",
        "optimizer = optim.Adam(model.parameters(), lr=1e-4)\n",
        "\n",
        "iters = 0\n",
        "# Calculates frobenius before training\n",
        "normi, wsi, label = calculate_frobenius_norm(model)"
      ]
    },
    {
      "cell_type": "markdown",
      "metadata": {
        "execution": {},
        "id": "jZJ3e_zgXp8H"
      },
      "source": [
        "At this point, we can now train our model."
      ]
    },
    {
      "cell_type": "code",
      "execution_count": null,
      "metadata": {
        "execution": {},
        "id": "I7T7bgx-Xp8H"
      },
      "outputs": [],
      "source": [
        "set_seed(seed=SEED)\n",
        "\n",
        "# Initializing variables\n",
        "# Losses\n",
        "train_loss = []\n",
        "test_loss = []\n",
        "\n",
        "# Model norm\n",
        "model_norm = []\n",
        "\n",
        "# Initializing variables to store weights\n",
        "norm_per_layer = []\n",
        "\n",
        "max_epochs = 10000\n",
        "\n",
        "running_predictions = np.empty((40, int(max_epochs / 500 + 1)))\n",
        "\n",
        "for epoch in tqdm(range(max_epochs)):\n",
        "  # Frobenius norm per epoch\n",
        "  norm, pl, layer_names = calculate_frobenius_norm(model)\n",
        "\n",
        "  # Training\n",
        "  model_norm.append(norm)\n",
        "  norm_per_layer.append(pl)\n",
        "  model.train()\n",
        "  optimizer.zero_grad()\n",
        "  predictions = model(X)\n",
        "  loss = criterion(predictions, Y)\n",
        "  loss.backward()\n",
        "  optimizer.step()\n",
        "\n",
        "  train_loss.append(loss.data)\n",
        "  model.eval()\n",
        "  Y_test = model(X_test)\n",
        "  loss = criterion(Y_test, 2*X_test)\n",
        "  test_loss.append(loss.data)\n",
        "\n",
        "  if (epoch % 500 == 0 or epoch == max_epochs - 1):\n",
        "    running_predictions[:, iters] = Y_test[:, 0, 0].detach().numpy()\n",
        "    iters += 1"
      ]
    },
    {
      "cell_type": "markdown",
      "metadata": {
        "execution": {},
        "id": "hW-gLU_uXp8H"
      },
      "source": [
        "Now that we have finished training, let's see how the model has evolved over the training process."
      ]
    },
    {
      "cell_type": "code",
      "execution_count": null,
      "metadata": {
        "cellView": "form",
        "execution": {},
        "id": "kylPRaJaXp8H"
      },
      "outputs": [],
      "source": [
        "# @title Animation (Run Me!)\n",
        "\n",
        "set_seed(seed=SEED)\n",
        "# Create a figure and axes\n",
        "fig = plt.figure(figsize=(14, 5))\n",
        "ax1 = plt.subplot(121)\n",
        "ax2 = plt.subplot(122)\n",
        "# Organizing subplots\n",
        "plot1, = ax1.plot([],[])\n",
        "plot2 = ax2.bar([], [])\n",
        "\n",
        "\n",
        "def frame(i):\n",
        "  \"\"\"\n",
        "  Load animation frame\n",
        "\n",
        "  Args:\n",
        "    i: int\n",
        "      Epoch number\n",
        "\n",
        "  Returns:\n",
        "    plot1: function\n",
        "      Subplot of test-data vs running predictions\n",
        "    plot2: function\n",
        "      Subplot of test-data vs running predictions\n",
        "  \"\"\"\n",
        "  ax1.clear()\n",
        "  title1 = ax1.set_title('')\n",
        "  ax1.set_xlabel(\"Input(x)\")\n",
        "  ax1.set_ylabel(\"Output(y)\")\n",
        "\n",
        "  ax2.clear()\n",
        "  ax2.set_xlabel('Layer names')\n",
        "  ax2.set_ylabel('Frobenius norm')\n",
        "  title2 = ax2.set_title('Weight Measurement: Forbenius Norm')\n",
        "\n",
        "  ax1.scatter(X.numpy(),Y.numpy())\n",
        "  plot1 = ax1.plot(X_test[:,0,:].detach().numpy(),\n",
        "                   running_predictions[:,i])\n",
        "  title1.set_text(f'Epochs: {i * 500}')\n",
        "  plot2 = ax2.bar(label, norm_per_layer[i*500])\n",
        "  plt.axhline(y=model_norm[i*500], linewidth=1,\n",
        "              color='r', ls='--',\n",
        "              label=f'Norm: {model_norm[i*500]:.2f}')\n",
        "  plt.legend()\n",
        "\n",
        "  return plot1, plot2\n",
        "\n",
        "\n",
        "anim = animation.FuncAnimation(fig, frame, frames=range(20),\n",
        "                               blit=False, repeat=False,\n",
        "                               repeat_delay=10000)\n",
        "html_anim = HTML(anim.to_html5_video())\n",
        "plt.close()\n",
        "\n",
        "import IPython\n",
        "IPython.display.display(html_anim)"
      ]
    },
    {
      "cell_type": "code",
      "execution_count": null,
      "metadata": {
        "cellView": "form",
        "execution": {},
        "id": "cVjmlxMSXp8H"
      },
      "outputs": [],
      "source": [
        "# @title Plot the train and test losses\n",
        "plt.figure(figsize=(8, 6))\n",
        "plt.plot(train_loss,label='train_loss')\n",
        "plt.plot(test_loss,label='test_loss')\n",
        "plt.ylabel('loss')\n",
        "plt.xlabel('epochs')\n",
        "plt.title('loss vs epoch')\n",
        "plt.legend()\n",
        "plt.show()"
      ]
    },
    {
      "cell_type": "markdown",
      "metadata": {
        "execution": {},
        "id": "7bHntg5pXp8I"
      },
      "source": [
        "### Think! 2.1: Interpreting losses\n",
        "\n",
        "Regarding the train and test graph above, discuss among yourselves:\n",
        "\n",
        "*   What trend do you see with respect to train and test losses (Where do you see the minimum of these losses?)\n",
        "*   What does it tell us about the model we trained?"
      ]
    },
    {
      "cell_type": "markdown",
      "metadata": {
        "execution": {},
        "id": "3uZ8Tgh9Xp8I"
      },
      "source": [
        "[*Click for solution*](https://github.com/NeuromatchAcademy/course-content-dl/tree/main/tutorials/W2D1_Regularization/solutions/W2D1_Tutorial1_Solution_d9ff50a5.py)\n",
        "\n"
      ]
    },
    {
      "cell_type": "code",
      "execution_count": null,
      "metadata": {
        "cellView": "form",
        "execution": {},
        "id": "KcJJKuP7Xp8I"
      },
      "outputs": [],
      "source": [
        "# @title Submit your feedback\n",
        "content_review(f\"{feedback_prefix}_Interpreting_losses_Discussion\")"
      ]
    },
    {
      "cell_type": "markdown",
      "metadata": {
        "execution": {},
        "id": "sN-_WCSCXp8I"
      },
      "source": [
        "Now let's visualize the Frobenious norm of the model as we trained. You should see that the value of weights increases over the epochs."
      ]
    },
    {
      "cell_type": "code",
      "execution_count": null,
      "metadata": {
        "cellView": "form",
        "execution": {},
        "id": "ZnMlxbesXp8J"
      },
      "outputs": [],
      "source": [
        "# @markdown Frobenious norm of the model\n",
        "plt.figure(figsize=(8, 6))\n",
        "plt.plot(model_norm)\n",
        "plt.ylabel('Norm of the model')\n",
        "plt.xlabel('Epochs')\n",
        "plt.title('Frobenious norm of the model')\n",
        "plt.show()"
      ]
    },
    {
      "cell_type": "markdown",
      "metadata": {
        "execution": {},
        "id": "3w8j_eKEXp8J"
      },
      "source": [
        "Finally, you can compare the Frobenius norm per layer in the model, before and after training."
      ]
    },
    {
      "cell_type": "code",
      "execution_count": null,
      "metadata": {
        "cellView": "form",
        "execution": {},
        "id": "CvdQo3NUXp8J"
      },
      "outputs": [],
      "source": [
        "# @markdown Frobenius norm per layer before and after training\n",
        "normf, wsf, label = calculate_frobenius_norm(model)\n",
        "\n",
        "plot_weights(float(normi), label, wsi,\n",
        "             title='Weight Size Before Training')\n",
        "plot_weights(float(normf), label, wsf,\n",
        "             title='Weight Size After Training')"
      ]
    },
    {
      "cell_type": "markdown",
      "metadata": {
        "execution": {},
        "id": "8VSTN9QdXp8J"
      },
      "source": [
        "## Section 2.2: Overfitting on Test Dataset\n",
        "\n",
        "In principle, we should not touch our test set until choosing all our hyperparameters. Were we to use the test data in the model selection process, there is a risk that we might overfit the test data, and then we will be in serious trouble. If we overfit our training data, there is always an evaluation using the test data to keep us honest. But if we overfit the test data, how would we ever know?\n",
        "\n",
        "Note that there is another kind of overfitting: you do \"honest\" fitting on one set of images or posts or medical records, but it may not generalize to other images, posts, or medical records."
      ]
    },
    {
      "cell_type": "markdown",
      "metadata": {
        "execution": {},
        "id": "pH7_-PMUXp8K"
      },
      "source": [
        "### Validation Dataset\n",
        "\n",
        "A common practice to address this problem is to split our data in three ways, using a validation dataset (or validation set) to tune the hyperparameters. Ideally, we would only touch the test data once, to assess the very best model or to compare a small number of models to each other, real-world test data is seldom discarded after just one use."
      ]
    },
    {
      "cell_type": "markdown",
      "metadata": {
        "execution": {},
        "id": "QLS1zw2LXp8K"
      },
      "source": [
        "---\n",
        "# Section 3: Memorization\n",
        "\n",
        "*Time estimate: ~20 mins*\n"
      ]
    },
    {
      "cell_type": "markdown",
      "metadata": {
        "execution": {},
        "id": "fAVccTzrXp8L"
      },
      "source": [
        "Given sufficiently large networks and enough training, Neural Networks can achieve almost 100% train accuracy by remembering each training example. However, this is bad because it will mean that the model will fail when presented with new data.\n",
        "\n",
        "In this section, we train three MLPs; one each on:\n",
        "\n",
        "1. Animal Faces Dataset\n",
        "2. A Completely Noisy Dataset (Random shuffling of all labels)\n",
        "3. A partially Noisy Dataset (Random shuffling of 15% labels)"
      ]
    },
    {
      "cell_type": "markdown",
      "metadata": {
        "execution": {},
        "id": "prcHvTH4Xp8L"
      },
      "source": [
        "Now, think for a couple of minutes as to what the train and test accuracies of each of these models might be, given that you train for sufficient time and use a powerful network."
      ]
    },
    {
      "cell_type": "markdown",
      "metadata": {
        "execution": {},
        "id": "U2kUKQkYXp8L"
      },
      "source": [
        "First, let's create the required dataloaders for all three datasets. Notice how we split the data. We train on a fraction of the dataset as it will be faster to train and will overfit more clearly."
      ]
    },
    {
      "cell_type": "code",
      "execution_count": null,
      "metadata": {
        "execution": {},
        "id": "_9GKTXJ6Xp8L"
      },
      "outputs": [],
      "source": [
        "# Dataloaders for the Dataset\n",
        "batch_size = 128\n",
        "classes = ('cat', 'dog', 'wild')\n",
        "\n",
        "# Defining number of examples for train, val test\n",
        "len_train, len_val, len_test = 100, 100, 14430\n",
        "\n",
        "train_transform = transforms.Compose([\n",
        "     transforms.ToTensor(),\n",
        "     transforms.Normalize((0.5, 0.5, 0.5), (0.5, 0.5, 0.5))\n",
        "     ])\n",
        "data_path = pathlib.Path('.')/'afhq'  # Using pathlib to be compatible with all OS's\n",
        "img_dataset = ImageFolder(data_path/'train', transform=train_transform)"
      ]
    },
    {
      "cell_type": "code",
      "execution_count": null,
      "metadata": {
        "execution": {},
        "id": "vAemee4uXp8M"
      },
      "outputs": [],
      "source": [
        "# Dataloaders for the Original Dataset\n",
        "\n",
        "# For reproducibility\n",
        "g_seed = torch.Generator()\n",
        "g_seed.manual_seed(SEED)\n",
        "\n",
        "img_train_data, img_val_data,_ = torch.utils.data.random_split(img_dataset,\n",
        "                                                               [len_train,\n",
        "                                                                len_val,\n",
        "                                                                len_test])\n",
        "\n",
        "# Creating train_loader and Val_loader\n",
        "train_loader = torch.utils.data.DataLoader(img_train_data,\n",
        "                                           batch_size=batch_size,\n",
        "                                           num_workers=2,\n",
        "                                           worker_init_fn=seed_worker,\n",
        "                                           generator=g_seed)\n",
        "\n",
        "val_loader = torch.utils.data.DataLoader(img_val_data,\n",
        "                                         batch_size=1000,\n",
        "                                         num_workers=2,\n",
        "                                         worker_init_fn=seed_worker,\n",
        "                                         generator=g_seed)"
      ]
    },
    {
      "cell_type": "code",
      "execution_count": null,
      "metadata": {
        "execution": {},
        "id": "g4Or-TooXp8M"
      },
      "outputs": [],
      "source": [
        "# Dataloaders for the Random Dataset\n",
        "\n",
        "# For reproducibility\n",
        "g_seed = torch.Generator()\n",
        "g_seed.manual_seed(SEED + 1)\n",
        "\n",
        "# Splitting randomized data into training and validation data\n",
        "data_path = pathlib.Path('.')/'afhq_random_32x32/afhq_random' # Using pathlib to be compatible with all OS's\n",
        "img_dataset = ImageFolder(data_path/'train', transform=train_transform)\n",
        "random_img_train_data, random_img_val_data,_ = torch.utils.data.random_split(img_dataset, [len_train, len_val, len_test])\n",
        "\n",
        "# Randomized train and validation dataloader\n",
        "rand_train_loader = torch.utils.data.DataLoader(random_img_train_data,\n",
        "                                                batch_size=batch_size,\n",
        "                                                num_workers=2,\n",
        "                                                worker_init_fn=seed_worker,\n",
        "                                                generator=g_seed)\n",
        "\n",
        "rand_val_loader = torch.utils.data.DataLoader(random_img_val_data,\n",
        "                                              batch_size=1000,\n",
        "                                              num_workers=2,\n",
        "                                              worker_init_fn=seed_worker,\n",
        "                                              generator=g_seed)"
      ]
    },
    {
      "cell_type": "code",
      "execution_count": null,
      "metadata": {
        "execution": {},
        "id": "-HTPsBxDXp8M"
      },
      "outputs": [],
      "source": [
        "# Dataloaders for the Partially Random Dataset\n",
        "\n",
        "# For reproducibility\n",
        "g_seed = torch.Generator()\n",
        "g_seed.manual_seed(SEED + 1)\n",
        "\n",
        "# Splitting data between training and validation dataset for partially randomized data\n",
        "data_path = pathlib.Path('.')/'afhq_10_32x32/afhq_10' # Using pathlib to be compatible with all OS's\n",
        "img_dataset = ImageFolder(data_path/'train', transform=train_transform)\n",
        "partially_random_train_data, partially_random_val_data,_ = torch.utils.data.random_split(img_dataset, [len_train, len_val, len_test])\n",
        "\n",
        "# Training and Validation loader for partially randomized data\n",
        "partial_rand_train_loader = torch.utils.data.DataLoader(partially_random_train_data,\n",
        "                                                        batch_size=batch_size,\n",
        "                                                        num_workers=2,\n",
        "                                                        worker_init_fn=seed_worker,\n",
        "                                                        generator=g_seed)\n",
        "\n",
        "partial_rand_val_loader = torch.utils.data.DataLoader(partially_random_val_data,\n",
        "                                                      batch_size=1000,\n",
        "                                                      num_workers=2,\n",
        "                                                      worker_init_fn=seed_worker,\n",
        "                                                      generator=g_seed)"
      ]
    },
    {
      "cell_type": "markdown",
      "metadata": {
        "execution": {},
        "id": "Ukdg0qGhXp8N"
      },
      "source": [
        "Now let's define a model which has many parameters compared to the training dataset size, and train it on these datasets."
      ]
    },
    {
      "cell_type": "code",
      "execution_count": null,
      "metadata": {
        "execution": {},
        "id": "Sg8eG6OtXp8N"
      },
      "outputs": [],
      "source": [
        "class BigAnimalNet(nn.Module):\n",
        "  \"\"\"\n",
        "  Network Class - Animal Faces with following structure:\n",
        "  nn.Linear(3*32*32, 124) + leaky_relu(self.fc1(x)) # First fully connected layer\n",
        "  nn.Linear(124, 64) + leaky_relu(self.fc2(x)) # Second fully connected layer\n",
        "  nn.Linear(64, 3) # Final fully connected layer\n",
        "  \"\"\"\n",
        "\n",
        "  def __init__(self):\n",
        "    \"\"\"\n",
        "    Initialize parameters for BigAnimalNet\n",
        "\n",
        "    Args:\n",
        "      None\n",
        "\n",
        "    Returns:\n",
        "      Nothing\n",
        "    \"\"\"\n",
        "    super(BigAnimalNet, self).__init__()\n",
        "    self.fc1 = nn.Linear(3*32*32, 124)\n",
        "    self.fc2 = nn.Linear(124, 64)\n",
        "    self.fc3 = nn.Linear(64, 3)\n",
        "\n",
        "  def forward(self, x):\n",
        "    \"\"\"\n",
        "    Forward pass of BigAnimalNet\n",
        "\n",
        "    Args:\n",
        "      x: torch.tensor\n",
        "        Input features\n",
        "\n",
        "    Returns:\n",
        "      x: torch.tensor\n",
        "        Output/Predictions\n",
        "    \"\"\"\n",
        "    x = x.view(x.shape[0], -1)\n",
        "    x = F.leaky_relu(self.fc1(x))\n",
        "    x = F.leaky_relu(self.fc2(x))\n",
        "    x = self.fc3(x)\n",
        "    output = F.log_softmax(x, dim=1)\n",
        "    return output"
      ]
    },
    {
      "cell_type": "markdown",
      "metadata": {
        "execution": {},
        "id": "7xoeba9VXp8N"
      },
      "source": [
        "Before training our `BigAnimalNet()`, calculate the Frobenius norm again."
      ]
    },
    {
      "cell_type": "code",
      "execution_count": null,
      "metadata": {
        "execution": {},
        "id": "fsEwNiifXp8O"
      },
      "outputs": [],
      "source": [
        "set_seed(seed=SEED)\n",
        "normi, wsi, label = calculate_frobenius_norm(BigAnimalNet())"
      ]
    },
    {
      "cell_type": "markdown",
      "metadata": {
        "execution": {},
        "id": "DpS99kCNXp8O"
      },
      "source": [
        "Now, train our `BigAnimalNet()` model"
      ]
    },
    {
      "cell_type": "code",
      "execution_count": null,
      "metadata": {
        "execution": {},
        "id": "PQENJwRBXp8O"
      },
      "outputs": [],
      "source": [
        "# Here we have 100 true train data.\n",
        "\n",
        "# Set the arguments\n",
        "args = {\n",
        "    'epochs': 200,\n",
        "    'lr': 5e-3,\n",
        "    'momentum': 0.9,\n",
        "    'device': DEVICE\n",
        "}\n",
        "\n",
        "\n",
        "# Initialize the network\n",
        "set_seed(seed=SEED)\n",
        "model = BigAnimalNet()\n",
        "\n",
        "start_time = time.time()\n",
        "\n",
        "# Train the network\n",
        "val_acc_pure, train_acc_pure, _, model = main(args=args,\n",
        "                                              model=model,\n",
        "                                              train_loader=train_loader,\n",
        "                                              val_loader=val_loader)\n",
        "end_time = time.time()\n",
        "\n",
        "print(f\"Time to memorize the dataset: {end_time - start_time}\")\n",
        "\n",
        "# Train and Test accuracy plot\n",
        "plt.figure(figsize=(8, 6))\n",
        "plt.plot(val_acc_pure, label='Val Accuracy Pure', c='red', ls='dashed')\n",
        "plt.plot(train_acc_pure, label='Train Accuracy Pure', c='red', ls='solid')\n",
        "plt.axhline(y=max(val_acc_pure), c='green', ls='dashed',\n",
        "            label='max Val accuracy pure')\n",
        "plt.title('Memorization')\n",
        "plt.ylabel('Accuracy (%)')\n",
        "plt.xlabel('Epoch')\n",
        "plt.legend()\n",
        "plt.show()"
      ]
    },
    {
      "cell_type": "code",
      "execution_count": null,
      "metadata": {
        "cellView": "form",
        "execution": {},
        "id": "3-mCjKGdXp8P"
      },
      "outputs": [],
      "source": [
        "# @markdown #### Frobenius norm for AnimalNet before and after training\n",
        "normf, wsf, label = calculate_frobenius_norm(model)\n",
        "\n",
        "plot_weights(float(normi), label, wsi, title='Weight Size Before Training')\n",
        "plot_weights(float(normf), label, wsf, title='Weight Size After Training')"
      ]
    },
    {
      "cell_type": "markdown",
      "metadata": {
        "execution": {},
        "id": "7NUoJEDPXp8P"
      },
      "source": [
        "## Data Visualizer\n",
        "\n",
        "Before we train the model on data with random labels, let's visualize and verify for ourselves that the data is random. Here, we have:\n",
        "```python\n",
        "classes = (\"cat\", \"dog\", \"wild\")\n",
        "```\n",
        "We use the `.permute()` method. `plt.imshow()` expects the input to be in NumPy format and in the format $(P_x, P_y, 3)$, where $P_x$ and $P_y$ are the number of pixels along $x$ and $y$ axis, respectively."
      ]
    },
    {
      "cell_type": "code",
      "execution_count": null,
      "metadata": {
        "execution": {},
        "id": "2lJZyPL3Xp8P"
      },
      "outputs": [],
      "source": [
        "def visualize_data(dataloader):\n",
        "  \"\"\"\n",
        "  Helper function to visualize data\n",
        "\n",
        "  Args:\n",
        "    dataloader: torch.tensor\n",
        "      Dataloader to visualize\n",
        "\n",
        "  Returns:\n",
        "    Nothing\n",
        "  \"\"\"\n",
        "\n",
        "  for idx, (data, label) in enumerate(dataloader):\n",
        "    plt.figure(idx)\n",
        "\n",
        "    # Choose the datapoint you would like to visualize\n",
        "    index = 22\n",
        "\n",
        "    # Choose that datapoint using index and permute the dimensions\n",
        "    # and bring the pixel values between [0, 1]\n",
        "    data = data[index].permute(1, 2, 0) * \\\n",
        "           torch.tensor([0.5, 0.5, 0.5]) + \\\n",
        "           torch.tensor([0.5, 0.5, 0.5])\n",
        "\n",
        "    # Convert the torch tensor into numpy\n",
        "    data = data.numpy()\n",
        "\n",
        "    plt.imshow(data)\n",
        "    plt.axis(False)\n",
        "    image_class = classes[label[index].item()]\n",
        "    print(f'The image belongs to : {image_class}')\n",
        "\n",
        "  plt.show()\n",
        "\n",
        "\n",
        "# Call the function\n",
        "visualize_data(rand_train_loader)"
      ]
    },
    {
      "cell_type": "markdown",
      "metadata": {
        "execution": {},
        "id": "ZXwBBGRBXp8P"
      },
      "source": [
        " Now let's train the network on the shuffled data and see if it memorizes."
      ]
    },
    {
      "cell_type": "code",
      "execution_count": null,
      "metadata": {
        "execution": {},
        "id": "n3BYI0bMXp8Q"
      },
      "outputs": [],
      "source": [
        "# Here we have 100 completely shuffled train data.\n",
        "\n",
        "# Set the arguments\n",
        "args = {\n",
        "    'epochs': 200,\n",
        "    'lr': 5e-3,\n",
        "    'momentum': 0.9,\n",
        "    'device': DEVICE\n",
        "}\n",
        "\n",
        "# Initialize the model\n",
        "set_seed(seed=SEED)\n",
        "model = BigAnimalNet()\n",
        "\n",
        "# Train the model\n",
        "val_acc_random, train_acc_random, _, model = main(args,\n",
        "                                                  model,\n",
        "                                                  rand_train_loader,\n",
        "                                                  val_loader)\n",
        "\n",
        "# Train and Test accuracy plot\n",
        "plt.figure(figsize=(8, 6))\n",
        "plt.plot(val_acc_pure,label='Val - Pure',c='red',ls = 'dashed')\n",
        "plt.plot(train_acc_pure,label='Train - Pure',c='red',ls = 'solid')\n",
        "plt.plot(val_acc_random,label='Val - Random',c='blue',ls = 'dashed')\n",
        "plt.plot(train_acc_random,label='Train - Random',c='blue',ls = 'solid')\n",
        "\n",
        "plt.title('Memorization')\n",
        "plt.ylabel('Accuracy (%)')\n",
        "plt.xlabel('Epoch')\n",
        "plt.legend()\n",
        "plt.show()"
      ]
    },
    {
      "cell_type": "markdown",
      "metadata": {
        "execution": {},
        "id": "Vc_RFOuuXp8Q"
      },
      "source": [
        "Isn't it surprising to see that the ANN was able to achieve 100% training accuracy on randomly shuffled labels? This is one of the reasons why training accuracy is not a good indicator of model performance."
      ]
    },
    {
      "cell_type": "markdown",
      "metadata": {
        "execution": {},
        "id": "lc_AhD3-Xp8R"
      },
      "source": [
        "---\n",
        "# Section 4: Early Stopping\n",
        "\n",
        "*Time estimate: ~20 mins*"
      ]
    },
    {
      "cell_type": "code",
      "execution_count": null,
      "metadata": {
        "cellView": "form",
        "execution": {},
        "id": "pdeNYfXkXp8R"
      },
      "outputs": [],
      "source": [
        "# @title Video 4: Early Stopping\n",
        "from ipywidgets import widgets\n",
        "from IPython.display import YouTubeVideo\n",
        "from IPython.display import IFrame\n",
        "from IPython.display import display\n",
        "\n",
        "\n",
        "class PlayVideo(IFrame):\n",
        "  def __init__(self, id, source, page=1, width=400, height=300, **kwargs):\n",
        "    self.id = id\n",
        "    if source == 'Bilibili':\n",
        "      src = f'https://player.bilibili.com/player.html?bvid={id}&page={page}'\n",
        "    elif source == 'Osf':\n",
        "      src = f'https://mfr.ca-1.osf.io/render?url=https://osf.io/download/{id}/?direct%26mode=render'\n",
        "    super(PlayVideo, self).__init__(src, width, height, **kwargs)\n",
        "\n",
        "\n",
        "def display_videos(video_ids, W=400, H=300, fs=1):\n",
        "  tab_contents = []\n",
        "  for i, video_id in enumerate(video_ids):\n",
        "    out = widgets.Output()\n",
        "    with out:\n",
        "      if video_ids[i][0] == 'Youtube':\n",
        "        video = YouTubeVideo(id=video_ids[i][1], width=W,\n",
        "                             height=H, fs=fs, rel=0)\n",
        "        print(f'Video available at https://youtube.com/watch?v={video.id}')\n",
        "      else:\n",
        "        video = PlayVideo(id=video_ids[i][1], source=video_ids[i][0], width=W,\n",
        "                          height=H, fs=fs, autoplay=False)\n",
        "        if video_ids[i][0] == 'Bilibili':\n",
        "          print(f'Video available at https://www.bilibili.com/video/{video.id}')\n",
        "        elif video_ids[i][0] == 'Osf':\n",
        "          print(f'Video available at https://osf.io/{video.id}')\n",
        "      display(video)\n",
        "    tab_contents.append(out)\n",
        "  return tab_contents\n",
        "\n",
        "\n",
        "video_ids = [('Youtube', '72IG2bX5l30'), ('Bilibili', 'BV1cB4y1K777')]\n",
        "tab_contents = display_videos(video_ids, W=854, H=480)\n",
        "tabs = widgets.Tab()\n",
        "tabs.children = tab_contents\n",
        "for i in range(len(tab_contents)):\n",
        "  tabs.set_title(i, video_ids[i][0])\n",
        "display(tabs)"
      ]
    },
    {
      "cell_type": "code",
      "execution_count": null,
      "metadata": {
        "cellView": "form",
        "execution": {},
        "id": "Y_bWsrq7Xp8S"
      },
      "outputs": [],
      "source": [
        "# @title Submit your feedback\n",
        "content_review(f\"{feedback_prefix}_Early_Stopping_Video\")"
      ]
    },
    {
      "cell_type": "markdown",
      "metadata": {
        "execution": {},
        "id": "qXdMgvZFXp8S"
      },
      "source": [
        "Now that we have established that the validation accuracy reaches the peak well before the model overfits, we want to stop the training somehow early. You should have also observed from the above plots that the train/test loss on real data is not very smooth, and hence you might guess that the choice of the epoch can play a crucial role in the validation/test accuracy.\n",
        "\n",
        "Early stopping stops training when the validation accuracies stop increasing.\n",
        "\n",
        "<br>\n",
        "\n",
        "<center><img src=\"https://raw.githubusercontent.com/NeuromatchAcademy/course-content-dl/main/tutorials/static/early-stopping-machine-learning-5422207.jpg\" alt=\"Overfitting\" width=\"600\"/></center>"
      ]
    },
    {
      "cell_type": "markdown",
      "metadata": {
        "execution": {},
        "id": "xZyqEZBcXp8S"
      },
      "source": [
        "## Coding Exercise 4: Early Stopping\n",
        "\n",
        "Reimplement the main function to include early stopping as described above. Then run the code below to validate your implementation."
      ]
    },
    {
      "cell_type": "code",
      "execution_count": null,
      "metadata": {
        "execution": {},
        "id": "RkNZgsvIXp8T"
      },
      "outputs": [],
      "source": [
        "def early_stopping_main(args, model, train_loader, val_loader):\n",
        "  \"\"\"\n",
        "  Function to simulate early stopping\n",
        "\n",
        "  Args:\n",
        "    args: dictionary\n",
        "      Dictionary with epochs: 200, lr: 5e-3, momentum: 0.9, device: DEVICE\n",
        "    model: nn.module\n",
        "      Neural network instance\n",
        "    train_loader: torch.loader\n",
        "      Train dataset\n",
        "    val_loader: torch.loader\n",
        "      Validation set\n",
        "\n",
        "  Returns:\n",
        "    val_acc_list: list\n",
        "      Val accuracy log until early stop point\n",
        "    train_acc_list: list\n",
        "      Training accuracy log until early stop point\n",
        "    best_model: nn.module\n",
        "      Model performing best with early stopping\n",
        "    best_epoch: int\n",
        "      Epoch at which early stopping occurs\n",
        "  \"\"\"\n",
        "\n",
        "  ####################################################################\n",
        "  # Fill in all missing code below (...),\n",
        "  # then remove or comment the line below to test your function\n",
        "  raise NotImplementedError(\"Complete the early_stopping_main function\")\n",
        "  ####################################################################\n",
        "  device = args['device']\n",
        "  model = model.to(device)\n",
        "  optimizer = optim.SGD(model.parameters(),\n",
        "                        lr=args['lr'],\n",
        "                        momentum=args['momentum'])\n",
        "\n",
        "  best_acc = 0.0\n",
        "  best_epoch = 0\n",
        "\n",
        "  # Number of successive epochs that you want to wait before stopping training process\n",
        "  patience = 20\n",
        "\n",
        "  # Keeps track of number of epochs during which the val_acc was less than best_acc\n",
        "  wait = 0\n",
        "\n",
        "  val_acc_list, train_acc_list = [], []\n",
        "  for epoch in tqdm(range(args['epochs'])):\n",
        "\n",
        "    # Train the model\n",
        "    trained_model = ...\n",
        "\n",
        "    # Calculate training accuracy\n",
        "    train_acc = ...\n",
        "\n",
        "    # Calculate validation accuracy\n",
        "    val_acc = ...\n",
        "\n",
        "    if (val_acc > best_acc):\n",
        "      best_acc = val_acc\n",
        "      best_epoch = epoch\n",
        "      best_model = copy.deepcopy(trained_model)\n",
        "      wait = 0\n",
        "    else:\n",
        "      wait += 1\n",
        "\n",
        "    if (wait > patience):\n",
        "      print(f'Early stopped on epoch: {epoch}')\n",
        "      break\n",
        "\n",
        "    train_acc_list.append(train_acc)\n",
        "    val_acc_list.append(val_acc)\n",
        "\n",
        "  return val_acc_list, train_acc_list, best_model, best_epoch\n",
        "\n",
        "\n",
        "\n",
        "# Set the arguments\n",
        "args = {\n",
        "    'epochs': 200,\n",
        "    'lr': 5e-4,\n",
        "    'momentum': 0.99,\n",
        "    'device': DEVICE\n",
        "}\n",
        "\n",
        "# Initialize the model\n",
        "set_seed(seed=SEED)\n",
        "model = AnimalNet()\n",
        "\n",
        "## Uncomment to test\n",
        "# val_acc_earlystop, train_acc_earlystop, best_model, best_epoch = early_stopping_main(args, model, train_loader, val_loader)\n",
        "# print(f'Maximum Validation Accuracy is reached at epoch: {best_epoch:2d}')\n",
        "# early_stop_plot(train_acc_earlystop, val_acc_earlystop, best_epoch)"
      ]
    },
    {
      "cell_type": "markdown",
      "metadata": {
        "execution": {},
        "id": "_cr8knUIXp8T"
      },
      "source": [
        "[*Click for solution*](https://github.com/NeuromatchAcademy/course-content-dl/tree/main/tutorials/W2D1_Regularization/solutions/W2D1_Tutorial1_Solution_06645513.py)\n",
        "\n"
      ]
    },
    {
      "cell_type": "code",
      "execution_count": null,
      "metadata": {
        "cellView": "form",
        "execution": {},
        "id": "Ah96VqabXp8T"
      },
      "outputs": [],
      "source": [
        "# @title Submit your feedback\n",
        "content_review(f\"{feedback_prefix}_Early_Stopping_Exercise\")"
      ]
    },
    {
      "cell_type": "markdown",
      "metadata": {
        "execution": {},
        "id": "_mN18XbOXp8T"
      },
      "source": [
        "## Think! 4: Early Stopping\n",
        "\n",
        "Discuss among your pod why or why not:\n",
        "* Do you think early stopping can be harmful to training your network?"
      ]
    },
    {
      "cell_type": "markdown",
      "metadata": {
        "execution": {},
        "id": "l0RX2zhfXp8U"
      },
      "source": [
        "[*Click for solution*](https://github.com/NeuromatchAcademy/course-content-dl/tree/main/tutorials/W2D1_Regularization/solutions/W2D1_Tutorial1_Solution_1329e07b.py)\n",
        "\n"
      ]
    },
    {
      "cell_type": "code",
      "execution_count": null,
      "metadata": {
        "cellView": "form",
        "execution": {},
        "id": "7f7hoFWWXp8U"
      },
      "outputs": [],
      "source": [
        "# @title Submit your feedback\n",
        "content_review(f\"{feedback_prefix}_Early_Stopping_Discussion\")"
      ]
    },
    {
      "cell_type": "markdown",
      "metadata": {
        "execution": {},
        "id": "jYG4hVbmXp8U"
      },
      "source": [
        "---\n",
        "# Summary\n",
        "\n",
        "In this tutorial, you have been introduced to the regularization technique, described as shrinkage. We have learned about overfitting, one of the worst caveats in deep learning, and finally, we have learned a method of reducing overfitting in our models called early-stopping.\n",
        "\n",
        "If you have time left, you can learn how a model behaves when is trained with randomized labels."
      ]
    },
    {
      "cell_type": "markdown",
      "metadata": {
        "execution": {},
        "id": "EN7CZDf1Xp8U"
      },
      "source": [
        "---\n",
        "# Bonus: Train with randomized labels"
      ]
    },
    {
      "cell_type": "markdown",
      "metadata": {
        "execution": {},
        "id": "whXkKYuRXp8U"
      },
      "source": [
        "In this part, let's train on a partially shuffled dataset where 15% of the labels are noisy."
      ]
    },
    {
      "cell_type": "code",
      "execution_count": null,
      "metadata": {
        "execution": {},
        "id": "t_dcN1LpXp8U"
      },
      "outputs": [],
      "source": [
        "# Here we have 15% partially shuffled train data.\n",
        "\n",
        "# Set the arguments\n",
        "args = {\n",
        "    'epochs': 200,\n",
        "    'lr': 5e-3,\n",
        "    'momentum': 0.9,\n",
        "    'device': DEVICE\n",
        "}\n",
        "\n",
        "# Intialize the model\n",
        "set_seed(seed=SEED)\n",
        "model = BigAnimalNet()\n",
        "\n",
        "# Train the model\n",
        "val_acc_shuffle, train_acc_shuffle, _, _, = main(args,\n",
        "                                                 model,\n",
        "                                                 partial_rand_train_loader,\n",
        "                                                 val_loader)\n",
        "\n",
        "# Train and test acc plot\n",
        "plt.figure(figsize=(8, 6))\n",
        "plt.plot(val_acc_shuffle, label='Val Accuracy shuffle', c='red', ls='dashed')\n",
        "plt.plot(train_acc_shuffle, label='Train Accuracy shuffle', c='red', ls='solid')\n",
        "plt.axhline(y=max(val_acc_shuffle), c='green', ls='dashed',\n",
        "            label='Max Val Accuracy shuffle')\n",
        "plt.title('Memorization')\n",
        "plt.ylabel('Accuracy (%)')\n",
        "plt.xlabel('Epoch')\n",
        "plt.legend()\n",
        "plt.show()"
      ]
    },
    {
      "cell_type": "code",
      "execution_count": null,
      "metadata": {
        "cellView": "form",
        "execution": {},
        "id": "8bGWAg6SXp8V"
      },
      "outputs": [],
      "source": [
        "#@markdown #### Plotting them all together (Run Me!)\n",
        "plt.figure(figsize=(8, 6))\n",
        "plt.plot(val_acc_pure,label='Val - Pure',c='red',ls = 'dashed')\n",
        "plt.plot(train_acc_pure,label='Train - Pure',c='red',ls = 'solid')\n",
        "plt.plot(val_acc_random,label='Val - Random',c='blue',ls = 'dashed')\n",
        "plt.plot(train_acc_random,label='Train - Random',c='blue',ls = 'solid')\n",
        "plt.plot(val_acc_shuffle, label='Val - shuffle', c='y', ls='dashed')\n",
        "plt.plot(train_acc_shuffle, label='Train - shuffle', c='y', ls='solid')\n",
        "\n",
        "plt.title('Memorization')\n",
        "plt.ylabel('Accuracy (%)')\n",
        "plt.xlabel('Epoch')\n",
        "plt.legend()\n",
        "plt.show()"
      ]
    },
    {
      "cell_type": "markdown",
      "metadata": {
        "execution": {},
        "id": "d01flrFeXp8V"
      },
      "source": [
        "## Think! Bonus: Does it Generalize?\n",
        "\n",
        "Given that the Neural Network fit/memorize the training data perfectly:\n",
        "\n",
        "* Do you think it generalizes well?\n",
        "* What makes you think it does or doesn't?"
      ]
    },
    {
      "cell_type": "markdown",
      "metadata": {
        "execution": {},
        "id": "YB-v5tOhXp8V"
      },
      "source": [
        "[*Click for solution*](https://github.com/NeuromatchAcademy/course-content-dl/tree/main/tutorials/W2D1_Regularization/solutions/W2D1_Tutorial1_Solution_566afa93.py)\n",
        "\n"
      ]
    },
    {
      "cell_type": "code",
      "execution_count": null,
      "metadata": {
        "cellView": "form",
        "execution": {},
        "id": "Sh2XUp67Xp8V"
      },
      "outputs": [],
      "source": [
        "# @title Submit your feedback\n",
        "content_review(f\"{feedback_prefix}_Early_Stopping_Generalization_Bonus_Discussion\")"
      ]
    },
    {
      "cell_type": "markdown",
      "metadata": {
        "execution": {},
        "id": "sarSZRz4Xp8V"
      },
      "source": [
        "Also, it is interesting to note that sometimes the model trained on slightly shuffled data does slightly better than the one trained on pure data. Shuffling some of the data is a form of regularization, i.e., one of many ways of adding noise to the training data."
      ]
    }
  ],
  "metadata": {
    "accelerator": "GPU",
    "colab": {
      "collapsed_sections": [
        "-PhV30moDGBj",
        "-ERb6jj0DGBj",
        "ZbHrMPJgDGBl",
        "ZK-TtZj2DGBy"
      ],
      "name": "W2D1_Tutorial1",
      "provenance": [],
      "toc_visible": true,
      "include_colab_link": true
    },
    "kernel": {
      "display_name": "Python 3",
      "language": "python",
      "name": "python3"
    },
    "kernelspec": {
      "display_name": "Python 3",
      "name": "python3"
    },
    "language_info": {
      "codemirror_mode": {
        "name": "ipython",
        "version": 3
      },
      "file_extension": ".py",
      "mimetype": "text/x-python",
      "name": "python",
      "nbconvert_exporter": "python",
      "pygments_lexer": "ipython3",
      "version": "3.7.11"
    },
    "widgets": {
      "application/vnd.jupyter.widget-state+json": {
        "e9ec27be67af4ee1ab2b92174b9b161d": {
          "model_module": "@jupyter-widgets/controls",
          "model_name": "TabModel",
          "model_module_version": "1.5.0",
          "state": {
            "_dom_classes": [],
            "_model_module": "@jupyter-widgets/controls",
            "_model_module_version": "1.5.0",
            "_model_name": "TabModel",
            "_titles": {
              "0": "Youtube",
              "1": "Bilibili"
            },
            "_view_count": null,
            "_view_module": "@jupyter-widgets/controls",
            "_view_module_version": "1.5.0",
            "_view_name": "TabView",
            "box_style": "",
            "children": [
              "IPY_MODEL_25ee3f68d6984988b8a8c4ae2e1c4e31",
              "IPY_MODEL_f186a7dd2606473b9c27dd5814c4298c"
            ],
            "layout": "IPY_MODEL_72eca6165c7a467592b755bd7718a439",
            "selected_index": 0
          }
        },
        "25ee3f68d6984988b8a8c4ae2e1c4e31": {
          "model_module": "@jupyter-widgets/output",
          "model_name": "OutputModel",
          "model_module_version": "1.0.0",
          "state": {
            "_dom_classes": [],
            "_model_module": "@jupyter-widgets/output",
            "_model_module_version": "1.0.0",
            "_model_name": "OutputModel",
            "_view_count": null,
            "_view_module": "@jupyter-widgets/output",
            "_view_module_version": "1.0.0",
            "_view_name": "OutputView",
            "layout": "IPY_MODEL_e0461ebb99654e19b19f9f370b3d55cf",
            "msg_id": "",
            "outputs": [
              {
                "output_type": "stream",
                "name": "stdout",
                "text": [
                  "Video available at https://youtube.com/watch?v=jhQAnIHTR6A\n"
                ]
              },
              {
                "output_type": "display_data",
                "data": {
                  "text/plain": "<IPython.lib.display.YouTubeVideo at 0x79069116cb90>",
                  "text/html": "\n        <iframe\n            width=\"854\"\n            height=\"480\"\n            src=\"https://www.youtube.com/embed/jhQAnIHTR6A?fs=1&rel=0\"\n            frameborder=\"0\"\n            allowfullscreen\n            \n        ></iframe>\n        ",
                  "image/jpeg": "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\n"
                },
                "metadata": {}
              }
            ]
          }
        },
        "f186a7dd2606473b9c27dd5814c4298c": {
          "model_module": "@jupyter-widgets/output",
          "model_name": "OutputModel",
          "model_module_version": "1.0.0",
          "state": {
            "_dom_classes": [],
            "_model_module": "@jupyter-widgets/output",
            "_model_module_version": "1.0.0",
            "_model_name": "OutputModel",
            "_view_count": null,
            "_view_module": "@jupyter-widgets/output",
            "_view_module_version": "1.0.0",
            "_view_name": "OutputView",
            "layout": "IPY_MODEL_94343bf114f643509b7c1f703cdb4603",
            "msg_id": "",
            "outputs": [
              {
                "output_type": "stream",
                "name": "stdout",
                "text": [
                  "Video available at https://www.bilibili.com/video/BV1mo4y1X76E\n"
                ]
              },
              {
                "output_type": "display_data",
                "data": {
                  "text/plain": "<__main__.PlayVideo at 0x790688876e50>",
                  "text/html": "\n        <iframe\n            width=\"854\"\n            height=\"480\"\n            src=\"https://player.bilibili.com/player.html?bvid=BV1mo4y1X76E&page=1?fs=1&autoplay=False\"\n            frameborder=\"0\"\n            allowfullscreen\n            \n        ></iframe>\n        "
                },
                "metadata": {}
              }
            ]
          }
        },
        "72eca6165c7a467592b755bd7718a439": {
          "model_module": "@jupyter-widgets/base",
          "model_name": "LayoutModel",
          "model_module_version": "1.2.0",
          "state": {
            "_model_module": "@jupyter-widgets/base",
            "_model_module_version": "1.2.0",
            "_model_name": "LayoutModel",
            "_view_count": null,
            "_view_module": "@jupyter-widgets/base",
            "_view_module_version": "1.2.0",
            "_view_name": "LayoutView",
            "align_content": null,
            "align_items": null,
            "align_self": null,
            "border": null,
            "bottom": null,
            "display": null,
            "flex": null,
            "flex_flow": null,
            "grid_area": null,
            "grid_auto_columns": null,
            "grid_auto_flow": null,
            "grid_auto_rows": null,
            "grid_column": null,
            "grid_gap": null,
            "grid_row": null,
            "grid_template_areas": null,
            "grid_template_columns": null,
            "grid_template_rows": null,
            "height": null,
            "justify_content": null,
            "justify_items": null,
            "left": null,
            "margin": null,
            "max_height": null,
            "max_width": null,
            "min_height": null,
            "min_width": null,
            "object_fit": null,
            "object_position": null,
            "order": null,
            "overflow": null,
            "overflow_x": null,
            "overflow_y": null,
            "padding": null,
            "right": null,
            "top": null,
            "visibility": null,
            "width": null
          }
        },
        "e0461ebb99654e19b19f9f370b3d55cf": {
          "model_module": "@jupyter-widgets/base",
          "model_name": "LayoutModel",
          "model_module_version": "1.2.0",
          "state": {
            "_model_module": "@jupyter-widgets/base",
            "_model_module_version": "1.2.0",
            "_model_name": "LayoutModel",
            "_view_count": null,
            "_view_module": "@jupyter-widgets/base",
            "_view_module_version": "1.2.0",
            "_view_name": "LayoutView",
            "align_content": null,
            "align_items": null,
            "align_self": null,
            "border": null,
            "bottom": null,
            "display": null,
            "flex": null,
            "flex_flow": null,
            "grid_area": null,
            "grid_auto_columns": null,
            "grid_auto_flow": null,
            "grid_auto_rows": null,
            "grid_column": null,
            "grid_gap": null,
            "grid_row": null,
            "grid_template_areas": null,
            "grid_template_columns": null,
            "grid_template_rows": null,
            "height": null,
            "justify_content": null,
            "justify_items": null,
            "left": null,
            "margin": null,
            "max_height": null,
            "max_width": null,
            "min_height": null,
            "min_width": null,
            "object_fit": null,
            "object_position": null,
            "order": null,
            "overflow": null,
            "overflow_x": null,
            "overflow_y": null,
            "padding": null,
            "right": null,
            "top": null,
            "visibility": null,
            "width": null
          }
        },
        "94343bf114f643509b7c1f703cdb4603": {
          "model_module": "@jupyter-widgets/base",
          "model_name": "LayoutModel",
          "model_module_version": "1.2.0",
          "state": {
            "_model_module": "@jupyter-widgets/base",
            "_model_module_version": "1.2.0",
            "_model_name": "LayoutModel",
            "_view_count": null,
            "_view_module": "@jupyter-widgets/base",
            "_view_module_version": "1.2.0",
            "_view_name": "LayoutView",
            "align_content": null,
            "align_items": null,
            "align_self": null,
            "border": null,
            "bottom": null,
            "display": null,
            "flex": null,
            "flex_flow": null,
            "grid_area": null,
            "grid_auto_columns": null,
            "grid_auto_flow": null,
            "grid_auto_rows": null,
            "grid_column": null,
            "grid_gap": null,
            "grid_row": null,
            "grid_template_areas": null,
            "grid_template_columns": null,
            "grid_template_rows": null,
            "height": null,
            "justify_content": null,
            "justify_items": null,
            "left": null,
            "margin": null,
            "max_height": null,
            "max_width": null,
            "min_height": null,
            "min_width": null,
            "object_fit": null,
            "object_position": null,
            "order": null,
            "overflow": null,
            "overflow_x": null,
            "overflow_y": null,
            "padding": null,
            "right": null,
            "top": null,
            "visibility": null,
            "width": null
          }
        },
        "2ebbe2b1d01c4fe4aa3e26faf143f4b0": {
          "model_module": "@jupyter-widgets/controls",
          "model_name": "TabModel",
          "model_module_version": "1.5.0",
          "state": {
            "_dom_classes": [],
            "_model_module": "@jupyter-widgets/controls",
            "_model_module_version": "1.5.0",
            "_model_name": "TabModel",
            "_titles": {
              "0": "Youtube",
              "1": "Bilibili"
            },
            "_view_count": null,
            "_view_module": "@jupyter-widgets/controls",
            "_view_module_version": "1.5.0",
            "_view_name": "TabView",
            "box_style": "",
            "children": [
              "IPY_MODEL_dfdab4e42d8c435da9af7ea1f782a1bf",
              "IPY_MODEL_322d78d4b4d24c1c99e7f7388950bb14"
            ],
            "layout": "IPY_MODEL_c75b43a9af8e487c82711f2dbd0804b9",
            "selected_index": 0
          }
        },
        "dfdab4e42d8c435da9af7ea1f782a1bf": {
          "model_module": "@jupyter-widgets/output",
          "model_name": "OutputModel",
          "model_module_version": "1.0.0",
          "state": {
            "_dom_classes": [],
            "_model_module": "@jupyter-widgets/output",
            "_model_module_version": "1.0.0",
            "_model_name": "OutputModel",
            "_view_count": null,
            "_view_module": "@jupyter-widgets/output",
            "_view_module_version": "1.0.0",
            "_view_name": "OutputView",
            "layout": "IPY_MODEL_44a728aa59694ae18f258c7cba311858",
            "msg_id": "",
            "outputs": [
              {
                "output_type": "stream",
                "name": "stdout",
                "text": [
                  "Video available at https://youtube.com/watch?v=mhVbJ74upnQ\n"
                ]
              },
              {
                "output_type": "display_data",
                "data": {
                  "text/plain": "<IPython.lib.display.YouTubeVideo at 0x7907817e05d0>",
                  "text/html": "\n        <iframe\n            width=\"854\"\n            height=\"480\"\n            src=\"https://www.youtube.com/embed/mhVbJ74upnQ?fs=1&rel=0\"\n            frameborder=\"0\"\n            allowfullscreen\n            \n        ></iframe>\n        ",
                  "image/jpeg": "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\n"
                },
                "metadata": {}
              }
            ]
          }
        },
        "322d78d4b4d24c1c99e7f7388950bb14": {
          "model_module": "@jupyter-widgets/output",
          "model_name": "OutputModel",
          "model_module_version": "1.0.0",
          "state": {
            "_dom_classes": [],
            "_model_module": "@jupyter-widgets/output",
            "_model_module_version": "1.0.0",
            "_model_name": "OutputModel",
            "_view_count": null,
            "_view_module": "@jupyter-widgets/output",
            "_view_module_version": "1.0.0",
            "_view_name": "OutputView",
            "layout": "IPY_MODEL_c330e0ef01144b1bb3775c2eb3881cc7",
            "msg_id": "",
            "outputs": [
              {
                "output_type": "stream",
                "name": "stdout",
                "text": [
                  "Video available at https://www.bilibili.com/video/BV1YL411H7Dv\n"
                ]
              },
              {
                "output_type": "display_data",
                "data": {
                  "text/plain": "<__main__.PlayVideo at 0x79078179ed90>",
                  "text/html": "\n        <iframe\n            width=\"854\"\n            height=\"480\"\n            src=\"https://player.bilibili.com/player.html?bvid=BV1YL411H7Dv&page=1?fs=1&autoplay=False\"\n            frameborder=\"0\"\n            allowfullscreen\n            \n        ></iframe>\n        "
                },
                "metadata": {}
              }
            ]
          }
        },
        "c75b43a9af8e487c82711f2dbd0804b9": {
          "model_module": "@jupyter-widgets/base",
          "model_name": "LayoutModel",
          "model_module_version": "1.2.0",
          "state": {
            "_model_module": "@jupyter-widgets/base",
            "_model_module_version": "1.2.0",
            "_model_name": "LayoutModel",
            "_view_count": null,
            "_view_module": "@jupyter-widgets/base",
            "_view_module_version": "1.2.0",
            "_view_name": "LayoutView",
            "align_content": null,
            "align_items": null,
            "align_self": null,
            "border": null,
            "bottom": null,
            "display": null,
            "flex": null,
            "flex_flow": null,
            "grid_area": null,
            "grid_auto_columns": null,
            "grid_auto_flow": null,
            "grid_auto_rows": null,
            "grid_column": null,
            "grid_gap": null,
            "grid_row": null,
            "grid_template_areas": null,
            "grid_template_columns": null,
            "grid_template_rows": null,
            "height": null,
            "justify_content": null,
            "justify_items": null,
            "left": null,
            "margin": null,
            "max_height": null,
            "max_width": null,
            "min_height": null,
            "min_width": null,
            "object_fit": null,
            "object_position": null,
            "order": null,
            "overflow": null,
            "overflow_x": null,
            "overflow_y": null,
            "padding": null,
            "right": null,
            "top": null,
            "visibility": null,
            "width": null
          }
        },
        "44a728aa59694ae18f258c7cba311858": {
          "model_module": "@jupyter-widgets/base",
          "model_name": "LayoutModel",
          "model_module_version": "1.2.0",
          "state": {
            "_model_module": "@jupyter-widgets/base",
            "_model_module_version": "1.2.0",
            "_model_name": "LayoutModel",
            "_view_count": null,
            "_view_module": "@jupyter-widgets/base",
            "_view_module_version": "1.2.0",
            "_view_name": "LayoutView",
            "align_content": null,
            "align_items": null,
            "align_self": null,
            "border": null,
            "bottom": null,
            "display": null,
            "flex": null,
            "flex_flow": null,
            "grid_area": null,
            "grid_auto_columns": null,
            "grid_auto_flow": null,
            "grid_auto_rows": null,
            "grid_column": null,
            "grid_gap": null,
            "grid_row": null,
            "grid_template_areas": null,
            "grid_template_columns": null,
            "grid_template_rows": null,
            "height": null,
            "justify_content": null,
            "justify_items": null,
            "left": null,
            "margin": null,
            "max_height": null,
            "max_width": null,
            "min_height": null,
            "min_width": null,
            "object_fit": null,
            "object_position": null,
            "order": null,
            "overflow": null,
            "overflow_x": null,
            "overflow_y": null,
            "padding": null,
            "right": null,
            "top": null,
            "visibility": null,
            "width": null
          }
        },
        "c330e0ef01144b1bb3775c2eb3881cc7": {
          "model_module": "@jupyter-widgets/base",
          "model_name": "LayoutModel",
          "model_module_version": "1.2.0",
          "state": {
            "_model_module": "@jupyter-widgets/base",
            "_model_module_version": "1.2.0",
            "_model_name": "LayoutModel",
            "_view_count": null,
            "_view_module": "@jupyter-widgets/base",
            "_view_module_version": "1.2.0",
            "_view_name": "LayoutView",
            "align_content": null,
            "align_items": null,
            "align_self": null,
            "border": null,
            "bottom": null,
            "display": null,
            "flex": null,
            "flex_flow": null,
            "grid_area": null,
            "grid_auto_columns": null,
            "grid_auto_flow": null,
            "grid_auto_rows": null,
            "grid_column": null,
            "grid_gap": null,
            "grid_row": null,
            "grid_template_areas": null,
            "grid_template_columns": null,
            "grid_template_rows": null,
            "height": null,
            "justify_content": null,
            "justify_items": null,
            "left": null,
            "margin": null,
            "max_height": null,
            "max_width": null,
            "min_height": null,
            "min_width": null,
            "object_fit": null,
            "object_position": null,
            "order": null,
            "overflow": null,
            "overflow_x": null,
            "overflow_y": null,
            "padding": null,
            "right": null,
            "top": null,
            "visibility": null,
            "width": null
          }
        }
      }
    }
  },
  "nbformat": 4,
  "nbformat_minor": 0
}